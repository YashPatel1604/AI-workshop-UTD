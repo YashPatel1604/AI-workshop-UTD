{
  "nbformat": 4,
  "nbformat_minor": 0,
  "metadata": {
    "colab": {
      "name": "More_on_Numpy.ipynb",
      "provenance": [],
      "collapsed_sections": [],
      "authorship_tag": "ABX9TyMgEzMfld2DnBK4e6Wqvu62",
      "include_colab_link": true
    },
    "kernelspec": {
      "name": "python3",
      "display_name": "Python 3"
    },
    "language_info": {
      "name": "python"
    }
  },
  "cells": [
    {
      "cell_type": "markdown",
      "metadata": {
        "id": "view-in-github",
        "colab_type": "text"
      },
      "source": [
        "<a href=\"https://colab.research.google.com/github/YashPatel1604/AI-workshop-UTD/blob/main/More_on_Numpy.ipynb\" target=\"_parent\"><img src=\"https://colab.research.google.com/assets/colab-badge.svg\" alt=\"Open In Colab\"/></a>"
      ]
    },
    {
      "cell_type": "code",
      "execution_count": null,
      "metadata": {
        "id": "fgdPQy61Nm34"
      },
      "outputs": [],
      "source": [
        "import numpy as np"
      ]
    },
    {
      "cell_type": "code",
      "source": [
        "a = np.random.randint(10,23,size = (4,4))\n",
        "\n",
        "print(a)\n",
        "\n",
        "b = a[::-1,::-1]\n",
        "print(b)\n",
        "\n",
        "b[0][0] = -1221\n",
        "print(\"After a:\", a)"
      ],
      "metadata": {
        "colab": {
          "base_uri": "https://localhost:8080/"
        },
        "id": "HIxWJjo7NzPm",
        "outputId": "4f98703d-7c14-47be-9ea9-9c9fc499e2ac"
      },
      "execution_count": null,
      "outputs": [
        {
          "output_type": "stream",
          "name": "stdout",
          "text": [
            "[[21 12 16 14]\n",
            " [22 21 11 21]\n",
            " [18 11 19 20]\n",
            " [17 11 13 17]]\n",
            "[[17 13 11 17]\n",
            " [20 19 11 18]\n",
            " [21 11 21 22]\n",
            " [14 16 12 21]]\n",
            "After a: [[   21    12    16    14]\n",
            " [   22    21    11    21]\n",
            " [   18    11    19    20]\n",
            " [   17    11    13 -1221]]\n"
          ]
        }
      ]
    },
    {
      "cell_type": "code",
      "source": [
        "c = a.copy()\n",
        "print(c)\n",
        "c[0][0]=1"
      ],
      "metadata": {
        "colab": {
          "base_uri": "https://localhost:8080/"
        },
        "id": "uaSd0dJBN5or",
        "outputId": "ae619c1f-9944-4b3a-c969-5d879608db04"
      },
      "execution_count": null,
      "outputs": [
        {
          "output_type": "stream",
          "name": "stdout",
          "text": [
            "[[   21    12    16    14]\n",
            " [   22    21    11    21]\n",
            " [   18    11    19    20]\n",
            " [   17    11    13 -1221]]\n"
          ]
        }
      ]
    },
    {
      "cell_type": "code",
      "source": [
        "z = np.arange(10)\n",
        "print(z)\n",
        "z[z<z.mean()] = -1\n",
        "print(z)"
      ],
      "metadata": {
        "colab": {
          "base_uri": "https://localhost:8080/"
        },
        "id": "K2KXpkA0PCuw",
        "outputId": "889a67ef-8ff7-4440-cfbd-76dc78f1eb85"
      },
      "execution_count": null,
      "outputs": [
        {
          "output_type": "stream",
          "name": "stdout",
          "text": [
            "[0 1 2 3 4 5 6 7 8 9]\n",
            "[-1 -1 -1 -1 -1  5  6  7  8  9]\n"
          ]
        }
      ]
    },
    {
      "cell_type": "code",
      "source": [
        "print(a)"
      ],
      "metadata": {
        "colab": {
          "base_uri": "https://localhost:8080/"
        },
        "id": "aGG0vceCQq0j",
        "outputId": "e9ee7ad9-04d8-4944-c3e7-2679ba86d992"
      },
      "execution_count": null,
      "outputs": [
        {
          "output_type": "stream",
          "name": "stdout",
          "text": [
            "[[   21    12    16    14]\n",
            " [   22    21    11    21]\n",
            " [   18    11    19    20]\n",
            " [   17    11    13 -1221]]\n"
          ]
        }
      ]
    },
    {
      "cell_type": "code",
      "source": [
        "print(a+b)"
      ],
      "metadata": {
        "colab": {
          "base_uri": "https://localhost:8080/"
        },
        "id": "mPvtavwHRhIZ",
        "outputId": "f561253a-4dd7-4e04-8736-b1b43b67772f"
      },
      "execution_count": null,
      "outputs": [
        {
          "output_type": "stream",
          "name": "stdout",
          "text": [
            "[[-1200    25    27    31]\n",
            " [   42    40    22    39]\n",
            " [   39    22    40    42]\n",
            " [   31    27    25 -1200]]\n"
          ]
        }
      ]
    },
    {
      "cell_type": "code",
      "source": [
        "print(a-b)"
      ],
      "metadata": {
        "colab": {
          "base_uri": "https://localhost:8080/"
        },
        "id": "PqL_yhmeSS3y",
        "outputId": "30e2182c-ca62-4c85-b899-cb914819aed9"
      },
      "execution_count": null,
      "outputs": [
        {
          "output_type": "stream",
          "name": "stdout",
          "text": [
            "[[ 1242    -1     5    -3]\n",
            " [    2     2     0     3]\n",
            " [   -3     0    -2    -2]\n",
            " [    3    -5     1 -1242]]\n"
          ]
        }
      ]
    },
    {
      "cell_type": "code",
      "source": [
        "print(a*b)"
      ],
      "metadata": {
        "colab": {
          "base_uri": "https://localhost:8080/"
        },
        "id": "LmAfHcU-ST7J",
        "outputId": "1d9fe0e5-36c9-4d27-9224-5e8dd67ae7cb"
      },
      "execution_count": null,
      "outputs": [
        {
          "output_type": "stream",
          "name": "stdout",
          "text": [
            "[[-25641    156    176    238]\n",
            " [   440    399    121    378]\n",
            " [   378    121    399    440]\n",
            " [   238    176    156 -25641]]\n"
          ]
        }
      ]
    },
    {
      "cell_type": "code",
      "source": [
        "print(a%b)"
      ],
      "metadata": {
        "colab": {
          "base_uri": "https://localhost:8080/"
        },
        "id": "yjpqWnVBSU1G",
        "outputId": "88a14d79-7d66-4265-b335-de043d62f66d"
      },
      "execution_count": null,
      "outputs": [
        {
          "output_type": "stream",
          "name": "stdout",
          "text": [
            "[[-1200    12     5    14]\n",
            " [    2     2     0     3]\n",
            " [   18     0    19    20]\n",
            " [    3    11     1    18]]\n"
          ]
        }
      ]
    },
    {
      "cell_type": "code",
      "source": [
        "print(a.T)"
      ],
      "metadata": {
        "colab": {
          "base_uri": "https://localhost:8080/"
        },
        "id": "es4QHvWtSWil",
        "outputId": "9c4bce49-aab5-45af-e1cd-8305da278349"
      },
      "execution_count": null,
      "outputs": [
        {
          "output_type": "stream",
          "name": "stdout",
          "text": [
            "[[   21    22    18    17]\n",
            " [   12    21    11    11]\n",
            " [   16    11    19    13]\n",
            " [   14    21    20 -1221]]\n"
          ]
        }
      ]
    },
    {
      "cell_type": "code",
      "source": [
        "print(a)"
      ],
      "metadata": {
        "colab": {
          "base_uri": "https://localhost:8080/"
        },
        "id": "oxS-WA5JShdG",
        "outputId": "a566360c-ef7f-4b50-b05a-520ec6989c4b"
      },
      "execution_count": null,
      "outputs": [
        {
          "output_type": "stream",
          "name": "stdout",
          "text": [
            "[[   21    12    16    14]\n",
            " [   22    21    11    21]\n",
            " [   18    11    19    20]\n",
            " [   17    11    13 -1221]]\n"
          ]
        }
      ]
    },
    {
      "cell_type": "code",
      "source": [
        "a = np.random.randint(10,80,size=(3,2))\n",
        "b = np.random.randint(10,80,size=(2,3))"
      ],
      "metadata": {
        "id": "2bJsQukjSmy3"
      },
      "execution_count": null,
      "outputs": []
    },
    {
      "cell_type": "code",
      "source": [
        "print(a)\n",
        "print(b)"
      ],
      "metadata": {
        "colab": {
          "base_uri": "https://localhost:8080/"
        },
        "id": "_OE4OSneT7Ew",
        "outputId": "8108303c-2bbc-40a3-ec14-cd364d3790d3"
      },
      "execution_count": null,
      "outputs": [
        {
          "output_type": "stream",
          "name": "stdout",
          "text": [
            "[[66 51]\n",
            " [71 42]\n",
            " [22 55]]\n",
            "[[70 47 53]\n",
            " [46 74 67]]\n"
          ]
        }
      ]
    },
    {
      "cell_type": "code",
      "source": [
        "print(a.dot(b))\n",
        "print(b.dot(a))"
      ],
      "metadata": {
        "colab": {
          "base_uri": "https://localhost:8080/"
        },
        "id": "6m5oRrMlT8hM",
        "outputId": "ceef825e-d1c4-41e2-a9ca-126209c1add5"
      },
      "execution_count": null,
      "outputs": [
        {
          "output_type": "stream",
          "name": "stdout",
          "text": [
            "[[6966 6876 6915]\n",
            " [6902 6445 6577]\n",
            " [4070 5104 4851]]\n",
            "[[9123 8459]\n",
            " [9764 9139]]\n"
          ]
        }
      ]
    },
    {
      "cell_type": "code",
      "source": [
        "print(a@b)\n",
        "print(b@a)"
      ],
      "metadata": {
        "colab": {
          "base_uri": "https://localhost:8080/"
        },
        "id": "y6ijSkOvUQUH",
        "outputId": "b63b5e53-510a-4132-eb69-d6e2a326b97c"
      },
      "execution_count": null,
      "outputs": [
        {
          "output_type": "stream",
          "name": "stdout",
          "text": [
            "[[6966 6876 6915]\n",
            " [6902 6445 6577]\n",
            " [4070 5104 4851]]\n",
            "[[9123 8459]\n",
            " [9764 9139]]\n"
          ]
        }
      ]
    },
    {
      "cell_type": "code",
      "source": [
        "print(np.matmul(a,b))"
      ],
      "metadata": {
        "colab": {
          "base_uri": "https://localhost:8080/"
        },
        "id": "rp-pihxyVPaL",
        "outputId": "d838a748-ab2b-476d-984a-175e5a55d66a"
      },
      "execution_count": null,
      "outputs": [
        {
          "output_type": "stream",
          "name": "stdout",
          "text": [
            "[[6966 6876 6915]\n",
            " [6902 6445 6577]\n",
            " [4070 5104 4851]]\n"
          ]
        }
      ]
    },
    {
      "cell_type": "code",
      "source": [
        ""
      ],
      "metadata": {
        "id": "cjMBPTIXWXlA"
      },
      "execution_count": null,
      "outputs": []
    }
  ]
}