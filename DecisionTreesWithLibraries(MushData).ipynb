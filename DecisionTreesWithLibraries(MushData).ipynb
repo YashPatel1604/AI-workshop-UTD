{
  "nbformat": 4,
  "nbformat_minor": 0,
  "metadata": {
    "colab": {
      "name": "DecisionTreesWithLibraries(MushData).ipynb",
      "provenance": [],
      "collapsed_sections": [],
      "authorship_tag": "ABX9TyMiv92aRv+lZezLmyyoZam9",
      "include_colab_link": true
    },
    "kernelspec": {
      "name": "python3",
      "display_name": "Python 3"
    },
    "language_info": {
      "name": "python"
    }
  },
  "cells": [
    {
      "cell_type": "markdown",
      "metadata": {
        "id": "view-in-github",
        "colab_type": "text"
      },
      "source": [
        "<a href=\"https://colab.research.google.com/github/YashPatel1604/AI-workshop-UTD/blob/main/DecisionTreesWithLibraries(MushData).ipynb\" target=\"_parent\"><img src=\"https://colab.research.google.com/assets/colab-badge.svg\" alt=\"Open In Colab\"/></a>"
      ]
    },
    {
      "cell_type": "code",
      "execution_count": 54,
      "metadata": {
        "id": "gY0FNzAaMNwx"
      },
      "outputs": [],
      "source": [
        "from sklearn import tree\n",
        "import numpy as np\n",
        "import pandas as pd\n",
        "from sklearn import preprocessing"
      ]
    },
    {
      "cell_type": "code",
      "source": [
        "train_mush = pd.read_csv('mush_train.data', header = None)\n",
        "test_mush = pd.read_csv('mush_test.data', header = None)\n",
        "train_mush = train_mush.to_numpy()\n",
        "test_mush = test_mush.to_numpy()\n",
        "X_train = train_mush[:,1:]\n",
        "Y_train = train_mush[:,0]\n",
        "X_test = test_mush[:,1:]\n",
        "Y_test = test_mush[:,0]"
      ],
      "metadata": {
        "id": "F0bNnQneMrCb"
      },
      "execution_count": 156,
      "outputs": []
    },
    {
      "cell_type": "code",
      "source": [
        "for col in range(X_train.shape[1]):\n",
        "  le = preprocessing.LabelEncoder()\n",
        "  le.fit(X_train[:,col])\n",
        "  X_train[:,col] = le.transform(X_train[:,col])\n",
        "  X_test[:,col] = le.transform(X_test[:,col])\n",
        "\n",
        "le = preprocessing.LabelEncoder()\n",
        "le.fit(Y_train)\n",
        "Y_train = le.transform(Y_train)\n",
        "Y_test = le.transform(Y_test)\n"
      ],
      "metadata": {
        "id": "UU8RJPVdPl2q"
      },
      "execution_count": 100,
      "outputs": []
    },
    {
      "cell_type": "code",
      "source": [
        "clf = tree.DecisionTreeClassifier(criterion = 'entropy')"
      ],
      "metadata": {
        "id": "Z-JIkr_eMXwJ"
      },
      "execution_count": 139,
      "outputs": []
    },
    {
      "cell_type": "code",
      "source": [
        "clf = clf.fit(X_train, Y_train)"
      ],
      "metadata": {
        "id": "LoaMDik_Mo4g"
      },
      "execution_count": 140,
      "outputs": []
    },
    {
      "cell_type": "code",
      "source": [
        "predict = clf.predict(X_test)"
      ],
      "metadata": {
        "id": "hlqMt04BMqSk"
      },
      "execution_count": 141,
      "outputs": []
    },
    {
      "cell_type": "code",
      "source": [
        "predict = le.inverse_transform(predict)\n",
        "# Y_test = le.inverse_transform(Y_test)"
      ],
      "metadata": {
        "id": "3Kf3uUWGqoCT"
      },
      "execution_count": 142,
      "outputs": []
    },
    {
      "cell_type": "code",
      "source": [
        "predict"
      ],
      "metadata": {
        "colab": {
          "base_uri": "https://localhost:8080/"
        },
        "id": "Xb3YOPPhq47j",
        "outputId": "c2b2c71e-ac5f-4078-f84f-8424b6810257"
      },
      "execution_count": 143,
      "outputs": [
        {
          "output_type": "execute_result",
          "data": {
            "text/plain": [
              "array(['p', 'p', 'p', ..., 'p', 'e', 'p'], dtype=object)"
            ]
          },
          "metadata": {},
          "execution_count": 143
        }
      ]
    },
    {
      "cell_type": "code",
      "source": [
        "accuracy_count = 0\n",
        "for i in range(len(predict)):\n",
        "  if predict[i] == Y_test[i]:\n",
        "    accuracy_count += 1\n",
        "  else:\n",
        "    pass"
      ],
      "metadata": {
        "id": "cRGpMzcTrAdG"
      },
      "execution_count": 144,
      "outputs": []
    },
    {
      "cell_type": "code",
      "source": [
        "accuracy_count/len(predict)*100"
      ],
      "metadata": {
        "colab": {
          "base_uri": "https://localhost:8080/"
        },
        "id": "qlbbRfjQrVZV",
        "outputId": "479a2c89-ab0c-4798-9c83-ccea0909b3c1"
      },
      "execution_count": 152,
      "outputs": [
        {
          "output_type": "execute_result",
          "data": {
            "text/plain": [
              "100.0"
            ]
          },
          "metadata": {},
          "execution_count": 152
        }
      ]
    },
    {
      "cell_type": "code",
      "source": [
        "tree.plot_tree(clf)"
      ],
      "metadata": {
        "colab": {
          "base_uri": "https://localhost:8080/",
          "height": 682
        },
        "id": "rjFRzil4tZSu",
        "outputId": "79b203ff-86cb-437c-ef0b-c3d096799171"
      },
      "execution_count": 146,
      "outputs": [
        {
          "output_type": "execute_result",
          "data": {
            "text/plain": [
              "[Text(0.3076923076923077, 0.9375, 'X[8] <= 0.5\\nentropy = 0.999\\nsamples = 4712\\nvalue = [2434, 2278]'),\n",
              " Text(0.23076923076923078, 0.8125, 'entropy = 0.0\\nsamples = 1026\\nvalue = [0, 1026]'),\n",
              " Text(0.38461538461538464, 0.8125, 'X[19] <= 1.5\\nentropy = 0.924\\nsamples = 3686\\nvalue = [2434, 1252]'),\n",
              " Text(0.15384615384615385, 0.6875, 'X[10] <= 1.5\\nentropy = 0.289\\nsamples = 949\\nvalue = [48, 901]'),\n",
              " Text(0.07692307692307693, 0.5625, 'entropy = 0.0\\nsamples = 901\\nvalue = [0, 901]'),\n",
              " Text(0.23076923076923078, 0.5625, 'entropy = 0.0\\nsamples = 48\\nvalue = [48, 0]'),\n",
              " Text(0.6153846153846154, 0.6875, 'X[7] <= 0.5\\nentropy = 0.553\\nsamples = 2737\\nvalue = [2386, 351]'),\n",
              " Text(0.38461538461538464, 0.5625, 'X[19] <= 4.5\\nentropy = 0.174\\nsamples = 2299\\nvalue = [2239, 60]'),\n",
              " Text(0.3076923076923077, 0.4375, 'entropy = 0.0\\nsamples = 1924\\nvalue = [1924, 0]'),\n",
              " Text(0.46153846153846156, 0.4375, 'X[10] <= 2.0\\nentropy = 0.634\\nsamples = 375\\nvalue = [315, 60]'),\n",
              " Text(0.38461538461538464, 0.3125, 'X[21] <= 3.5\\nentropy = 0.839\\nsamples = 82\\nvalue = [22, 60]'),\n",
              " Text(0.3076923076923077, 0.1875, 'X[20] <= 4.5\\nentropy = 0.391\\nsamples = 65\\nvalue = [5, 60]'),\n",
              " Text(0.23076923076923078, 0.0625, 'entropy = 0.0\\nsamples = 60\\nvalue = [0, 60]'),\n",
              " Text(0.38461538461538464, 0.0625, 'entropy = 0.0\\nsamples = 5\\nvalue = [5, 0]'),\n",
              " Text(0.46153846153846156, 0.1875, 'entropy = 0.0\\nsamples = 17\\nvalue = [17, 0]'),\n",
              " Text(0.5384615384615384, 0.3125, 'entropy = 0.0\\nsamples = 293\\nvalue = [293, 0]'),\n",
              " Text(0.8461538461538461, 0.5625, 'X[4] <= 5.5\\nentropy = 0.921\\nsamples = 438\\nvalue = [147, 291]'),\n",
              " Text(0.7692307692307693, 0.4375, 'X[20] <= 3.5\\nentropy = 0.999\\nsamples = 286\\nvalue = [147, 139]'),\n",
              " Text(0.6923076923076923, 0.3125, 'entropy = 0.0\\nsamples = 74\\nvalue = [0, 74]'),\n",
              " Text(0.8461538461538461, 0.3125, 'X[21] <= 1.0\\nentropy = 0.889\\nsamples = 212\\nvalue = [147, 65]'),\n",
              " Text(0.7692307692307693, 0.1875, 'X[3] <= 0.5\\nentropy = 0.994\\nsamples = 119\\nvalue = [54, 65]'),\n",
              " Text(0.6923076923076923, 0.0625, 'entropy = 0.0\\nsamples = 65\\nvalue = [0, 65]'),\n",
              " Text(0.8461538461538461, 0.0625, 'entropy = 0.0\\nsamples = 54\\nvalue = [54, 0]'),\n",
              " Text(0.9230769230769231, 0.1875, 'entropy = 0.0\\nsamples = 93\\nvalue = [93, 0]'),\n",
              " Text(0.9230769230769231, 0.4375, 'entropy = 0.0\\nsamples = 152\\nvalue = [0, 152]')]"
            ]
          },
          "metadata": {},
          "execution_count": 146
        },
        {
          "output_type": "display_data",
          "data": {
            "text/plain": [
              "<Figure size 432x288 with 1 Axes>"
            ],
            "image/png": "[encoded data removed]"
          },
          "metadata": {
            "needs_background": "light"
          }
        }
      ]
    },
    {
      "cell_type": "code",
      "source": [
        "clf.tree_.max_depth"
      ],
      "metadata": {
        "colab": {
          "base_uri": "https://localhost:8080/"
        },
        "id": "xgkICi37uqpU",
        "outputId": "ee661664-415a-41b0-f96f-0e196206c524"
      },
      "execution_count": 147,
      "outputs": [
        {
          "output_type": "execute_result",
          "data": {
            "text/plain": [
              "7"
            ]
          },
          "metadata": {},
          "execution_count": 147
        }
      ]
    }
  ]
}