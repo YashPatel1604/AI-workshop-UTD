{
  "nbformat": 4,
  "nbformat_minor": 0,
  "metadata": {
    "colab": {
      "name": "Perceptron_From_Scratch.ipynb",
      "provenance": [],
      "collapsed_sections": [],
      "authorship_tag": "ABX9TyPTaxa7IFxuztV7fZSggWL/",
      "include_colab_link": true
    },
    "kernelspec": {
      "name": "python3",
      "display_name": "Python 3"
    },
    "language_info": {
      "name": "python"
    }
  },
  "cells": [
    {
      "cell_type": "markdown",
      "metadata": {
        "id": "view-in-github",
        "colab_type": "text"
      },
      "source": [
        "<a href=\"https://colab.research.google.com/github/YashPatel1604/AI-workshop-UTD/blob/main/Perceptron_From_Scratch.ipynb\" target=\"_parent\"><img src=\"https://colab.research.google.com/assets/colab-badge.svg\" alt=\"Open In Colab\"/></a>"
      ]
    },
    {
      "cell_type": "code",
      "execution_count": null,
      "metadata": {
        "id": "svZBcTzclDip"
      },
      "outputs": [],
      "source": [
        "import numpy as np\n",
        "import pandas as pd\n",
        "from sklearn.model_selection import train_test_split"
      ]
    },
    {
      "cell_type": "code",
      "source": [
        "data = pd.read_csv('perceptron.data',names = ['x1','x2','x3','x4','y'])"
      ],
      "metadata": {
        "id": "zMlkUxHflHuX"
      },
      "execution_count": null,
      "outputs": []
    },
    {
      "cell_type": "code",
      "source": [
        "from pandas.core.frame import DataFrame\n",
        "def split_data(df,size):\n",
        "  train_data,test_data = train_test_split(df,test_size=size,random_state=50)\n",
        "  train_data.reset_index(inplace=True,drop=True)\n",
        "  test_data.reset_index(inplace=True,drop=True)\n",
        "  return train_data,test_data\n",
        "\n",
        "def getXandY(df):\n",
        "  X = df.iloc[:,:-1].values\n",
        "  Y = df.iloc[:,-1].values\n",
        "  return X,Y\n",
        "\n",
        "def _hypothesis(X,w,b):\n",
        "  return np.dot(X,w) + b\n",
        "\n",
        "\n",
        "def _loss(X,Y,w,b):\n",
        " loss = (-Y* _hypothesis(X,w,b))\n",
        " loss[loss>=0] = 1;loss[loss<0]=0\n",
        " return loss\n",
        "\n",
        "def gradient(X,Y,w0,b0,alpha):\n",
        "  w_t=w0\n",
        "  b_t=b0\n",
        "  it = 1\n",
        "\n",
        "  loss = _loss(X,Y,w_t,b_t)\n",
        "  no_of_errors = sum(loss)\n",
        "\n",
        "  while (no_of_errors!=0):\n",
        "    delta_w,delta_b=0,0\n",
        "    for i in range(X.shape[0]):\n",
        "        delta_w += Y[i]*X[i]*loss[i]\n",
        "        delta_b += Y[i]*loss[i]\n",
        "      \n",
        "    w_t1 = w_t+alpha*delta_w\n",
        "    b_t1 = b_t+alpha*delta_b\n",
        "\n",
        "\n",
        "    loss = _loss(X,Y,w_t1,b_t1)\n",
        "    no_of_errors = sum(loss)\n",
        "    it+=1\n",
        "    w_t = w_t1\n",
        "    b_t = b_t1\n",
        "  return w_t,b_t,it"
      ],
      "metadata": {
        "id": "dQUDLpHIpqrt"
      },
      "execution_count": null,
      "outputs": []
    },
    {
      "cell_type": "code",
      "source": [
        "train,test = split_data(data,0.05)\n",
        "X_train,Y_train = getXandY(train)\n",
        "X_test,Y_test = getXandY(test)"
      ],
      "metadata": {
        "id": "E_OPv3kvPtGm"
      },
      "execution_count": null,
      "outputs": []
    },
    {
      "cell_type": "code",
      "source": [
        "train.head()"
      ],
      "metadata": {
        "colab": {
          "base_uri": "https://localhost:8080/",
          "height": 206
        },
        "id": "PmTl1sqfABhG",
        "outputId": "18debb7e-2c87-496e-d1d6-27d6ee36e551"
      },
      "execution_count": null,
      "outputs": [
        {
          "output_type": "execute_result",
          "data": {
            "text/plain": [
              "         x1        x2        x3        x4  y\n",
              "0 -3.346659 -4.534682  4.733045  4.272537 -1\n",
              "1  1.910543 -1.215395  2.295501  0.517158 -1\n",
              "2  1.181056 -0.500151  1.160786 -4.508556  1\n",
              "3  0.324276 -4.252687  0.470662 -0.812496 -1\n",
              "4 -0.037578 -4.929516 -0.078412 -4.392877  1"
            ],
            "text/html": [
              "\n",
              "  <div id=\"df-3ac939bc-a3ee-4804-a6e4-5b4ffb48e011\">\n",
              "    <div class=\"colab-df-container\">\n",
              "      <div>\n",
              "<style scoped>\n",
              "    .dataframe tbody tr th:only-of-type {\n",
              "        vertical-align: middle;\n",
              "    }\n",
              "\n",
              "    .dataframe tbody tr th {\n",
              "        vertical-align: top;\n",
              "    }\n",
              "\n",
              "    .dataframe thead th {\n",
              "        text-align: right;\n",
              "    }\n",
              "</style>\n",
              "<table border=\"1\" class=\"dataframe\">\n",
              "  <thead>\n",
              "    <tr style=\"text-align: right;\">\n",
              "      <th></th>\n",
              "      <th>x1</th>\n",
              "      <th>x2</th>\n",
              "      <th>x3</th>\n",
              "      <th>x4</th>\n",
              "      <th>y</th>\n",
              "    </tr>\n",
              "  </thead>\n",
              "  <tbody>\n",
              "    <tr>\n",
              "      <th>0</th>\n",
              "      <td>-3.346659</td>\n",
              "      <td>-4.534682</td>\n",
              "      <td>4.733045</td>\n",
              "      <td>4.272537</td>\n",
              "      <td>-1</td>\n",
              "    </tr>\n",
              "    <tr>\n",
              "      <th>1</th>\n",
              "      <td>1.910543</td>\n",
              "      <td>-1.215395</td>\n",
              "      <td>2.295501</td>\n",
              "      <td>0.517158</td>\n",
              "      <td>-1</td>\n",
              "    </tr>\n",
              "    <tr>\n",
              "      <th>2</th>\n",
              "      <td>1.181056</td>\n",
              "      <td>-0.500151</td>\n",
              "      <td>1.160786</td>\n",
              "      <td>-4.508556</td>\n",
              "      <td>1</td>\n",
              "    </tr>\n",
              "    <tr>\n",
              "      <th>3</th>\n",
              "      <td>0.324276</td>\n",
              "      <td>-4.252687</td>\n",
              "      <td>0.470662</td>\n",
              "      <td>-0.812496</td>\n",
              "      <td>-1</td>\n",
              "    </tr>\n",
              "    <tr>\n",
              "      <th>4</th>\n",
              "      <td>-0.037578</td>\n",
              "      <td>-4.929516</td>\n",
              "      <td>-0.078412</td>\n",
              "      <td>-4.392877</td>\n",
              "      <td>1</td>\n",
              "    </tr>\n",
              "  </tbody>\n",
              "</table>\n",
              "</div>\n",
              "      <button class=\"colab-df-convert\" onclick=\"convertToInteractive('df-3ac939bc-a3ee-4804-a6e4-5b4ffb48e011')\"\n",
              "              title=\"Convert this dataframe to an interactive table.\"\n",
              "              style=\"display:none;\">\n",
              "        \n",
              "  <svg xmlns=\"http://www.w3.org/2000/svg\" height=\"24px\"viewBox=\"0 0 24 24\"\n",
              "       width=\"24px\">\n",
              "    <path d=\"M0 0h24v24H0V0z\" fill=\"none\"/>\n",
              "    <path d=\"M18.56 5.44l.94 2.06.94-2.06 2.06-.94-2.06-.94-.94-2.06-.94 2.06-2.06.94zm-11 1L8.5 8.5l.94-2.06 2.06-.94-2.06-.94L8.5 2.5l-.94 2.06-2.06.94zm10 10l.94 2.06.94-2.06 2.06-.94-2.06-.94-.94-2.06-.94 2.06-2.06.94z\"/><path d=\"M17.41 7.96l-1.37-1.37c-.4-.4-.92-.59-1.43-.59-.52 0-1.04.2-1.43.59L10.3 9.45l-7.72 7.72c-.78.78-.78 2.05 0 2.83L4 21.41c.39.39.9.59 1.41.59.51 0 1.02-.2 1.41-.59l7.78-7.78 2.81-2.81c.8-.78.8-2.07 0-2.86zM5.41 20L4 18.59l7.72-7.72 1.47 1.35L5.41 20z\"/>\n",
              "  </svg>\n",
              "      </button>\n",
              "      \n",
              "  <style>\n",
              "    .colab-df-container {\n",
              "      display:flex;\n",
              "      flex-wrap:wrap;\n",
              "      gap: 12px;\n",
              "    }\n",
              "\n",
              "    .colab-df-convert {\n",
              "      background-color: #E8F0FE;\n",
              "      border: none;\n",
              "      border-radius: 50%;\n",
              "      cursor: pointer;\n",
              "      display: none;\n",
              "      fill: #1967D2;\n",
              "      height: 32px;\n",
              "      padding: 0 0 0 0;\n",
              "      width: 32px;\n",
              "    }\n",
              "\n",
              "    .colab-df-convert:hover {\n",
              "      background-color: #E2EBFA;\n",
              "      box-shadow: 0px 1px 2px rgba(60, 64, 67, 0.3), 0px 1px 3px 1px rgba(60, 64, 67, 0.15);\n",
              "      fill: #174EA6;\n",
              "    }\n",
              "\n",
              "    [theme=dark] .colab-df-convert {\n",
              "      background-color: #3B4455;\n",
              "      fill: #D2E3FC;\n",
              "    }\n",
              "\n",
              "    [theme=dark] .colab-df-convert:hover {\n",
              "      background-color: #434B5C;\n",
              "      box-shadow: 0px 1px 3px 1px rgba(0, 0, 0, 0.15);\n",
              "      filter: drop-shadow(0px 1px 2px rgba(0, 0, 0, 0.3));\n",
              "      fill: #FFFFFF;\n",
              "    }\n",
              "  </style>\n",
              "\n",
              "      <script>\n",
              "        const buttonEl =\n",
              "          document.querySelector('#df-3ac939bc-a3ee-4804-a6e4-5b4ffb48e011 button.colab-df-convert');\n",
              "        buttonEl.style.display =\n",
              "          google.colab.kernel.accessAllowed ? 'block' : 'none';\n",
              "\n",
              "        async function convertToInteractive(key) {\n",
              "          const element = document.querySelector('#df-3ac939bc-a3ee-4804-a6e4-5b4ffb48e011');\n",
              "          const dataTable =\n",
              "            await google.colab.kernel.invokeFunction('convertToInteractive',\n",
              "                                                     [key], {});\n",
              "          if (!dataTable) return;\n",
              "\n",
              "          const docLinkHtml = 'Like what you see? Visit the ' +\n",
              "            '<a target=\"_blank\" href=https://colab.research.google.com/notebooks/data_table.ipynb>data table notebook</a>'\n",
              "            + ' to learn more about interactive tables.';\n",
              "          element.innerHTML = '';\n",
              "          dataTable['output_type'] = 'display_data';\n",
              "          await google.colab.output.renderOutput(dataTable, element);\n",
              "          const docLink = document.createElement('div');\n",
              "          docLink.innerHTML = docLinkHtml;\n",
              "          element.appendChild(docLink);\n",
              "        }\n",
              "      </script>\n",
              "    </div>\n",
              "  </div>\n",
              "  "
            ]
          },
          "metadata": {},
          "execution_count": 17
        }
      ]
    },
    {
      "cell_type": "code",
      "source": [
        "og_w = np.ones(train.shape[1]-1)\n",
        "w,b,it = gradient(X_train,Y_train,og_w,1,0.5)\n",
        "print('w: ', w)\n",
        "print('w: ', b)\n",
        "print('Iterations: ', it)\n",
        "ls = _loss(X_test,Y_test,w,b)\n",
        "print('Accuracy: ',100-(sum(ls)/ls.shape[0])*100,'%')"
      ],
      "metadata": {
        "id": "Ux67zFLlj66S"
      },
      "execution_count": null,
      "outputs": []
    },
    {
      "cell_type": "code",
      "source": [
        ""
      ],
      "metadata": {
        "id": "kCFugCCMBv1Z"
      },
      "execution_count": null,
      "outputs": []
    }
  ]
}