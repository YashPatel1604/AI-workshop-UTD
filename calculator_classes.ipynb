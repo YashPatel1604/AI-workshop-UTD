{
  "nbformat": 4,
  "nbformat_minor": 0,
  "metadata": {
    "colab": {
      "name": "calculator_classes.ipynb",
      "provenance": [],
      "collapsed_sections": [],
      "authorship_tag": "ABX9TyM3iz8Td2Hg+SD6XZhTxz50",
      "include_colab_link": true
    },
    "kernelspec": {
      "name": "python3",
      "display_name": "Python 3"
    },
    "language_info": {
      "name": "python"
    }
  },
  "cells": [
    {
      "cell_type": "markdown",
      "metadata": {
        "id": "view-in-github",
        "colab_type": "text"
      },
      "source": [
        "<a href=\"https://colab.research.google.com/github/YashPatel1604/AI-workshop-UTD/blob/main/calculator_classes.ipynb\" target=\"_parent\"><img src=\"https://colab.research.google.com/assets/colab-badge.svg\" alt=\"Open In Colab\"/></a>"
      ]
    },
    {
      "cell_type": "code",
      "execution_count": 9,
      "metadata": {
        "id": "KMpryr_BRoG8"
      },
      "outputs": [],
      "source": [
        "class cal():\n",
        "\n",
        "  def __init__(self,a,b):\n",
        "    self.a = a\n",
        "    self.b = b\n",
        "\n",
        "  def addition(self):\n",
        "    return self.a+self.b\n",
        "\n",
        "  def subtraction(self):\n",
        "    return self.a-self.b\n",
        "\n",
        "  def multiplication(self):\n",
        "    return self.a*self.b\n",
        "\n",
        "  def division(self):\n",
        "    return self.a/self.b"
      ]
    },
    {
      "cell_type": "code",
      "source": [
        "a = int(input(\"Give a number \"))\n",
        "b = int(input(\"Give another number \"))\n",
        "\n",
        "k = cal(a,b)"
      ],
      "metadata": {
        "colab": {
          "base_uri": "https://localhost:8080/"
        },
        "id": "M6gVbVqVR47p",
        "outputId": "88ba04d6-3240-47fa-c930-b9037b81b53f"
      },
      "execution_count": 15,
      "outputs": [
        {
          "name": "stdout",
          "output_type": "stream",
          "text": [
            "Give a number 10\n",
            "Give another number 5\n"
          ]
        }
      ]
    },
    {
      "cell_type": "code",
      "source": [
        "k.addition()"
      ],
      "metadata": {
        "colab": {
          "base_uri": "https://localhost:8080/"
        },
        "id": "jQ4aRoWOS2Sd",
        "outputId": "bbbffd3f-23e8-4cf0-ec65-1a382c915f85"
      },
      "execution_count": 17,
      "outputs": [
        {
          "output_type": "execute_result",
          "data": {
            "text/plain": [
              "15"
            ]
          },
          "metadata": {},
          "execution_count": 17
        }
      ]
    },
    {
      "cell_type": "code",
      "source": [
        "k.subtraction()"
      ],
      "metadata": {
        "colab": {
          "base_uri": "https://localhost:8080/"
        },
        "id": "C7luxfQZTpbe",
        "outputId": "06f4cb4b-a4e1-4ead-d0f0-ef8672f475c8"
      },
      "execution_count": 18,
      "outputs": [
        {
          "output_type": "execute_result",
          "data": {
            "text/plain": [
              "5"
            ]
          },
          "metadata": {},
          "execution_count": 18
        }
      ]
    },
    {
      "cell_type": "code",
      "source": [
        "k.multiplication()"
      ],
      "metadata": {
        "colab": {
          "base_uri": "https://localhost:8080/"
        },
        "id": "A4KlxkayTuub",
        "outputId": "68db17af-3909-45fb-9726-069413268990"
      },
      "execution_count": 19,
      "outputs": [
        {
          "output_type": "execute_result",
          "data": {
            "text/plain": [
              "50"
            ]
          },
          "metadata": {},
          "execution_count": 19
        }
      ]
    },
    {
      "cell_type": "code",
      "source": [
        "k.division()"
      ],
      "metadata": {
        "colab": {
          "base_uri": "https://localhost:8080/"
        },
        "id": "IYTnaVmkTxMi",
        "outputId": "b5a85e52-8033-474b-fc5b-f4448bbd0c20"
      },
      "execution_count": 20,
      "outputs": [
        {
          "output_type": "execute_result",
          "data": {
            "text/plain": [
              "2.0"
            ]
          },
          "metadata": {},
          "execution_count": 20
        }
      ]
    },
    {
      "cell_type": "code",
      "source": [
        ""
      ],
      "metadata": {
        "id": "Mx3uAejNTyfc"
      },
      "execution_count": null,
      "outputs": []
    }
  ]
}