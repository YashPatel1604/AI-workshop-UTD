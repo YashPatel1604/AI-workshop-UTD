{
  "nbformat": 4,
  "nbformat_minor": 0,
  "metadata": {
    "colab": {
      "name": "DecisionStumps.ipynb",
      "provenance": [],
      "collapsed_sections": [],
      "authorship_tag": "ABX9TyPSnRM7JXOx6mkh3L/AtBci",
      "include_colab_link": true
    },
    "kernelspec": {
      "name": "python3",
      "display_name": "Python 3"
    },
    "language_info": {
      "name": "python"
    }
  },
  "cells": [
    {
      "cell_type": "markdown",
      "metadata": {
        "id": "view-in-github",
        "colab_type": "text"
      },
      "source": [
        "<a href=\"https://colab.research.google.com/github/YashPatel1604/AI-workshop-UTD/blob/main/DecisionStumps.ipynb\" target=\"_parent\"><img src=\"https://colab.research.google.com/assets/colab-badge.svg\" alt=\"Open In Colab\"/></a>"
      ]
    },
    {
      "cell_type": "code",
      "execution_count": 1,
      "metadata": {
        "id": "610rFm24LSiI"
      },
      "outputs": [],
      "source": [
        "from sklearn import tree\n",
        "import numpy as np\n",
        "import pandas as pd\n",
        "from sklearn import preprocessing"
      ]
    },
    {
      "cell_type": "code",
      "source": [
        "train_park = pd.read_csv('park_train.data', header = None)\n",
        "test_park = pd.read_csv('park_test.data', header = None)\n",
        "vali_park = pd.read_csv('park_validation.data',header = None)"
      ],
      "metadata": {
        "id": "8AGSv0FJLVP0"
      },
      "execution_count": 2,
      "outputs": []
    },
    {
      "cell_type": "code",
      "source": [
        "train_park = train_park.to_numpy()\n",
        "test_park = test_park.to_numpy()\n",
        "vali_park = vali_park.to_numpy()\n",
        "X_train = train_park[:,1:]\n",
        "Y_train = train_park[:,0]\n",
        "X_test = test_park[:,1:]\n",
        "Y_test = test_park[:,0]\n",
        "X_vali = vali_park[:,1:]\n",
        "Y_vali = vali_park[:,0]"
      ],
      "metadata": {
        "id": "RXkUG7odLfOb"
      },
      "execution_count": 3,
      "outputs": []
    },
    {
      "cell_type": "code",
      "source": [
        "clf_park = tree.DecisionTreeClassifier(criterion = 'entropy',max_depth=1)"
      ],
      "metadata": {
        "id": "sb9eqk0GLgdQ"
      },
      "execution_count": 6,
      "outputs": []
    },
    {
      "cell_type": "code",
      "source": [
        "clf_park = clf_park.fit(X_train, Y_train)"
      ],
      "metadata": {
        "id": "GDTu7VDlLhkg"
      },
      "execution_count": 7,
      "outputs": []
    },
    {
      "cell_type": "code",
      "source": [
        "clf_park.predict(X_vali)"
      ],
      "metadata": {
        "colab": {
          "base_uri": "https://localhost:8080/"
        },
        "id": "9I3soSvkLisN",
        "outputId": "9866c404-48c1-4bd2-80fb-674aff67ca71"
      },
      "execution_count": 8,
      "outputs": [
        {
          "output_type": "execute_result",
          "data": {
            "text/plain": [
              "array([1., 1., 1., 1., 1., 1., 1., 1., 1., 1., 1., 1., 1., 1., 1., 1., 1.,\n",
              "       1., 1., 1., 1., 1., 1., 1., 1., 1., 1., 1., 1., 1., 1., 1., 1., 1.,\n",
              "       1., 1., 1., 1., 1., 1., 1., 1., 1., 1., 1., 1., 1., 1., 1., 1., 1.,\n",
              "       1., 1., 1., 1., 1., 1., 1.])"
            ]
          },
          "metadata": {},
          "execution_count": 8
        }
      ]
    },
    {
      "cell_type": "code",
      "source": [
        "clf_park.score(X_test,Y_test)"
      ],
      "metadata": {
        "colab": {
          "base_uri": "https://localhost:8080/"
        },
        "id": "GdrnWYbJLmWw",
        "outputId": "7b9d4f5e-91d6-4397-b692-f3210ebc234b"
      },
      "execution_count": 9,
      "outputs": [
        {
          "output_type": "execute_result",
          "data": {
            "text/plain": [
              "0.7288135593220338"
            ]
          },
          "metadata": {},
          "execution_count": 9
        }
      ]
    },
    {
      "cell_type": "code",
      "source": [
        ""
      ],
      "metadata": {
        "id": "vvfzFptGLqYB"
      },
      "execution_count": null,
      "outputs": []
    }
  ]
}