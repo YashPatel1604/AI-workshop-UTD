{
  "cells": [
    {
      "cell_type": "markdown",
      "metadata": {
        "id": "view-in-github",
        "colab_type": "text"
      },
      "source": [
        "<a href=\"https://colab.research.google.com/github/YashPatel1604/AI-workshop-UTD/blob/main/rock_paper_scissor.ipynb\" target=\"_parent\"><img src=\"https://colab.research.google.com/assets/colab-badge.svg\" alt=\"Open In Colab\"/></a>"
      ]
    },
    {
      "cell_type": "code",
      "execution_count": 1,
      "metadata": {
        "id": "jeTrQFeo97kI"
      },
      "outputs": [],
      "source": [
        "import random\n",
        "\n",
        "def like_to_continue():\n",
        "  while True:\n",
        "    str1 = input(\"Do you want to continue? (Y/N)\")\n",
        "    if(str1 == 'n' or str1 == 'N'):\n",
        "      return False\n",
        "      break\n",
        "    elif(str1 == 'y' or str1 == 'Y'):\n",
        "      return True\n",
        "      break\n",
        "    else:\n",
        "      print(\"Pls enter y or n\")\n",
        "      continue\n",
        "      \n",
        "\n",
        "\n",
        "def rock_paper_scissor():\n",
        "\n",
        "  print(\"Welcome to Rock Paper Scissor\")\n",
        "  continue_true = True\n",
        "  while continue_true == True:\n",
        "    inputvalid = False\n",
        "    while inputvalid == False:\n",
        "        print(\"\")\n",
        "        print(\"1. Rock = r\")\n",
        "        print(\"2. Paper = p\")\n",
        "        print(\"3. Scissors = s\")\n",
        "        userchoice = input()\n",
        "        userchoice.lower()\n",
        "        if userchoice == 's' or userchoice == 'p' or userchoice == 'r':\n",
        "          inputvalid = True\n",
        "\n",
        "        else:\n",
        "          print(\"Please enter valid input\")\n",
        "          print(\"\")\n",
        "          inputvalid = False\n",
        "\n",
        "    compchoice = random.choice([1,2,3])\n",
        "\n",
        "    if(compchoice == 1):\n",
        "      print(\"Computer choose Rock\")\n",
        "\n",
        "    elif(compchoice == 2):\n",
        "      print(\"Computer choose Paper\")\n",
        "\n",
        "    else:\n",
        "      print(\"Computer choose Scissor\")\n",
        "\n",
        "    if(compchoice ==1 ):\n",
        "      if (userchoice == 'r'):\n",
        "        print(\"Draw\")\n",
        "\n",
        "      elif (userchoice == 'p'):\n",
        "        print(\"You win\")\n",
        "\n",
        "      elif (userchoice == 's'):\n",
        "        print(\"You lose\")\n",
        "\n",
        "    elif (compchoice == 2):\n",
        "      if (userchoice == 'r'):\n",
        "        print(\"You lose\")\n",
        "\n",
        "      elif (userchoice == 'p'):\n",
        "        print(\"Draw\")\n",
        "\n",
        "      elif (userchoice == 's'):\n",
        "        print(\"You win\")\n",
        "\n",
        "    elif (compchoice == 3):\n",
        "      if (userchoice == 'r'):\n",
        "        print(\"You win\")\n",
        "\n",
        "      elif (userchoice == 'p'):\n",
        "        print(\"You lose\")\n",
        "\n",
        "      elif (userchoice == 's'):\n",
        "        print(\"Draw\")\n",
        "\n",
        "    else:\n",
        "      print(\"Some error has occured. Pls retry\")\n",
        "\n",
        "    continue_true = like_to_continue()\n",
        "    "
      ]
    },
    {
      "cell_type": "code",
      "execution_count": null,
      "metadata": {
        "id": "GTmQgNOAAtPE"
      },
      "outputs": [],
      "source": [
        "rock_paper_scissor()"
      ]
    },
    {
      "cell_type": "code",
      "execution_count": null,
      "metadata": {
        "id": "8gqL7ZTBFzp8"
      },
      "outputs": [],
      "source": [
        ""
      ]
    }
  ],
  "metadata": {
    "colab": {
      "collapsed_sections": [],
      "name": "rock_paper_scissor.ipynb",
      "provenance": [],
      "authorship_tag": "ABX9TyMJZlFoq4OYiK6I7kpnZfeG",
      "include_colab_link": true
    },
    "kernelspec": {
      "display_name": "Python 3",
      "name": "python3"
    },
    "language_info": {
      "name": "python"
    }
  },
  "nbformat": 4,
  "nbformat_minor": 0
}