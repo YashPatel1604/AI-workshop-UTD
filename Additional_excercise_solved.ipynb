{
  "nbformat": 4,
  "nbformat_minor": 0,
  "metadata": {
    "colab": {
      "name": "Additional_excercise_solved.ipynb",
      "provenance": [],
      "collapsed_sections": [
        "q_UqDkVIXeTN",
        "be3WDfCJXeTO",
        "Ryv0tvKKXeTW",
        "kSH6yTghXeTX"
      ],
      "include_colab_link": true
    },
    "kernelspec": {
      "name": "python3",
      "display_name": "Python 3"
    },
    "language_info": {
      "name": "python"
    }
  },
  "cells": [
    {
      "cell_type": "markdown",
      "metadata": {
        "id": "view-in-github",
        "colab_type": "text"
      },
      "source": [
        "<a href=\"https://colab.research.google.com/github/YashPatel1604/AI-workshop-UTD/blob/main/Additional_excercise_solved.ipynb\" target=\"_parent\"><img src=\"https://colab.research.google.com/assets/colab-badge.svg\" alt=\"Open In Colab\"/></a>"
      ]
    },
    {
      "cell_type": "code",
      "source": [
        "import numpy as np\n",
        "\n",
        "a = np.array([[1,2,3],[4,5,6]])\n",
        "b = a.flat[3]\n",
        "print(b)"
      ],
      "metadata": {
        "colab": {
          "base_uri": "https://localhost:8080/"
        },
        "id": "iC2ugqMAj6Ug",
        "outputId": "f96a23f4-e7ed-41bd-a9d5-737c2f878b12"
      },
      "execution_count": null,
      "outputs": [
        {
          "output_type": "stream",
          "name": "stdout",
          "text": [
            "4\n"
          ]
        }
      ]
    },
    {
      "cell_type": "markdown",
      "metadata": {
        "id": "q_UqDkVIXeTN"
      },
      "source": [
        "![purple-divider](https://user-images.githubusercontent.com/7065401/52071927-c1cd7100-2562-11e9-908a-dde91ba14e59.png)\n",
        "\n",
        "## Additional excercise"
      ]
    },
    {
      "cell_type": "markdown",
      "metadata": {
        "id": "be3WDfCJXeTO"
      },
      "source": [
        "###Create a 2d array, sort the array by a given row"
      ]
    },
    {
      "cell_type": "markdown",
      "source": [
        ""
      ],
      "metadata": {
        "id": "8EtGowGMl8ys"
      }
    },
    {
      "cell_type": "code",
      "execution_count": null,
      "metadata": {
        "id": "1RwJeLQjXeTW",
        "colab": {
          "base_uri": "https://localhost:8080/"
        },
        "outputId": "f0cd8db3-d880-4908-cbcd-4954798164e1"
      },
      "outputs": [
        {
          "output_type": "stream",
          "name": "stdout",
          "text": [
            "[[0.5016742  0.11856792 0.72118048 0.73560206]\n",
            " [0.72007352 0.78811628 0.36443308 0.43161247]]\n",
            "[[0.11856792 0.5016742  0.72118048 0.73560206]\n",
            " [0.36443308 0.43161247 0.72007352 0.78811628]]\n"
          ]
        }
      ],
      "source": [
        "# your code goes here\n",
        "x = np.random.rand(2,4)\n",
        "print(x)\n",
        "x.sort(axis=1)\n",
        "print(x)"
      ]
    },
    {
      "cell_type": "markdown",
      "metadata": {
        "id": "Ryv0tvKKXeTW"
      },
      "source": [
        "![green-divider](https://user-images.githubusercontent.com/7065401/52071924-c003ad80-2562-11e9-8297-1c6595f8a7ff.png)\n",
        "\n",
        "### Delete a particular row from an array"
      ]
    },
    {
      "cell_type": "code",
      "execution_count": null,
      "metadata": {
        "id": "7APa07zZXeTW",
        "colab": {
          "base_uri": "https://localhost:8080/"
        },
        "outputId": "ef86a24c-3b4a-4cf1-c5c1-865f2c7b7158"
      },
      "outputs": [
        {
          "output_type": "stream",
          "name": "stdout",
          "text": [
            "[[0.52689731 0.92294477 0.94145333 0.80958246]\n",
            " [0.12621345 0.7112124  0.44078862 0.41745674]]\n"
          ]
        },
        {
          "output_type": "execute_result",
          "data": {
            "text/plain": [
              "array([[0.52689731, 0.92294477, 0.94145333, 0.80958246]])"
            ]
          },
          "metadata": {},
          "execution_count": 20
        }
      ],
      "source": [
        "# your code goes here\n",
        "x = np.random.rand(2,4)\n",
        "print(x)\n",
        "np.delete(x,1,axis=0)"
      ]
    },
    {
      "cell_type": "markdown",
      "metadata": {
        "id": "kSH6yTghXeTX"
      },
      "source": [
        "![green-divider](https://user-images.githubusercontent.com/7065401/52071924-c003ad80-2562-11e9-8297-1c6595f8a7ff.png)\n",
        "\n",
        "### Create a 5 by 5 matrix and print the values 1,2,3,4 just below the diagnol"
      ]
    },
    {
      "cell_type": "code",
      "execution_count": null,
      "metadata": {
        "id": "1tktFBbqXeTX",
        "colab": {
          "base_uri": "https://localhost:8080/"
        },
        "outputId": "4a201068-79e1-4f28-f430-22589738765b"
      },
      "outputs": [
        {
          "output_type": "stream",
          "name": "stdout",
          "text": [
            "[[0 0 0 0 0]\n",
            " [1 0 0 0 0]\n",
            " [0 2 0 0 0]\n",
            " [0 0 3 0 0]\n",
            " [0 0 0 4 0]]\n"
          ]
        }
      ],
      "source": [
        "'''\n",
        "\n",
        "array([[0, 0, 0, 0, 0],\n",
        "       [1, 0, 0, 0, 0],\n",
        "       [0, 2, 0, 0, 0],\n",
        "       [0, 0, 3, 0, 0],\n",
        "       [0, 0, 0, 4, 0]])\n",
        "\n",
        "'''\n",
        "x = np.diag([1,2,3,4],k=-1)\n",
        "print(x)\n",
        "# your code goes here\n"
      ]
    },
    {
      "cell_type": "markdown",
      "metadata": {
        "id": "CtFW_VxIlH4j"
      },
      "source": [
        "![purple-divider](https://user-images.githubusercontent.com/7065401/52071927-c1cd7100-2562-11e9-908a-dde91ba14e59.png)\n",
        "\n"
      ]
    }
  ]
}