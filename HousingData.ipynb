{
  "nbformat": 4,
  "nbformat_minor": 0,
  "metadata": {
    "colab": {
      "name": "HousingData.ipynb",
      "provenance": [],
      "collapsed_sections": [],
      "authorship_tag": "ABX9TyPAyw6bljKbqAFJG4yanFHE",
      "include_colab_link": true
    },
    "kernelspec": {
      "name": "python3",
      "display_name": "Python 3"
    },
    "language_info": {
      "name": "python"
    }
  },
  "cells": [
    {
      "cell_type": "markdown",
      "metadata": {
        "id": "view-in-github",
        "colab_type": "text"
      },
      "source": [
        "<a href=\"https://colab.research.google.com/github/YashPatel1604/AI-workshop-UTD/blob/main/HousingData.ipynb\" target=\"_parent\"><img src=\"https://colab.research.google.com/assets/colab-badge.svg\" alt=\"Open In Colab\"/></a>"
      ]
    },
    {
      "cell_type": "code",
      "execution_count": 2,
      "metadata": {
        "id": "YDkd4IPTyU99",
        "colab": {
          "base_uri": "https://localhost:8080/"
        },
        "outputId": "f44ba1d2-ca85-4509-a26b-d2ce34fdaa81"
      },
      "outputs": [
        {
          "output_type": "stream",
          "name": "stdout",
          "text": [
            "LotFrontage      259\n",
            "Alley           1369\n",
            "MasVnrType         8\n",
            "MasVnrArea         8\n",
            "BsmtQual          37\n",
            "BsmtCond          37\n",
            "BsmtExposure      38\n",
            "BsmtFinType1      37\n",
            "BsmtFinType2      38\n",
            "Electrical         1\n",
            "FireplaceQu      690\n",
            "GarageType        81\n",
            "GarageYrBlt       81\n",
            "GarageFinish      81\n",
            "GarageQual        81\n",
            "GarageCond        81\n",
            "PoolQC          1453\n",
            "Fence           1179\n",
            "MiscFeature     1406\n",
            "dtype: int64\n",
            "----------\n"
          ]
        }
      ],
      "source": [
        "import numpy as np\n",
        "import pandas as pd\n",
        "import matplotlib as plt\n",
        "from sklearn.linear_model import LinearRegression\n",
        "from sklearn.preprocessing import OneHotEncoder\n",
        "from sklearn.preprocessing import StandardScaler\n",
        "\n",
        "train = pd.read_csv('train.csv')\n",
        "test = pd.read_csv('test.csv')\n",
        "split_index = train.iloc[-1].Id\n",
        "na = train.isna().sum()\n",
        "print(na[na>0])\n",
        "print('----------')\n",
        "df = pd.concat((train,test),sort = False)\n",
        "df.set_index('Id',drop=True,inplace=True)\n"
      ]
    },
    {
      "cell_type": "code",
      "source": [
        "def removing(x):\n",
        "  \n",
        "  x.Alley.fillna('NA',inplace = True)\n",
        "  x.BsmtQual.fillna('NA',inplace = True)\n",
        "  x.BsmtCond.fillna('NA',inplace = True)\n",
        "  x.BsmtExposure.fillna('NA',inplace = True)\n",
        "  x.BsmtFinType1.fillna('NA',inplace = True)\n",
        "  x.BsmtFinType2.fillna('NA',inplace = True)\n",
        "  x.FireplaceQu.fillna('NA',inplace = True)\n",
        "  x.GarageType.fillna('NA',inplace = True)\n",
        "  x.GarageFinish.fillna('NA',inplace = True)\n",
        "  x.GarageQual.fillna('NA',inplace = True)\n",
        "  x.GarageCond.fillna('NA',inplace = True)\n",
        "  x.PoolQC.fillna('NA',inplace = True)\n",
        "  x.Fence.fillna('NA',inplace = True)\n",
        "  x.MiscFeature.fillna('NA',inplace = True)\n",
        "\n",
        "  x.drop_duplicates(subset=None, keep='first', inplace=False, ignore_index=False)\n",
        "  # x.drop(['Alley','PoolQC','Fence','MiscFeature'],axis = 1,inplace = True)\n",
        "  columns = x.columns.values\n",
        "  GarageNull = pd.DataFrame(x['GarageYrBlt'].isnull().values)\n",
        "  for y in GarageNull:\n",
        "    yin = GarageNull.index\n",
        "    x['GarageYrBlt'].iloc[yin] = (x['YearBuilt'].iloc[yin])\n",
        "  for column in columns:\n",
        "    if x[column].dtype != np.int64 and x[column].dtype != np.float64:\n",
        "      if x[column].isna().sum()>200:\n",
        "        x[column].fillna(value ='No Feature',inplace = True)\n",
        "      else:\n",
        "        x[column].fillna(value=x[column].mode(),inplace=True)\n",
        "    else:\n",
        "      x[column].fillna(value = x[column].mean(),inplace = True)\n",
        "\n",
        "def handle_non_numerical_data(df):\n",
        "    columns = df.columns.values\n",
        "    for column in columns:\n",
        "        text_digit_vals = {}\n",
        "        def convert_to_int(val):\n",
        "            return text_digit_vals[val]\n",
        "\n",
        "        if df[column].dtype != np.int64 and df[column].dtype != np.float64:\n",
        "            column_contents = df[column].values.tolist()\n",
        "            unique_elements = set(column_contents)\n",
        "            x = 0\n",
        "            for unique in unique_elements:\n",
        "                if unique not in text_digit_vals:\n",
        "                    text_digit_vals[unique] = str(x)\n",
        "                    x+=1\n",
        "\n",
        "            df[column] = list(map(convert_to_int, df[column]))\n",
        "def main(df):\n",
        "  removing(df)\n",
        "  handle_non_numerical_data(df)\n",
        "  # one_hot_encoding(df)\n",
        "\n",
        "def add_missing_dummy_columns(test,train):\n",
        "  missing_cols = set(train.columns) - set(test.columns)\n",
        "  missing_cols2 = set(test.columns) - set(train.columns)\n",
        "  for c in missing_cols:\n",
        "    test[c] = 0\n",
        "\n",
        "  for c in missing_cols2:\n",
        "    train[c] = 0"
      ],
      "metadata": {
        "id": "yRb34ELTByHY"
      },
      "execution_count": 3,
      "outputs": []
    },
    {
      "cell_type": "code",
      "source": [
        "main(df)"
      ],
      "metadata": {
        "id": "1Mak4Pe5M764",
        "colab": {
          "base_uri": "https://localhost:8080/"
        },
        "outputId": "393d644b-9b29-4d99-b8b9-5d09a45ca304"
      },
      "execution_count": 4,
      "outputs": [
        {
          "output_type": "stream",
          "name": "stderr",
          "text": [
            "/usr/local/lib/python3.7/dist-packages/pandas/core/indexing.py:1732: SettingWithCopyWarning: \n",
            "A value is trying to be set on a copy of a slice from a DataFrame\n",
            "\n",
            "See the caveats in the documentation: https://pandas.pydata.org/pandas-docs/stable/user_guide/indexing.html#returning-a-view-versus-a-copy\n",
            "  self._setitem_single_block(indexer, value, name)\n"
          ]
        }
      ]
    },
    {
      "cell_type": "code",
      "source": [
        "encoded_df = pd.get_dummies(df)"
      ],
      "metadata": {
        "id": "dOFOqVluN7YQ"
      },
      "execution_count": 5,
      "outputs": []
    },
    {
      "cell_type": "code",
      "source": [
        "encoded_df"
      ],
      "metadata": {
        "colab": {
          "base_uri": "https://localhost:8080/",
          "height": 519
        },
        "id": "e3uez68LaQ-6",
        "outputId": "2087ccf9-916e-4ed6-91e8-36d41ab60f91"
      },
      "execution_count": 6,
      "outputs": [
        {
          "output_type": "execute_result",
          "data": {
            "text/plain": [
              "      MSSubClass  LotFrontage  LotArea  OverallQual  OverallCond  YearBuilt  \\\n",
              "Id                                                                            \n",
              "1             60         65.0     8450            7            5       2003   \n",
              "2             20         80.0     9600            6            8       1976   \n",
              "3             60         68.0    11250            7            5       2001   \n",
              "4             70         60.0     9550            7            5       1915   \n",
              "5             60         84.0    14260            8            5       2000   \n",
              "...          ...          ...      ...          ...          ...        ...   \n",
              "2915         160         21.0     1936            4            7       1970   \n",
              "2916         160         21.0     1894            4            5       1970   \n",
              "2917          20        160.0    20000            5            7       1960   \n",
              "2918          85         62.0    10441            5            5       1992   \n",
              "2919          60         74.0     9627            7            5       1993   \n",
              "\n",
              "      YearRemodAdd  MasVnrArea  BsmtFinSF1  BsmtFinSF2  ...  SaleType_6  \\\n",
              "Id                                                      ...               \n",
              "1             2003       196.0       706.0         0.0  ...           0   \n",
              "2             1976         0.0       978.0         0.0  ...           0   \n",
              "3             2002       162.0       486.0         0.0  ...           0   \n",
              "4             1970         0.0       216.0         0.0  ...           0   \n",
              "5             2000       350.0       655.0         0.0  ...           0   \n",
              "...            ...         ...         ...         ...  ...         ...   \n",
              "2915          1970         0.0         0.0         0.0  ...           0   \n",
              "2916          1970         0.0       252.0         0.0  ...           0   \n",
              "2917          1996         0.0      1224.0         0.0  ...           0   \n",
              "2918          1992         0.0       337.0         0.0  ...           0   \n",
              "2919          1994        94.0       758.0         0.0  ...           0   \n",
              "\n",
              "      SaleType_7  SaleType_8  SaleType_9  SaleCondition_0  SaleCondition_1  \\\n",
              "Id                                                                           \n",
              "1              0           0           1                0                0   \n",
              "2              0           0           1                0                0   \n",
              "3              0           0           1                0                0   \n",
              "4              0           0           1                0                1   \n",
              "5              0           0           1                0                0   \n",
              "...          ...         ...         ...              ...              ...   \n",
              "2915           0           0           1                0                0   \n",
              "2916           0           0           1                0                1   \n",
              "2917           0           0           1                0                1   \n",
              "2918           0           0           1                0                0   \n",
              "2919           0           0           1                0                0   \n",
              "\n",
              "      SaleCondition_2  SaleCondition_3  SaleCondition_4  SaleCondition_5  \n",
              "Id                                                                        \n",
              "1                   0                0                1                0  \n",
              "2                   0                0                1                0  \n",
              "3                   0                0                1                0  \n",
              "4                   0                0                0                0  \n",
              "5                   0                0                1                0  \n",
              "...               ...              ...              ...              ...  \n",
              "2915                0                0                1                0  \n",
              "2916                0                0                0                0  \n",
              "2917                0                0                0                0  \n",
              "2918                0                0                1                0  \n",
              "2919                0                0                1                0  \n",
              "\n",
              "[2919 rows x 312 columns]"
            ],
            "text/html": [
              "\n",
              "  <div id=\"df-7b54eb38-0390-4bf8-9b58-e8d98b5caf0d\">\n",
              "    <div class=\"colab-df-container\">\n",
              "      <div>\n",
              "<style scoped>\n",
              "    .dataframe tbody tr th:only-of-type {\n",
              "        vertical-align: middle;\n",
              "    }\n",
              "\n",
              "    .dataframe tbody tr th {\n",
              "        vertical-align: top;\n",
              "    }\n",
              "\n",
              "    .dataframe thead th {\n",
              "        text-align: right;\n",
              "    }\n",
              "</style>\n",
              "<table border=\"1\" class=\"dataframe\">\n",
              "  <thead>\n",
              "    <tr style=\"text-align: right;\">\n",
              "      <th></th>\n",
              "      <th>MSSubClass</th>\n",
              "      <th>LotFrontage</th>\n",
              "      <th>LotArea</th>\n",
              "      <th>OverallQual</th>\n",
              "      <th>OverallCond</th>\n",
              "      <th>YearBuilt</th>\n",
              "      <th>YearRemodAdd</th>\n",
              "      <th>MasVnrArea</th>\n",
              "      <th>BsmtFinSF1</th>\n",
              "      <th>BsmtFinSF2</th>\n",
              "      <th>...</th>\n",
              "      <th>SaleType_6</th>\n",
              "      <th>SaleType_7</th>\n",
              "      <th>SaleType_8</th>\n",
              "      <th>SaleType_9</th>\n",
              "      <th>SaleCondition_0</th>\n",
              "      <th>SaleCondition_1</th>\n",
              "      <th>SaleCondition_2</th>\n",
              "      <th>SaleCondition_3</th>\n",
              "      <th>SaleCondition_4</th>\n",
              "      <th>SaleCondition_5</th>\n",
              "    </tr>\n",
              "    <tr>\n",
              "      <th>Id</th>\n",
              "      <th></th>\n",
              "      <th></th>\n",
              "      <th></th>\n",
              "      <th></th>\n",
              "      <th></th>\n",
              "      <th></th>\n",
              "      <th></th>\n",
              "      <th></th>\n",
              "      <th></th>\n",
              "      <th></th>\n",
              "      <th></th>\n",
              "      <th></th>\n",
              "      <th></th>\n",
              "      <th></th>\n",
              "      <th></th>\n",
              "      <th></th>\n",
              "      <th></th>\n",
              "      <th></th>\n",
              "      <th></th>\n",
              "      <th></th>\n",
              "      <th></th>\n",
              "    </tr>\n",
              "  </thead>\n",
              "  <tbody>\n",
              "    <tr>\n",
              "      <th>1</th>\n",
              "      <td>60</td>\n",
              "      <td>65.0</td>\n",
              "      <td>8450</td>\n",
              "      <td>7</td>\n",
              "      <td>5</td>\n",
              "      <td>2003</td>\n",
              "      <td>2003</td>\n",
              "      <td>196.0</td>\n",
              "      <td>706.0</td>\n",
              "      <td>0.0</td>\n",
              "      <td>...</td>\n",
              "      <td>0</td>\n",
              "      <td>0</td>\n",
              "      <td>0</td>\n",
              "      <td>1</td>\n",
              "      <td>0</td>\n",
              "      <td>0</td>\n",
              "      <td>0</td>\n",
              "      <td>0</td>\n",
              "      <td>1</td>\n",
              "      <td>0</td>\n",
              "    </tr>\n",
              "    <tr>\n",
              "      <th>2</th>\n",
              "      <td>20</td>\n",
              "      <td>80.0</td>\n",
              "      <td>9600</td>\n",
              "      <td>6</td>\n",
              "      <td>8</td>\n",
              "      <td>1976</td>\n",
              "      <td>1976</td>\n",
              "      <td>0.0</td>\n",
              "      <td>978.0</td>\n",
              "      <td>0.0</td>\n",
              "      <td>...</td>\n",
              "      <td>0</td>\n",
              "      <td>0</td>\n",
              "      <td>0</td>\n",
              "      <td>1</td>\n",
              "      <td>0</td>\n",
              "      <td>0</td>\n",
              "      <td>0</td>\n",
              "      <td>0</td>\n",
              "      <td>1</td>\n",
              "      <td>0</td>\n",
              "    </tr>\n",
              "    <tr>\n",
              "      <th>3</th>\n",
              "      <td>60</td>\n",
              "      <td>68.0</td>\n",
              "      <td>11250</td>\n",
              "      <td>7</td>\n",
              "      <td>5</td>\n",
              "      <td>2001</td>\n",
              "      <td>2002</td>\n",
              "      <td>162.0</td>\n",
              "      <td>486.0</td>\n",
              "      <td>0.0</td>\n",
              "      <td>...</td>\n",
              "      <td>0</td>\n",
              "      <td>0</td>\n",
              "      <td>0</td>\n",
              "      <td>1</td>\n",
              "      <td>0</td>\n",
              "      <td>0</td>\n",
              "      <td>0</td>\n",
              "      <td>0</td>\n",
              "      <td>1</td>\n",
              "      <td>0</td>\n",
              "    </tr>\n",
              "    <tr>\n",
              "      <th>4</th>\n",
              "      <td>70</td>\n",
              "      <td>60.0</td>\n",
              "      <td>9550</td>\n",
              "      <td>7</td>\n",
              "      <td>5</td>\n",
              "      <td>1915</td>\n",
              "      <td>1970</td>\n",
              "      <td>0.0</td>\n",
              "      <td>216.0</td>\n",
              "      <td>0.0</td>\n",
              "      <td>...</td>\n",
              "      <td>0</td>\n",
              "      <td>0</td>\n",
              "      <td>0</td>\n",
              "      <td>1</td>\n",
              "      <td>0</td>\n",
              "      <td>1</td>\n",
              "      <td>0</td>\n",
              "      <td>0</td>\n",
              "      <td>0</td>\n",
              "      <td>0</td>\n",
              "    </tr>\n",
              "    <tr>\n",
              "      <th>5</th>\n",
              "      <td>60</td>\n",
              "      <td>84.0</td>\n",
              "      <td>14260</td>\n",
              "      <td>8</td>\n",
              "      <td>5</td>\n",
              "      <td>2000</td>\n",
              "      <td>2000</td>\n",
              "      <td>350.0</td>\n",
              "      <td>655.0</td>\n",
              "      <td>0.0</td>\n",
              "      <td>...</td>\n",
              "      <td>0</td>\n",
              "      <td>0</td>\n",
              "      <td>0</td>\n",
              "      <td>1</td>\n",
              "      <td>0</td>\n",
              "      <td>0</td>\n",
              "      <td>0</td>\n",
              "      <td>0</td>\n",
              "      <td>1</td>\n",
              "      <td>0</td>\n",
              "    </tr>\n",
              "    <tr>\n",
              "      <th>...</th>\n",
              "      <td>...</td>\n",
              "      <td>...</td>\n",
              "      <td>...</td>\n",
              "      <td>...</td>\n",
              "      <td>...</td>\n",
              "      <td>...</td>\n",
              "      <td>...</td>\n",
              "      <td>...</td>\n",
              "      <td>...</td>\n",
              "      <td>...</td>\n",
              "      <td>...</td>\n",
              "      <td>...</td>\n",
              "      <td>...</td>\n",
              "      <td>...</td>\n",
              "      <td>...</td>\n",
              "      <td>...</td>\n",
              "      <td>...</td>\n",
              "      <td>...</td>\n",
              "      <td>...</td>\n",
              "      <td>...</td>\n",
              "      <td>...</td>\n",
              "    </tr>\n",
              "    <tr>\n",
              "      <th>2915</th>\n",
              "      <td>160</td>\n",
              "      <td>21.0</td>\n",
              "      <td>1936</td>\n",
              "      <td>4</td>\n",
              "      <td>7</td>\n",
              "      <td>1970</td>\n",
              "      <td>1970</td>\n",
              "      <td>0.0</td>\n",
              "      <td>0.0</td>\n",
              "      <td>0.0</td>\n",
              "      <td>...</td>\n",
              "      <td>0</td>\n",
              "      <td>0</td>\n",
              "      <td>0</td>\n",
              "      <td>1</td>\n",
              "      <td>0</td>\n",
              "      <td>0</td>\n",
              "      <td>0</td>\n",
              "      <td>0</td>\n",
              "      <td>1</td>\n",
              "      <td>0</td>\n",
              "    </tr>\n",
              "    <tr>\n",
              "      <th>2916</th>\n",
              "      <td>160</td>\n",
              "      <td>21.0</td>\n",
              "      <td>1894</td>\n",
              "      <td>4</td>\n",
              "      <td>5</td>\n",
              "      <td>1970</td>\n",
              "      <td>1970</td>\n",
              "      <td>0.0</td>\n",
              "      <td>252.0</td>\n",
              "      <td>0.0</td>\n",
              "      <td>...</td>\n",
              "      <td>0</td>\n",
              "      <td>0</td>\n",
              "      <td>0</td>\n",
              "      <td>1</td>\n",
              "      <td>0</td>\n",
              "      <td>1</td>\n",
              "      <td>0</td>\n",
              "      <td>0</td>\n",
              "      <td>0</td>\n",
              "      <td>0</td>\n",
              "    </tr>\n",
              "    <tr>\n",
              "      <th>2917</th>\n",
              "      <td>20</td>\n",
              "      <td>160.0</td>\n",
              "      <td>20000</td>\n",
              "      <td>5</td>\n",
              "      <td>7</td>\n",
              "      <td>1960</td>\n",
              "      <td>1996</td>\n",
              "      <td>0.0</td>\n",
              "      <td>1224.0</td>\n",
              "      <td>0.0</td>\n",
              "      <td>...</td>\n",
              "      <td>0</td>\n",
              "      <td>0</td>\n",
              "      <td>0</td>\n",
              "      <td>1</td>\n",
              "      <td>0</td>\n",
              "      <td>1</td>\n",
              "      <td>0</td>\n",
              "      <td>0</td>\n",
              "      <td>0</td>\n",
              "      <td>0</td>\n",
              "    </tr>\n",
              "    <tr>\n",
              "      <th>2918</th>\n",
              "      <td>85</td>\n",
              "      <td>62.0</td>\n",
              "      <td>10441</td>\n",
              "      <td>5</td>\n",
              "      <td>5</td>\n",
              "      <td>1992</td>\n",
              "      <td>1992</td>\n",
              "      <td>0.0</td>\n",
              "      <td>337.0</td>\n",
              "      <td>0.0</td>\n",
              "      <td>...</td>\n",
              "      <td>0</td>\n",
              "      <td>0</td>\n",
              "      <td>0</td>\n",
              "      <td>1</td>\n",
              "      <td>0</td>\n",
              "      <td>0</td>\n",
              "      <td>0</td>\n",
              "      <td>0</td>\n",
              "      <td>1</td>\n",
              "      <td>0</td>\n",
              "    </tr>\n",
              "    <tr>\n",
              "      <th>2919</th>\n",
              "      <td>60</td>\n",
              "      <td>74.0</td>\n",
              "      <td>9627</td>\n",
              "      <td>7</td>\n",
              "      <td>5</td>\n",
              "      <td>1993</td>\n",
              "      <td>1994</td>\n",
              "      <td>94.0</td>\n",
              "      <td>758.0</td>\n",
              "      <td>0.0</td>\n",
              "      <td>...</td>\n",
              "      <td>0</td>\n",
              "      <td>0</td>\n",
              "      <td>0</td>\n",
              "      <td>1</td>\n",
              "      <td>0</td>\n",
              "      <td>0</td>\n",
              "      <td>0</td>\n",
              "      <td>0</td>\n",
              "      <td>1</td>\n",
              "      <td>0</td>\n",
              "    </tr>\n",
              "  </tbody>\n",
              "</table>\n",
              "<p>2919 rows × 312 columns</p>\n",
              "</div>\n",
              "      <button class=\"colab-df-convert\" onclick=\"convertToInteractive('df-7b54eb38-0390-4bf8-9b58-e8d98b5caf0d')\"\n",
              "              title=\"Convert this dataframe to an interactive table.\"\n",
              "              style=\"display:none;\">\n",
              "        \n",
              "  <svg xmlns=\"http://www.w3.org/2000/svg\" height=\"24px\"viewBox=\"0 0 24 24\"\n",
              "       width=\"24px\">\n",
              "    <path d=\"M0 0h24v24H0V0z\" fill=\"none\"/>\n",
              "    <path d=\"M18.56 5.44l.94 2.06.94-2.06 2.06-.94-2.06-.94-.94-2.06-.94 2.06-2.06.94zm-11 1L8.5 8.5l.94-2.06 2.06-.94-2.06-.94L8.5 2.5l-.94 2.06-2.06.94zm10 10l.94 2.06.94-2.06 2.06-.94-2.06-.94-.94-2.06-.94 2.06-2.06.94z\"/><path d=\"M17.41 7.96l-1.37-1.37c-.4-.4-.92-.59-1.43-.59-.52 0-1.04.2-1.43.59L10.3 9.45l-7.72 7.72c-.78.78-.78 2.05 0 2.83L4 21.41c.39.39.9.59 1.41.59.51 0 1.02-.2 1.41-.59l7.78-7.78 2.81-2.81c.8-.78.8-2.07 0-2.86zM5.41 20L4 18.59l7.72-7.72 1.47 1.35L5.41 20z\"/>\n",
              "  </svg>\n",
              "      </button>\n",
              "      \n",
              "  <style>\n",
              "    .colab-df-container {\n",
              "      display:flex;\n",
              "      flex-wrap:wrap;\n",
              "      gap: 12px;\n",
              "    }\n",
              "\n",
              "    .colab-df-convert {\n",
              "      background-color: #E8F0FE;\n",
              "      border: none;\n",
              "      border-radius: 50%;\n",
              "      cursor: pointer;\n",
              "      display: none;\n",
              "      fill: #1967D2;\n",
              "      height: 32px;\n",
              "      padding: 0 0 0 0;\n",
              "      width: 32px;\n",
              "    }\n",
              "\n",
              "    .colab-df-convert:hover {\n",
              "      background-color: #E2EBFA;\n",
              "      box-shadow: 0px 1px 2px rgba(60, 64, 67, 0.3), 0px 1px 3px 1px rgba(60, 64, 67, 0.15);\n",
              "      fill: #174EA6;\n",
              "    }\n",
              "\n",
              "    [theme=dark] .colab-df-convert {\n",
              "      background-color: #3B4455;\n",
              "      fill: #D2E3FC;\n",
              "    }\n",
              "\n",
              "    [theme=dark] .colab-df-convert:hover {\n",
              "      background-color: #434B5C;\n",
              "      box-shadow: 0px 1px 3px 1px rgba(0, 0, 0, 0.15);\n",
              "      filter: drop-shadow(0px 1px 2px rgba(0, 0, 0, 0.3));\n",
              "      fill: #FFFFFF;\n",
              "    }\n",
              "  </style>\n",
              "\n",
              "      <script>\n",
              "        const buttonEl =\n",
              "          document.querySelector('#df-7b54eb38-0390-4bf8-9b58-e8d98b5caf0d button.colab-df-convert');\n",
              "        buttonEl.style.display =\n",
              "          google.colab.kernel.accessAllowed ? 'block' : 'none';\n",
              "\n",
              "        async function convertToInteractive(key) {\n",
              "          const element = document.querySelector('#df-7b54eb38-0390-4bf8-9b58-e8d98b5caf0d');\n",
              "          const dataTable =\n",
              "            await google.colab.kernel.invokeFunction('convertToInteractive',\n",
              "                                                     [key], {});\n",
              "          if (!dataTable) return;\n",
              "\n",
              "          const docLinkHtml = 'Like what you see? Visit the ' +\n",
              "            '<a target=\"_blank\" href=https://colab.research.google.com/notebooks/data_table.ipynb>data table notebook</a>'\n",
              "            + ' to learn more about interactive tables.';\n",
              "          element.innerHTML = '';\n",
              "          dataTable['output_type'] = 'display_data';\n",
              "          await google.colab.output.renderOutput(dataTable, element);\n",
              "          const docLink = document.createElement('div');\n",
              "          docLink.innerHTML = docLinkHtml;\n",
              "          element.appendChild(docLink);\n",
              "        }\n",
              "      </script>\n",
              "    </div>\n",
              "  </div>\n",
              "  "
            ]
          },
          "metadata": {},
          "execution_count": 6
        }
      ]
    },
    {
      "cell_type": "code",
      "source": [
        "from sklearn.preprocessing import minmax_scale\n",
        "for column in encoded_df.columns:\n",
        "  if column != 'SalePrice':\n",
        "    encoded_df[column] = pd.Series(minmax_scale(encoded_df[column]),index=encoded_df.index)"
      ],
      "metadata": {
        "id": "90460VugPdvR"
      },
      "execution_count": 7,
      "outputs": []
    },
    {
      "cell_type": "code",
      "source": [
        "from sklearn.preprocessing import MinMaxScaler\n",
        "target_col = encoded_df.loc[:split_index].SalePrice\n",
        "target_scaler = MinMaxScaler()\n",
        "Y = np.array(target_col.to_numpy())\n",
        "Y = Y.reshape(Y.size,1)\n",
        "target_scaler.fit(Y)\n",
        "Y = target_scaler.transform(Y)\n",
        "Y = Y.reshape(Y.size)\n",
        "encoded_df.drop('SalePrice',axis=1,inplace=True)"
      ],
      "metadata": {
        "id": "LpmaJW60YG3h"
      },
      "execution_count": 8,
      "outputs": []
    },
    {
      "cell_type": "code",
      "source": [
        "# from sklearn.model_selection import train_test_split\n",
        "# x_train, x_test, y_train, y_test = train_test_split(\n",
        "#     encoded_train, y_train, test_size=0.33, random_state=42)\n",
        "# x_train\n",
        "# train_test_split(y_train, shuffle=False)"
      ],
      "metadata": {
        "id": "ekWgG3Gn-tmn"
      },
      "execution_count": null,
      "outputs": []
    },
    {
      "cell_type": "code",
      "source": [
        "reg = LinearRegression()\n",
        "train_df = encoded_df.loc[:split_index]\n",
        "test_df = encoded_df.loc[split_index+1:]\n",
        "reg.fit(train_df,Y)"
      ],
      "metadata": {
        "id": "Lmky3bU7FWxb",
        "colab": {
          "base_uri": "https://localhost:8080/"
        },
        "outputId": "0216432c-c5cb-4753-f16f-89c8968948d8"
      },
      "execution_count": 12,
      "outputs": [
        {
          "output_type": "execute_result",
          "data": {
            "text/plain": [
              "LinearRegression()"
            ]
          },
          "metadata": {},
          "execution_count": 12
        }
      ]
    },
    {
      "cell_type": "code",
      "source": [
        "SalePrice = reg.predict(test_df)\n",
        "final=target_scaler.inverse_transform(SalePrice.reshape(-1,1))\n",
        "print(final)"
      ],
      "metadata": {
        "id": "5yH56BFoFbmU",
        "colab": {
          "base_uri": "https://localhost:8080/"
        },
        "outputId": "c49e5088-2361-4368-8b9a-ebd1a03cfd18"
      },
      "execution_count": 17,
      "outputs": [
        {
          "output_type": "stream",
          "name": "stdout",
          "text": [
            "[[112463.26141357]\n",
            " [159864.86358643]\n",
            " [186565.34881592]\n",
            " ...\n",
            " [179093.60809326]\n",
            " [114880.58929443]\n",
            " [223297.74475098]]\n"
          ]
        }
      ]
    },
    {
      "cell_type": "code",
      "source": [
        "train_df = encoded_df.loc[:split_index]\n",
        "test_df = encoded_df.loc[split_index+1:]"
      ],
      "metadata": {
        "id": "htMR0ipmKrCk"
      },
      "execution_count": 18,
      "outputs": []
    },
    {
      "cell_type": "code",
      "source": [
        "def mse(X,Y):\n",
        "  return ((X-Y)**2).mean() / 2"
      ],
      "metadata": {
        "id": "YZLAwRpmVW7M"
      },
      "execution_count": 19,
      "outputs": []
    },
    {
      "cell_type": "code",
      "source": [
        "def linear_regression(x,w,b):\n",
        "  return np.dot(x,w) + b\n",
        "\n",
        "print(linear_regression([2,3],[3,2],2))"
      ],
      "metadata": {
        "id": "97CIZw-NVgCd",
        "colab": {
          "base_uri": "https://localhost:8080/"
        },
        "outputId": "1d35527f-69c2-4af4-c3cf-484e206af2dc"
      },
      "execution_count": 20,
      "outputs": [
        {
          "output_type": "stream",
          "name": "stdout",
          "text": [
            "14\n"
          ]
        }
      ]
    },
    {
      "cell_type": "code",
      "source": [
        "def gradient_descent(X,Y,w,_b,learning_rate,iterations):\n",
        "  b = _b\n",
        "  double_len_x = len(X) * 2\n",
        "  X_transpose = X.transpose()\n",
        "  for _ in range(iterations):\n",
        "    linear_regressions = linear_regression(X,w,b)\n",
        "    differences = (linear_regressions - Y)\n",
        "    w_change = np.dot(X_transpose,differences)/double_len_x\n",
        "    w -= learning_rate * w_change\n",
        "    b_change = differences.mean()\n",
        "    b -= learning_rate * b_change/2\n",
        "\n",
        "    if _ % 10000 == 0:\n",
        "      print('Iteration ' + str(_) + ', loss: ' + str(mse(linear_regressions,Y)))\n",
        "      #print(np.dot(X_transpose,differences))\n",
        "\n",
        "  return w,b\n"
      ],
      "metadata": {
        "id": "fsxOgKgQKWga"
      },
      "execution_count": 21,
      "outputs": []
    },
    {
      "cell_type": "code",
      "source": [
        "w = np.array([0] * 311, dtype = 'float')\n",
        "w_,b = gradient_descent(train_df.to_numpy(),Y,w,0,0.01,100000)"
      ],
      "metadata": {
        "colab": {
          "base_uri": "https://localhost:8080/"
        },
        "id": "9UumLTshW9vx",
        "outputId": "cc1f60bb-8c71-418d-ebec-0dfaa362e61b"
      },
      "execution_count": 22,
      "outputs": [
        {
          "output_type": "stream",
          "name": "stdout",
          "text": [
            "Iteration 0, loss: 0.026640919287270397\n",
            "Iteration 10000, loss: 0.000730100349155017\n",
            "Iteration 20000, loss: 0.0006543404155018219\n",
            "Iteration 30000, loss: 0.0006204946185175209\n",
            "Iteration 40000, loss: 0.0005986605549955747\n",
            "Iteration 50000, loss: 0.0005823804199780574\n",
            "Iteration 60000, loss: 0.000569316090949838\n",
            "Iteration 70000, loss: 0.0005583743151578514\n",
            "Iteration 80000, loss: 0.0005489607336147316\n",
            "Iteration 90000, loss: 0.0005407153322226371\n"
          ]
        }
      ]
    },
    {
      "cell_type": "code",
      "source": [
        "y_pred = np.dot(w_,test_df.T)+b"
      ],
      "metadata": {
        "id": "efnuF107zERv"
      },
      "execution_count": 23,
      "outputs": []
    },
    {
      "cell_type": "code",
      "source": [
        "final=target_scaler.inverse_transform(y_pred.reshape(-1,1))"
      ],
      "metadata": {
        "id": "ZCh8SJ5z0hHG"
      },
      "execution_count": 24,
      "outputs": []
    },
    {
      "cell_type": "code",
      "source": [
        "final = final.flatten()"
      ],
      "metadata": {
        "id": "tU8wvtOdiVnQ"
      },
      "execution_count": 25,
      "outputs": []
    },
    {
      "cell_type": "code",
      "source": [
        "print(final)"
      ],
      "metadata": {
        "colab": {
          "base_uri": "https://localhost:8080/"
        },
        "id": "InQCD50yfNQC",
        "outputId": "4aae35a2-93d9-4fa2-abac-dcc5895d6173"
      },
      "execution_count": 26,
      "outputs": [
        {
          "output_type": "stream",
          "name": "stdout",
          "text": [
            "[108192.64412865 145698.41670565 173972.60015517 ... 162672.78148917\n",
            " 101568.79559635 220063.96191319]\n"
          ]
        }
      ]
    },
    {
      "cell_type": "code",
      "source": [
        "flat_list = [x for x in final]\n",
        "prediction = pd.DataFrame({'id': range(1461,2920),'SalePrice':flat_list})\n",
        "prediction.head()"
      ],
      "metadata": {
        "id": "FzaZaHv1Gg2X",
        "colab": {
          "base_uri": "https://localhost:8080/",
          "height": 206
        },
        "outputId": "ffb9d5fc-f33e-470a-fde9-8e3e1476f744"
      },
      "execution_count": null,
      "outputs": [
        {
          "output_type": "execute_result",
          "data": {
            "text/plain": [
              "     id      SalePrice\n",
              "0  1461  108192.644129\n",
              "1  1462  145698.416706\n",
              "2  1463  173972.600155\n",
              "3  1464  189321.270100\n",
              "4  1465  211570.352492"
            ],
            "text/html": [
              "\n",
              "  <div id=\"df-b629e014-7bc3-4eb5-b39d-27241a24bd89\">\n",
              "    <div class=\"colab-df-container\">\n",
              "      <div>\n",
              "<style scoped>\n",
              "    .dataframe tbody tr th:only-of-type {\n",
              "        vertical-align: middle;\n",
              "    }\n",
              "\n",
              "    .dataframe tbody tr th {\n",
              "        vertical-align: top;\n",
              "    }\n",
              "\n",
              "    .dataframe thead th {\n",
              "        text-align: right;\n",
              "    }\n",
              "</style>\n",
              "<table border=\"1\" class=\"dataframe\">\n",
              "  <thead>\n",
              "    <tr style=\"text-align: right;\">\n",
              "      <th></th>\n",
              "      <th>id</th>\n",
              "      <th>SalePrice</th>\n",
              "    </tr>\n",
              "  </thead>\n",
              "  <tbody>\n",
              "    <tr>\n",
              "      <th>0</th>\n",
              "      <td>1461</td>\n",
              "      <td>108192.644129</td>\n",
              "    </tr>\n",
              "    <tr>\n",
              "      <th>1</th>\n",
              "      <td>1462</td>\n",
              "      <td>145698.416706</td>\n",
              "    </tr>\n",
              "    <tr>\n",
              "      <th>2</th>\n",
              "      <td>1463</td>\n",
              "      <td>173972.600155</td>\n",
              "    </tr>\n",
              "    <tr>\n",
              "      <th>3</th>\n",
              "      <td>1464</td>\n",
              "      <td>189321.270100</td>\n",
              "    </tr>\n",
              "    <tr>\n",
              "      <th>4</th>\n",
              "      <td>1465</td>\n",
              "      <td>211570.352492</td>\n",
              "    </tr>\n",
              "  </tbody>\n",
              "</table>\n",
              "</div>\n",
              "      <button class=\"colab-df-convert\" onclick=\"convertToInteractive('df-b629e014-7bc3-4eb5-b39d-27241a24bd89')\"\n",
              "              title=\"Convert this dataframe to an interactive table.\"\n",
              "              style=\"display:none;\">\n",
              "        \n",
              "  <svg xmlns=\"http://www.w3.org/2000/svg\" height=\"24px\"viewBox=\"0 0 24 24\"\n",
              "       width=\"24px\">\n",
              "    <path d=\"M0 0h24v24H0V0z\" fill=\"none\"/>\n",
              "    <path d=\"M18.56 5.44l.94 2.06.94-2.06 2.06-.94-2.06-.94-.94-2.06-.94 2.06-2.06.94zm-11 1L8.5 8.5l.94-2.06 2.06-.94-2.06-.94L8.5 2.5l-.94 2.06-2.06.94zm10 10l.94 2.06.94-2.06 2.06-.94-2.06-.94-.94-2.06-.94 2.06-2.06.94z\"/><path d=\"M17.41 7.96l-1.37-1.37c-.4-.4-.92-.59-1.43-.59-.52 0-1.04.2-1.43.59L10.3 9.45l-7.72 7.72c-.78.78-.78 2.05 0 2.83L4 21.41c.39.39.9.59 1.41.59.51 0 1.02-.2 1.41-.59l7.78-7.78 2.81-2.81c.8-.78.8-2.07 0-2.86zM5.41 20L4 18.59l7.72-7.72 1.47 1.35L5.41 20z\"/>\n",
              "  </svg>\n",
              "      </button>\n",
              "      \n",
              "  <style>\n",
              "    .colab-df-container {\n",
              "      display:flex;\n",
              "      flex-wrap:wrap;\n",
              "      gap: 12px;\n",
              "    }\n",
              "\n",
              "    .colab-df-convert {\n",
              "      background-color: #E8F0FE;\n",
              "      border: none;\n",
              "      border-radius: 50%;\n",
              "      cursor: pointer;\n",
              "      display: none;\n",
              "      fill: #1967D2;\n",
              "      height: 32px;\n",
              "      padding: 0 0 0 0;\n",
              "      width: 32px;\n",
              "    }\n",
              "\n",
              "    .colab-df-convert:hover {\n",
              "      background-color: #E2EBFA;\n",
              "      box-shadow: 0px 1px 2px rgba(60, 64, 67, 0.3), 0px 1px 3px 1px rgba(60, 64, 67, 0.15);\n",
              "      fill: #174EA6;\n",
              "    }\n",
              "\n",
              "    [theme=dark] .colab-df-convert {\n",
              "      background-color: #3B4455;\n",
              "      fill: #D2E3FC;\n",
              "    }\n",
              "\n",
              "    [theme=dark] .colab-df-convert:hover {\n",
              "      background-color: #434B5C;\n",
              "      box-shadow: 0px 1px 3px 1px rgba(0, 0, 0, 0.15);\n",
              "      filter: drop-shadow(0px 1px 2px rgba(0, 0, 0, 0.3));\n",
              "      fill: #FFFFFF;\n",
              "    }\n",
              "  </style>\n",
              "\n",
              "      <script>\n",
              "        const buttonEl =\n",
              "          document.querySelector('#df-b629e014-7bc3-4eb5-b39d-27241a24bd89 button.colab-df-convert');\n",
              "        buttonEl.style.display =\n",
              "          google.colab.kernel.accessAllowed ? 'block' : 'none';\n",
              "\n",
              "        async function convertToInteractive(key) {\n",
              "          const element = document.querySelector('#df-b629e014-7bc3-4eb5-b39d-27241a24bd89');\n",
              "          const dataTable =\n",
              "            await google.colab.kernel.invokeFunction('convertToInteractive',\n",
              "                                                     [key], {});\n",
              "          if (!dataTable) return;\n",
              "\n",
              "          const docLinkHtml = 'Like what you see? Visit the ' +\n",
              "            '<a target=\"_blank\" href=https://colab.research.google.com/notebooks/data_table.ipynb>data table notebook</a>'\n",
              "            + ' to learn more about interactive tables.';\n",
              "          element.innerHTML = '';\n",
              "          dataTable['output_type'] = 'display_data';\n",
              "          await google.colab.output.renderOutput(dataTable, element);\n",
              "          const docLink = document.createElement('div');\n",
              "          docLink.innerHTML = docLinkHtml;\n",
              "          element.appendChild(docLink);\n",
              "        }\n",
              "      </script>\n",
              "    </div>\n",
              "  </div>\n",
              "  "
            ]
          },
          "metadata": {},
          "execution_count": 81
        }
      ]
    },
    {
      "cell_type": "code",
      "source": [
        "pd.DataFrame(prediction).to_csv(\"prediction_file.csv\",index = False)"
      ],
      "metadata": {
        "id": "NDdaJPZj0ucc"
      },
      "execution_count": null,
      "outputs": []
    },
    {
      "cell_type": "code",
      "source": [
        ""
      ],
      "metadata": {
        "id": "JYPK-xqo1ARC"
      },
      "execution_count": null,
      "outputs": []
    }
  ]
}