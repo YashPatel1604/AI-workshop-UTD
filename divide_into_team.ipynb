{
  "nbformat": 4,
  "nbformat_minor": 0,
  "metadata": {
    "colab": {
      "name": "divide_into_team.ipynb",
      "provenance": [],
      "collapsed_sections": [],
      "authorship_tag": "ABX9TyML9IF559m06/H4lj9EriKb",
      "include_colab_link": true
    },
    "kernelspec": {
      "name": "python3",
      "display_name": "Python 3"
    },
    "language_info": {
      "name": "python"
    }
  },
  "cells": [
    {
      "cell_type": "markdown",
      "metadata": {
        "id": "view-in-github",
        "colab_type": "text"
      },
      "source": [
        "<a href=\"https://colab.research.google.com/github/YashPatel1604/AI-workshop-UTD/blob/main/divide_into_team.ipynb\" target=\"_parent\"><img src=\"https://colab.research.google.com/assets/colab-badge.svg\" alt=\"Open In Colab\"/></a>"
      ]
    },
    {
      "cell_type": "code",
      "execution_count": 1,
      "metadata": {
        "id": "GYkXyOvkvXRd"
      },
      "outputs": [],
      "source": [
        "import random\n",
        "\n",
        "def teams(people):\n",
        "  ogpeople = people\n",
        "  random.shuffle(people)\n",
        "  no_of_students = len(people)\n",
        "  print(\"\")\n",
        "  no_of_students_per_team = int(input(\"Enter Number Of Students Per Team\"))\n",
        "\n",
        "\n",
        "  no_of_teams = int(no_of_students/no_of_students_per_team)\n",
        "  mod_students = no_of_students % no_of_students_per_team\n",
        "  if mod_students == 0:\n",
        "    list_team =  []\n",
        "  else:\n",
        "    list_team = []\n",
        "  \n",
        "  x = 0\n",
        "  y = 0\n",
        "  student_end = no_of_students_per_team\n",
        "\n",
        "  \n",
        "  while x<=no_of_teams:\n",
        "    if len(people)<no_of_students_per_team and len(people)!=0:\n",
        "      print(\"Not enough participants to make a full new team\")\n",
        "      print(\"1. Add the remaining participants one one to the each team (press 1)\")\n",
        "      str1 = int(input(\"2. Make a new team with less participants (press 2)\"))\n",
        "\n",
        "      if str1 == 1 and len(people)<no_of_teams:\n",
        "          while len(people)!=0:\n",
        "            list_team[y].append(people[0])\n",
        "            people.pop(0)\n",
        "            y+=1\n",
        "\n",
        "      elif str1 == 1 and len(people)>no_of_teams:\n",
        "        print(\"\")\n",
        "        print(\"There are not enough teams to put one participant in each\")\n",
        "        print(\"So making a new team is a better idea (press 1)\")\n",
        "        str2 = int(input(\"Or give different no of participants per team (press 2)\"))\n",
        "\n",
        "        if str2 == 1:\n",
        "          list_team.append(people[0:student_end])\n",
        "          people = people[student_end::]\n",
        "          print(list_team)\n",
        "\n",
        "        elif str2 == 2:\n",
        "          print(\"\")\n",
        "          teams(ogpeople)\n",
        "\n",
        "        else:\n",
        "          print(\"Please enter valid value\")\n",
        "          continue\n",
        "\n",
        "        \n",
        "      elif str1 == 2:\n",
        "        list_team.append(people[0:student_end])\n",
        "        people = people[student_end::]\n",
        "        print(list_team)\n",
        "\n",
        "      else:\n",
        "        print(\"Please enter valid value\")\n",
        "        continue\n",
        "\n",
        "    elif len(people) == 0:\n",
        "      print(list_team)\n",
        "      break\n",
        "\n",
        "    else:\n",
        "      list_team.append(people[0:student_end])\n",
        "      people = people[student_end::]\n",
        "\n",
        "    x+=1"
      ]
    }
  ]
}