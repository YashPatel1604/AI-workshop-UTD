{
  "cells": [
    {
      "cell_type": "markdown",
      "metadata": {
        "id": "view-in-github",
        "colab_type": "text"
      },
      "source": [
        "<a href=\"https://colab.research.google.com/github/YashPatel1604/AI-workshop-UTD/blob/main/Numpy_exercises_Solved.ipynb\" target=\"_parent\"><img src=\"https://colab.research.google.com/assets/colab-badge.svg\" alt=\"Open In Colab\"/></a>"
      ]
    },
    {
      "cell_type": "markdown",
      "metadata": {
        "id": "QJZy2LNrXeTL"
      },
      "source": [
        "\n",
        "# NumPy exercises\n"
      ]
    },
    {
      "cell_type": "code",
      "execution_count": null,
      "metadata": {
        "id": "c3_Rj2JEXeTN",
        "colab": {
          "base_uri": "https://localhost:8080/"
        },
        "outputId": "3006a858-5665-41a1-a7d9-9a2350a360f0"
      },
      "outputs": [
        {
          "output_type": "stream",
          "name": "stdout",
          "text": [
            "1.21.6\n"
          ]
        }
      ],
      "source": [
        "# Import the numpy package under the name np\n",
        "import numpy as np\n",
        "\n",
        "# Print the numpy version and the configuration\n",
        "print(np.__version__)"
      ]
    },
    {
      "cell_type": "markdown",
      "metadata": {
        "id": "q_UqDkVIXeTN"
      },
      "source": [
        "![purple-divider](https://user-images.githubusercontent.com/7065401/52071927-c1cd7100-2562-11e9-908a-dde91ba14e59.png)\n",
        "\n",
        "## Array creation"
      ]
    },
    {
      "cell_type": "markdown",
      "metadata": {
        "id": "be3WDfCJXeTO"
      },
      "source": [
        "### Create a numpy array of size 10, filled with zeros."
      ]
    },
    {
      "cell_type": "code",
      "execution_count": null,
      "metadata": {
        "id": "1RwJeLQjXeTW",
        "colab": {
          "base_uri": "https://localhost:8080/"
        },
        "outputId": "bcfcd575-7d04-4e4e-a2a5-0d010b134264"
      },
      "outputs": [
        {
          "output_type": "execute_result",
          "data": {
            "text/plain": [
              "array([0., 0., 0., 0., 0., 0., 0., 0., 0., 0.])"
            ]
          },
          "metadata": {},
          "execution_count": 3
        }
      ],
      "source": [
        "# your code goes here\n",
        "np.zeros(10)"
      ]
    },
    {
      "cell_type": "markdown",
      "metadata": {
        "id": "Ryv0tvKKXeTW"
      },
      "source": [
        "![green-divider](https://user-images.githubusercontent.com/7065401/52071924-c003ad80-2562-11e9-8297-1c6595f8a7ff.png)\n",
        "\n",
        "### Create a numpy array with values ranging from 10 to 49"
      ]
    },
    {
      "cell_type": "code",
      "execution_count": null,
      "metadata": {
        "id": "7APa07zZXeTW",
        "colab": {
          "base_uri": "https://localhost:8080/"
        },
        "outputId": "54bd7cf0-d31f-4959-94a2-7213b48bc70c"
      },
      "outputs": [
        {
          "output_type": "execute_result",
          "data": {
            "text/plain": [
              "array([10, 11, 12, 13, 14, 15, 16, 17, 18, 19, 20, 21, 22, 23, 24, 25, 26,\n",
              "       27, 28, 29, 30, 31, 32, 33, 34, 35, 36, 37, 38, 39, 40, 41, 42, 43,\n",
              "       44, 45, 46, 47, 48, 49])"
            ]
          },
          "metadata": {},
          "execution_count": 53
        }
      ],
      "source": [
        "# your code goes here\n",
        "np.arange(10,50)"
      ]
    },
    {
      "cell_type": "markdown",
      "metadata": {
        "id": "kSH6yTghXeTX"
      },
      "source": [
        "![green-divider](https://user-images.githubusercontent.com/7065401/52071924-c003ad80-2562-11e9-8297-1c6595f8a7ff.png)\n",
        "\n",
        "### Create a numpy matrix of 2*2 integers, filled with ones."
      ]
    },
    {
      "cell_type": "code",
      "execution_count": null,
      "metadata": {
        "id": "1tktFBbqXeTX",
        "colab": {
          "base_uri": "https://localhost:8080/"
        },
        "outputId": "0b44ea7e-a402-4bb5-e5af-28dc30cc0f78"
      },
      "outputs": [
        {
          "output_type": "execute_result",
          "data": {
            "text/plain": [
              "array([[1, 1],\n",
              "       [1, 1]])"
            ]
          },
          "metadata": {},
          "execution_count": 17
        }
      ],
      "source": [
        "# your code goes here\n",
        "np.ones([2,2],dtype = int)"
      ]
    },
    {
      "cell_type": "markdown",
      "metadata": {
        "id": "qT-oLSHVXeTX"
      },
      "source": [
        "![green-divider](https://user-images.githubusercontent.com/7065401/52071924-c003ad80-2562-11e9-8297-1c6595f8a7ff.png)\n",
        "\n",
        "### Create a numpy matrix of 3*2 float numbers, filled with ones."
      ]
    },
    {
      "cell_type": "code",
      "execution_count": null,
      "metadata": {
        "id": "D2ZpLckuXeTX",
        "colab": {
          "base_uri": "https://localhost:8080/"
        },
        "outputId": "89487886-ae21-45e4-b17a-97c86f5aa855"
      },
      "outputs": [
        {
          "output_type": "execute_result",
          "data": {
            "text/plain": [
              "array([[1., 1.],\n",
              "       [1., 1.],\n",
              "       [1., 1.]])"
            ]
          },
          "metadata": {},
          "execution_count": 15
        }
      ],
      "source": [
        "# your code goes here\n",
        "np.ones([3,2])"
      ]
    },
    {
      "cell_type": "markdown",
      "metadata": {
        "id": "ZYUHrZ8lXeTX"
      },
      "source": [
        "![green-divider](https://user-images.githubusercontent.com/7065401/52071924-c003ad80-2562-11e9-8297-1c6595f8a7ff.png)\n",
        "\n",
        "### Given the X numpy array, create a new numpy array with the same shape and type as X, filled with ones."
      ]
    },
    {
      "cell_type": "code",
      "execution_count": null,
      "metadata": {
        "id": "20a5Ep8FXeTY",
        "colab": {
          "base_uri": "https://localhost:8080/"
        },
        "outputId": "4f84a1ea-261f-43e5-fb25-61700b54822d"
      },
      "outputs": [
        {
          "output_type": "stream",
          "name": "stdout",
          "text": [
            "[1 1 1 1]\n"
          ]
        }
      ],
      "source": [
        "# your code goes here\n",
        "x = np.arange(4, dtype=int)\n",
        "y = x\n",
        "y[y<4] = 1\n",
        "print(y)"
      ]
    },
    {
      "cell_type": "markdown",
      "metadata": {
        "id": "DfxOtoWvXeTY"
      },
      "source": [
        "![green-divider](https://user-images.githubusercontent.com/7065401/52071924-c003ad80-2562-11e9-8297-1c6595f8a7ff.png)\n",
        "\n",
        "### Given the X numpy matrix, create a new numpy matrix with the same shape and type as X, filled with zeros."
      ]
    },
    {
      "cell_type": "code",
      "execution_count": null,
      "metadata": {
        "id": "PO_q6lkDXeTY",
        "colab": {
          "base_uri": "https://localhost:8080/"
        },
        "outputId": "248588b4-2c12-4baf-d860-0ba5d0ee9b26"
      },
      "outputs": [
        {
          "output_type": "stream",
          "name": "stdout",
          "text": [
            "[0 0 0 0]\n"
          ]
        }
      ],
      "source": [
        "# your code goes here\n",
        "x = np.arange(4, dtype=int)\n",
        "y = x.copy()\n",
        "y[y<4]=0\n",
        "print(y)"
      ]
    },
    {
      "cell_type": "markdown",
      "metadata": {
        "id": "Ju_-_OywXeTY"
      },
      "source": [
        "![green-divider](https://user-images.githubusercontent.com/7065401/52071924-c003ad80-2562-11e9-8297-1c6595f8a7ff.png)\n",
        "\n",
        "### Create a numpy matrix of 4*4 integers, filled with fives."
      ]
    },
    {
      "cell_type": "code",
      "execution_count": null,
      "metadata": {
        "id": "OM1SkNluXeTY",
        "colab": {
          "base_uri": "https://localhost:8080/"
        },
        "outputId": "c437e5f8-bf88-4881-b587-4663fcadc112"
      },
      "outputs": [
        {
          "output_type": "execute_result",
          "data": {
            "text/plain": [
              "array([[5, 5, 5, 5],\n",
              "       [5, 5, 5, 5],\n",
              "       [5, 5, 5, 5],\n",
              "       [5, 5, 5, 5]])"
            ]
          },
          "metadata": {},
          "execution_count": 42
        }
      ],
      "source": [
        "# your code goes here\n",
        "np.random.randint(5,6,size=(4,4))"
      ]
    },
    {
      "cell_type": "markdown",
      "metadata": {
        "id": "ZeLdJmMWXeTZ"
      },
      "source": [
        "![green-divider](https://user-images.githubusercontent.com/7065401/52071924-c003ad80-2562-11e9-8297-1c6595f8a7ff.png)\n",
        "\n",
        "### Given the X numpy matrix, create a new numpy matrix with the same shape and type as X, filled with sevens."
      ]
    },
    {
      "cell_type": "code",
      "execution_count": null,
      "metadata": {
        "id": "N7c1GG8iXeTZ",
        "colab": {
          "base_uri": "https://localhost:8080/"
        },
        "outputId": "0b8a286b-2863-4c4b-fdf3-770d5d02c7aa"
      },
      "outputs": [
        {
          "output_type": "stream",
          "name": "stdout",
          "text": [
            "[7 7 7 7]\n"
          ]
        }
      ],
      "source": [
        "# your code goes here\n",
        "X = np.arange(4, dtype=int)\n",
        "y = X.copy()\n",
        "y[y<4] = 7\n",
        "print(y)"
      ]
    },
    {
      "cell_type": "markdown",
      "metadata": {
        "id": "Ka9JLJFlXeTZ"
      },
      "source": [
        "![green-divider](https://user-images.githubusercontent.com/7065401/52071924-c003ad80-2562-11e9-8297-1c6595f8a7ff.png)\n",
        "\n",
        "### Create a 3*3 identity numpy matrix with ones on the diagonal and zeros elsewhere."
      ]
    },
    {
      "cell_type": "code",
      "execution_count": null,
      "metadata": {
        "id": "Ef7DZMZzXeTZ",
        "colab": {
          "base_uri": "https://localhost:8080/"
        },
        "outputId": "7faa4a46-cdaf-40d3-9f02-3087ad2c72d3"
      },
      "outputs": [
        {
          "output_type": "execute_result",
          "data": {
            "text/plain": [
              "array([[1., 0., 0.],\n",
              "       [0., 1., 0.],\n",
              "       [0., 0., 1.]])"
            ]
          },
          "metadata": {},
          "execution_count": 44
        }
      ],
      "source": [
        "# your code goes here\n",
        "np.identity(3)"
      ]
    },
    {
      "cell_type": "markdown",
      "metadata": {
        "id": "vxviK_zuXeTZ"
      },
      "source": [
        "![green-divider](https://user-images.githubusercontent.com/7065401/52071924-c003ad80-2562-11e9-8297-1c6595f8a7ff.png)\n",
        "\n",
        "### Create a numpy array, filled with 3 random integer values between 1 and 10."
      ]
    },
    {
      "cell_type": "code",
      "execution_count": null,
      "metadata": {
        "id": "VOQyPPP1XeTZ",
        "colab": {
          "base_uri": "https://localhost:8080/"
        },
        "outputId": "34bd8c80-46c8-414e-b6fe-6b3fd2dced02"
      },
      "outputs": [
        {
          "output_type": "execute_result",
          "data": {
            "text/plain": [
              "array([9, 5, 9])"
            ]
          },
          "metadata": {},
          "execution_count": 45
        }
      ],
      "source": [
        "# your code goes here\n",
        "np.random.randint(1,10,size = 3)"
      ]
    },
    {
      "cell_type": "markdown",
      "metadata": {
        "id": "kSUBgPWwXeTa"
      },
      "source": [
        "![green-divider](https://user-images.githubusercontent.com/7065401/52071924-c003ad80-2562-11e9-8297-1c6595f8a7ff.png)\n",
        "\n",
        "### Create a 3\\*3\\*3 numpy matrix, filled with random float values."
      ]
    },
    {
      "cell_type": "code",
      "execution_count": null,
      "metadata": {
        "id": "BvXxc63JXeTa",
        "colab": {
          "base_uri": "https://localhost:8080/"
        },
        "outputId": "306fd97d-45cf-4da8-8f75-bea3b5284653"
      },
      "outputs": [
        {
          "output_type": "execute_result",
          "data": {
            "text/plain": [
              "array([[[0.23359203, 0.22131971, 0.44017332],\n",
              "        [0.99794309, 0.8594592 , 0.40894969],\n",
              "        [0.90928334, 0.41233731, 0.44770044]],\n",
              "\n",
              "       [[0.93059823, 0.55581287, 0.88226264],\n",
              "        [0.31186662, 0.39759872, 0.36739164],\n",
              "        [0.41522218, 0.5046957 , 0.36346193]],\n",
              "\n",
              "       [[0.7104002 , 0.55130483, 0.91209174],\n",
              "        [0.82211428, 0.28687258, 0.728637  ],\n",
              "        [0.33784017, 0.66577598, 0.04964542]]])"
            ]
          },
          "metadata": {},
          "execution_count": 47
        }
      ],
      "source": [
        "# your code goes here\n",
        "np.random.rand(3,3,3)"
      ]
    },
    {
      "cell_type": "markdown",
      "metadata": {
        "id": "vrUgIAiTXeTa"
      },
      "source": [
        "![green-divider](https://user-images.githubusercontent.com/7065401/52071924-c003ad80-2562-11e9-8297-1c6595f8a7ff.png)\n",
        "\n",
        "### Given the X python list convert it to an Y numpy array"
      ]
    },
    {
      "cell_type": "code",
      "execution_count": null,
      "metadata": {
        "id": "6579UtShXeTa",
        "colab": {
          "base_uri": "https://localhost:8080/"
        },
        "outputId": "d2d951b0-e488-4101-9b10-554ff1515a65"
      },
      "outputs": [
        {
          "output_type": "stream",
          "name": "stdout",
          "text": [
            "[1, 2, 3] <class 'list'>\n",
            "[1 2 3] <class 'numpy.ndarray'>\n"
          ]
        }
      ],
      "source": [
        "# your code goes here\n",
        "X = [1, 2, 3]\n",
        "print(X, type(X))\n",
        "\n",
        "a = np.array(X)\n",
        "print(a,type(a))"
      ]
    },
    {
      "cell_type": "markdown",
      "metadata": {
        "id": "VlLpD7n1XeTa"
      },
      "source": [
        "![green-divider](https://user-images.githubusercontent.com/7065401/52071924-c003ad80-2562-11e9-8297-1c6595f8a7ff.png)\n",
        "\n",
        "### Given the X numpy array, make a copy and store it on Y."
      ]
    },
    {
      "cell_type": "code",
      "execution_count": null,
      "metadata": {
        "id": "NopuA810XeTa",
        "colab": {
          "base_uri": "https://localhost:8080/"
        },
        "outputId": "7e265b9b-4a4c-4fea-e23a-a877c7381d18"
      },
      "outputs": [
        {
          "output_type": "stream",
          "name": "stdout",
          "text": [
            "[5 3 4] 140075908592912\n",
            "[5 3 4]\n"
          ]
        }
      ],
      "source": [
        "# your code goes here\n",
        "X = np.array([5, 3 ,4], dtype=int)\n",
        "print(X, id(X))\n",
        "\n",
        "y = X.copy()\n",
        "print(y)"
      ]
    },
    {
      "cell_type": "markdown",
      "metadata": {
        "id": "88U7iVFoXeTb"
      },
      "source": [
        "![green-divider](https://user-images.githubusercontent.com/7065401/52071924-c003ad80-2562-11e9-8297-1c6595f8a7ff.png)\n",
        "\n",
        "### Create a numpy array with numbers from 1 to 10"
      ]
    },
    {
      "cell_type": "code",
      "execution_count": null,
      "metadata": {
        "id": "Kld4jDQ3XeTb",
        "colab": {
          "base_uri": "https://localhost:8080/"
        },
        "outputId": "8c10f8d3-92f2-4388-ebd8-a2eb302e46d3"
      },
      "outputs": [
        {
          "output_type": "execute_result",
          "data": {
            "text/plain": [
              "array([ 1,  2,  3,  4,  5,  6,  7,  8,  9, 10])"
            ]
          },
          "metadata": {},
          "execution_count": 54
        }
      ],
      "source": [
        "# your code goes here\n",
        "np.arange(1,11)\n"
      ]
    },
    {
      "cell_type": "markdown",
      "metadata": {
        "id": "H3hpouEeXeTb"
      },
      "source": [
        "![green-divider](https://user-images.githubusercontent.com/7065401/52071924-c003ad80-2562-11e9-8297-1c6595f8a7ff.png)\n",
        "\n",
        "### Create a numpy array with the odd numbers between 1 to 10"
      ]
    },
    {
      "cell_type": "code",
      "execution_count": null,
      "metadata": {
        "id": "TIAoOjGbXeTb",
        "colab": {
          "base_uri": "https://localhost:8080/"
        },
        "outputId": "1d377859-99b9-4ac4-d238-43a43dc0abbe"
      },
      "outputs": [
        {
          "output_type": "execute_result",
          "data": {
            "text/plain": [
              "array([1, 3, 5, 7, 9])"
            ]
          },
          "metadata": {},
          "execution_count": 61
        }
      ],
      "source": [
        "# your code goes here\n",
        "x = np.arange(1,11)\n",
        "x[::2]"
      ]
    },
    {
      "cell_type": "markdown",
      "metadata": {
        "id": "VYfMUnhrXeTb"
      },
      "source": [
        "![green-divider](https://user-images.githubusercontent.com/7065401/52071924-c003ad80-2562-11e9-8297-1c6595f8a7ff.png)\n",
        "\n",
        "### Create a numpy array with numbers from 1 to 10, in descending order."
      ]
    },
    {
      "cell_type": "code",
      "execution_count": null,
      "metadata": {
        "id": "3Z9WmiVVXeTb",
        "colab": {
          "base_uri": "https://localhost:8080/"
        },
        "outputId": "e47c847d-ba37-44e2-d613-1fde463de003"
      },
      "outputs": [
        {
          "output_type": "execute_result",
          "data": {
            "text/plain": [
              "array([10,  9,  8,  7,  6,  5,  4,  3,  2,  1])"
            ]
          },
          "metadata": {},
          "execution_count": 62
        }
      ],
      "source": [
        "# your code goes here\n",
        "x = np.arange(1,11)\n",
        "x[::-1]"
      ]
    },
    {
      "cell_type": "markdown",
      "metadata": {
        "id": "sSFX0QeFXeTb"
      },
      "source": [
        "![green-divider](https://user-images.githubusercontent.com/7065401/52071924-c003ad80-2562-11e9-8297-1c6595f8a7ff.png)\n",
        "\n",
        "### Create a 3*3 numpy matrix, filled with values ranging from 0 to 8"
      ]
    },
    {
      "cell_type": "code",
      "execution_count": null,
      "metadata": {
        "id": "EM2q3zFDXeTb",
        "colab": {
          "base_uri": "https://localhost:8080/"
        },
        "outputId": "0b4fccbd-7060-4412-8489-e91c01ba21cc"
      },
      "outputs": [
        {
          "output_type": "execute_result",
          "data": {
            "text/plain": [
              "array([[0, 1, 2],\n",
              "       [3, 4, 5],\n",
              "       [6, 7, 8]])"
            ]
          },
          "metadata": {},
          "execution_count": 77
        }
      ],
      "source": [
        "# your code goes here\n",
        "np.arange(0,9).reshape(3,3)"
      ]
    },
    {
      "cell_type": "markdown",
      "metadata": {
        "id": "4PAuo9vMXeTb"
      },
      "source": [
        "![green-divider](https://user-images.githubusercontent.com/7065401/52071924-c003ad80-2562-11e9-8297-1c6595f8a7ff.png)\n",
        "\n",
        "### Show the memory size of the given Z numpy matrix"
      ]
    },
    {
      "cell_type": "code",
      "execution_count": null,
      "metadata": {
        "id": "r_mOOns_XeTb"
      },
      "outputs": [],
      "source": [
        "# your code goes here\n"
      ]
    },
    {
      "cell_type": "markdown",
      "metadata": {
        "id": "qv1rLuyAXeTc"
      },
      "source": [
        "![purple-divider](https://user-images.githubusercontent.com/7065401/52071927-c1cd7100-2562-11e9-908a-dde91ba14e59.png)\n",
        "\n",
        "## Array indexation\n"
      ]
    },
    {
      "cell_type": "markdown",
      "metadata": {
        "id": "8wrxp8fXXeTc"
      },
      "source": [
        "### Given the X numpy array, show it's first element"
      ]
    },
    {
      "cell_type": "code",
      "execution_count": null,
      "metadata": {
        "id": "1eytGAhoXeTc",
        "colab": {
          "base_uri": "https://localhost:8080/"
        },
        "outputId": "71d73023-8c0e-46fd-8fce-8cd855ef83dc"
      },
      "outputs": [
        {
          "output_type": "execute_result",
          "data": {
            "text/plain": [
              "4"
            ]
          },
          "metadata": {},
          "execution_count": 109
        }
      ],
      "source": [
        "# your code goes here\n",
        "x = np.array([4,3,3,3])\n",
        "x[0]"
      ]
    },
    {
      "cell_type": "markdown",
      "metadata": {
        "id": "C27ssQJ7XeTc"
      },
      "source": [
        "![green-divider](https://user-images.githubusercontent.com/7065401/52071924-c003ad80-2562-11e9-8297-1c6595f8a7ff.png)\n",
        "\n",
        "### Given the X numpy array, show it's last element"
      ]
    },
    {
      "cell_type": "code",
      "execution_count": null,
      "metadata": {
        "id": "g6ZnGOrxXeTc",
        "colab": {
          "base_uri": "https://localhost:8080/"
        },
        "outputId": "911d2cfa-8b36-415f-c469-481a21cbac02"
      },
      "outputs": [
        {
          "output_type": "execute_result",
          "data": {
            "text/plain": [
              "4"
            ]
          },
          "metadata": {},
          "execution_count": 112
        }
      ],
      "source": [
        "# your code goes here\n",
        "x = np.array([3,3,3,4])\n",
        "x[-1]"
      ]
    },
    {
      "cell_type": "markdown",
      "metadata": {
        "id": "ux7Q_yqxXeTc"
      },
      "source": [
        "![green-divider](https://user-images.githubusercontent.com/7065401/52071924-c003ad80-2562-11e9-8297-1c6595f8a7ff.png)\n",
        "\n",
        "### Given the X numpy array, show it's first three elements"
      ]
    },
    {
      "cell_type": "code",
      "execution_count": null,
      "metadata": {
        "id": "Sy6sz0L5XeTc",
        "colab": {
          "base_uri": "https://localhost:8080/"
        },
        "outputId": "0957ad20-755e-443f-da53-69f4f6705bf1"
      },
      "outputs": [
        {
          "output_type": "execute_result",
          "data": {
            "text/plain": [
              "array([1, 2, 3])"
            ]
          },
          "metadata": {},
          "execution_count": 113
        }
      ],
      "source": [
        "# your code goes here\n",
        "x = np.array([1,2,3,4])\n",
        "x[0:3]"
      ]
    },
    {
      "cell_type": "markdown",
      "metadata": {
        "id": "r-sx9FB5XeTc"
      },
      "source": [
        "![green-divider](https://user-images.githubusercontent.com/7065401/52071924-c003ad80-2562-11e9-8297-1c6595f8a7ff.png)\n",
        "\n",
        "### Given the X numpy array, show all middle elements"
      ]
    },
    {
      "cell_type": "code",
      "execution_count": null,
      "metadata": {
        "id": "mzY0N2SmXeTc",
        "colab": {
          "base_uri": "https://localhost:8080/"
        },
        "outputId": "02f13609-e2f8-4133-9c72-b0a8be075c36"
      },
      "outputs": [
        {
          "output_type": "execute_result",
          "data": {
            "text/plain": [
              "array([2, 3])"
            ]
          },
          "metadata": {},
          "execution_count": 118
        }
      ],
      "source": [
        "# your code goes here\n",
        "x = np.array([1,2,3,4])\n",
        "x[1:3]"
      ]
    },
    {
      "cell_type": "markdown",
      "metadata": {
        "id": "hi6rz7iNXeTd"
      },
      "source": [
        "![green-divider](https://user-images.githubusercontent.com/7065401/52071924-c003ad80-2562-11e9-8297-1c6595f8a7ff.png)\n",
        "\n",
        "### Given the X numpy array, show the elements in reverse position"
      ]
    },
    {
      "cell_type": "code",
      "execution_count": null,
      "metadata": {
        "id": "NNlwYOfwXeTd",
        "colab": {
          "base_uri": "https://localhost:8080/"
        },
        "outputId": "37144a52-3bc1-493f-947d-3c283d8d06db"
      },
      "outputs": [
        {
          "output_type": "execute_result",
          "data": {
            "text/plain": [
              "array([4, 3, 2, 1])"
            ]
          },
          "metadata": {},
          "execution_count": 120
        }
      ],
      "source": [
        "# your code goes here\n",
        "x = np.array([1,2,3,4])\n",
        "x[::-1]"
      ]
    },
    {
      "cell_type": "markdown",
      "metadata": {
        "id": "PoLP1hBzXeTd"
      },
      "source": [
        "![green-divider](https://user-images.githubusercontent.com/7065401/52071924-c003ad80-2562-11e9-8297-1c6595f8a7ff.png)\n",
        "\n",
        "### Given the X numpy array, show the elements in an odd position"
      ]
    },
    {
      "cell_type": "code",
      "execution_count": null,
      "metadata": {
        "id": "-yY__rnCXeTd",
        "colab": {
          "base_uri": "https://localhost:8080/"
        },
        "outputId": "208a4584-42a8-4a63-c8d3-2a3ff35a5ce6"
      },
      "outputs": [
        {
          "output_type": "execute_result",
          "data": {
            "text/plain": [
              "array([2, 4])"
            ]
          },
          "metadata": {},
          "execution_count": 122
        }
      ],
      "source": [
        "# your code goes here\n",
        "x = np.array([1,2,3,4])\n",
        "x[1::2]"
      ]
    },
    {
      "cell_type": "markdown",
      "metadata": {
        "id": "jaiTTjTJXeTd"
      },
      "source": [
        "![green-divider](https://user-images.githubusercontent.com/7065401/52071924-c003ad80-2562-11e9-8297-1c6595f8a7ff.png)\n",
        "\n",
        "### Given the X numpy matrix, show the first row elements"
      ]
    },
    {
      "cell_type": "code",
      "execution_count": null,
      "metadata": {
        "id": "E-n1XQtzXeTd",
        "colab": {
          "base_uri": "https://localhost:8080/"
        },
        "outputId": "8135f465-7016-487a-df47-d0ee742348b9"
      },
      "outputs": [
        {
          "output_type": "stream",
          "name": "stdout",
          "text": [
            "[[0.09839387 0.69663592 0.69241108]\n",
            " [0.94943886 0.20550435 0.94552202]]\n"
          ]
        },
        {
          "output_type": "execute_result",
          "data": {
            "text/plain": [
              "array([0.09839387, 0.69663592, 0.69241108])"
            ]
          },
          "metadata": {},
          "execution_count": 127
        }
      ],
      "source": [
        "# your code goes here\n",
        "x = np.random.rand(2,3)\n",
        "print(x)\n",
        "x[0,0::]"
      ]
    },
    {
      "cell_type": "markdown",
      "metadata": {
        "id": "YzwiDFrsXeTd"
      },
      "source": [
        "![green-divider](https://user-images.githubusercontent.com/7065401/52071924-c003ad80-2562-11e9-8297-1c6595f8a7ff.png)\n",
        "\n",
        "### Given the X numpy matrix, show the last row elements"
      ]
    },
    {
      "cell_type": "code",
      "execution_count": null,
      "metadata": {
        "id": "keGFkn1uXeTd",
        "colab": {
          "base_uri": "https://localhost:8080/"
        },
        "outputId": "a6f27853-0b5e-4ac7-fee4-2ad5a7ef1c44"
      },
      "outputs": [
        {
          "output_type": "stream",
          "name": "stdout",
          "text": [
            "[[0.35495726 0.55668298 0.82684716]\n",
            " [0.09771445 0.25038673 0.65550181]]\n"
          ]
        },
        {
          "output_type": "execute_result",
          "data": {
            "text/plain": [
              "array([0.09771445, 0.25038673, 0.65550181])"
            ]
          },
          "metadata": {},
          "execution_count": 131
        }
      ],
      "source": [
        "# your code goes here\n",
        "x = np.random.rand(2,3)\n",
        "print(x)\n",
        "x[-1,0::]"
      ]
    },
    {
      "cell_type": "markdown",
      "metadata": {
        "id": "KvAsNMikXeTd"
      },
      "source": [
        "![green-divider](https://user-images.githubusercontent.com/7065401/52071924-c003ad80-2562-11e9-8297-1c6595f8a7ff.png)\n",
        "\n",
        "### Given the X numpy matrix, show the first element on first row"
      ]
    },
    {
      "cell_type": "code",
      "execution_count": null,
      "metadata": {
        "id": "ZkCKY3OCXeTd",
        "colab": {
          "base_uri": "https://localhost:8080/"
        },
        "outputId": "8cf5432e-c01b-4e5f-e507-5027064f6dab"
      },
      "outputs": [
        {
          "output_type": "stream",
          "name": "stdout",
          "text": [
            "[[0.85141307 0.40741533 0.96857645]\n",
            " [0.10087888 0.72169799 0.21508148]]\n"
          ]
        },
        {
          "output_type": "execute_result",
          "data": {
            "text/plain": [
              "0.8514130664631836"
            ]
          },
          "metadata": {},
          "execution_count": 4
        }
      ],
      "source": [
        "# your code goes here\n",
        "x = np.random.rand(2,3)\n",
        "print(x)\n",
        "x[0,0]"
      ]
    },
    {
      "cell_type": "markdown",
      "metadata": {
        "id": "hSVcjd6wXeTe"
      },
      "source": [
        "![green-divider](https://user-images.githubusercontent.com/7065401/52071924-c003ad80-2562-11e9-8297-1c6595f8a7ff.png)\n",
        "\n",
        "### Given the X numpy matrix, show the last element on last row"
      ]
    },
    {
      "cell_type": "code",
      "execution_count": null,
      "metadata": {
        "id": "ZBUuAKW3XeTe",
        "colab": {
          "base_uri": "https://localhost:8080/"
        },
        "outputId": "2ed9e3ef-db83-4554-e743-b905c9f254d4"
      },
      "outputs": [
        {
          "output_type": "stream",
          "name": "stdout",
          "text": [
            "[[0.07359028 0.23056235 0.18380963]\n",
            " [0.93128251 0.27330995 0.80554489]]\n"
          ]
        },
        {
          "output_type": "execute_result",
          "data": {
            "text/plain": [
              "0.8055448938070756"
            ]
          },
          "metadata": {},
          "execution_count": 5
        }
      ],
      "source": [
        "# your code goes here\n",
        "x = np.random.rand(2,3)\n",
        "print(x)\n",
        "x[-1,-1]\n"
      ]
    },
    {
      "cell_type": "markdown",
      "metadata": {
        "id": "FyNFHnuKXeTe"
      },
      "source": [
        "![green-divider](https://user-images.githubusercontent.com/7065401/52071924-c003ad80-2562-11e9-8297-1c6595f8a7ff.png)\n",
        "\n",
        "### Given the X numpy matrix, show the middle row elements"
      ]
    },
    {
      "cell_type": "code",
      "execution_count": null,
      "metadata": {
        "id": "L2175UOCXeTe"
      },
      "outputs": [],
      "source": [
        "# your code goes here\n",
        "x = np.random.rand(3,3)\n",
        "print(x)\n",
        "x[1:2:]\n"
      ]
    },
    {
      "cell_type": "markdown",
      "metadata": {
        "id": "2D4ZAU_sXeTe"
      },
      "source": [
        "![green-divider](https://user-images.githubusercontent.com/7065401/52071924-c003ad80-2562-11e9-8297-1c6595f8a7ff.png)\n",
        "\n",
        "### Given the X numpy matrix, show the first two elements on the first two rows"
      ]
    },
    {
      "cell_type": "code",
      "execution_count": null,
      "metadata": {
        "id": "8nsZDRnFXeTe",
        "colab": {
          "base_uri": "https://localhost:8080/"
        },
        "outputId": "ba80c2a3-430f-44b6-9db3-9adba39bc49d"
      },
      "outputs": [
        {
          "output_type": "stream",
          "name": "stdout",
          "text": [
            "[[0.60584621 0.14505917 0.48905804]\n",
            " [0.71956516 0.29917409 0.43934031]\n",
            " [0.14197355 0.28206644 0.16205692]]\n"
          ]
        },
        {
          "output_type": "execute_result",
          "data": {
            "text/plain": [
              "array([[0.60584621, 0.14505917],\n",
              "       [0.71956516, 0.29917409]])"
            ]
          },
          "metadata": {},
          "execution_count": 14
        }
      ],
      "source": [
        "# your code goes here\n",
        "x = np.random.rand(3,3)\n",
        "print(x)\n",
        "x[0:2,0:2]"
      ]
    },
    {
      "cell_type": "markdown",
      "metadata": {
        "id": "W5AtjZ3uXeTe"
      },
      "source": [
        "![green-divider](https://user-images.githubusercontent.com/7065401/52071924-c003ad80-2562-11e9-8297-1c6595f8a7ff.png)\n",
        "\n",
        "### Given the X numpy matrix, show the last two elements on the last two rows"
      ]
    },
    {
      "cell_type": "code",
      "execution_count": null,
      "metadata": {
        "id": "TnqHW-U1XeTe",
        "colab": {
          "base_uri": "https://localhost:8080/"
        },
        "outputId": "9f1b29cd-eda4-4b3f-ac0b-a51bf4b8fb77"
      },
      "outputs": [
        {
          "output_type": "stream",
          "name": "stdout",
          "text": [
            "[[0.47000918 0.10634352 0.26378344]\n",
            " [0.89358648 0.41843389 0.93114037]\n",
            " [0.0930951  0.06913484 0.39371039]]\n"
          ]
        },
        {
          "output_type": "execute_result",
          "data": {
            "text/plain": [
              "array([[0.41843389, 0.93114037],\n",
              "       [0.06913484, 0.39371039]])"
            ]
          },
          "metadata": {},
          "execution_count": 18
        }
      ],
      "source": [
        "# your code goes here\n",
        "x = np.random.rand(3,3)\n",
        "print(x)\n",
        "x[-2:,-2:]\n"
      ]
    },
    {
      "cell_type": "markdown",
      "metadata": {
        "id": "2DK_GNP4XeTf"
      },
      "source": [
        "![purple-divider](https://user-images.githubusercontent.com/7065401/52071927-c1cd7100-2562-11e9-908a-dde91ba14e59.png)\n",
        "\n",
        "## Array manipulation\n"
      ]
    },
    {
      "cell_type": "markdown",
      "metadata": {
        "id": "euIL3YPcXeTf"
      },
      "source": [
        "### Convert the given integer numpy array to float"
      ]
    },
    {
      "cell_type": "code",
      "execution_count": null,
      "metadata": {
        "id": "QurXknVSXeTf",
        "colab": {
          "base_uri": "https://localhost:8080/"
        },
        "outputId": "fc64f3ac-da30-4cc3-c97e-f15c5e09a3a9"
      },
      "outputs": [
        {
          "output_type": "stream",
          "name": "stdout",
          "text": [
            "[-5. -3.  0. 10. 40.]\n"
          ]
        }
      ],
      "source": [
        "# your code goes here\n",
        "x = np.array([-5, -3, 0, 10, 40])\n",
        "x = x.astype(float)\n",
        "print(x)"
      ]
    },
    {
      "cell_type": "markdown",
      "metadata": {
        "id": "hoZvfcnOXeTf"
      },
      "source": [
        "![green-divider](https://user-images.githubusercontent.com/7065401/52071924-c003ad80-2562-11e9-8297-1c6595f8a7ff.png)\n",
        "\n",
        "### Reverse the given numpy array (first element becomes last)"
      ]
    },
    {
      "cell_type": "code",
      "execution_count": null,
      "metadata": {
        "id": "nKNwo37BXeTf",
        "colab": {
          "base_uri": "https://localhost:8080/"
        },
        "outputId": "dd0f238b-aa87-4430-b53d-d5133cde60c3"
      },
      "outputs": [
        {
          "output_type": "execute_result",
          "data": {
            "text/plain": [
              "array([40, 10,  0, -3, -5])"
            ]
          },
          "metadata": {},
          "execution_count": 29
        }
      ],
      "source": [
        "# your code goes here\n",
        "X = np.array([-5, -3, 0, 10, 40])\n",
        "X[::-1]\n",
        "\n"
      ]
    },
    {
      "cell_type": "markdown",
      "metadata": {
        "id": "uVb0gjUBXeTf"
      },
      "source": [
        "![green-divider](https://user-images.githubusercontent.com/7065401/52071924-c003ad80-2562-11e9-8297-1c6595f8a7ff.png)\n",
        "\n",
        "### Order (sort) the given numpy array"
      ]
    },
    {
      "cell_type": "code",
      "execution_count": null,
      "metadata": {
        "id": "x8KlLTSDXeTf",
        "colab": {
          "base_uri": "https://localhost:8080/"
        },
        "outputId": "38a1b99e-2170-4815-9dc6-6be15bfc0ea9"
      },
      "outputs": [
        {
          "output_type": "stream",
          "name": "stdout",
          "text": [
            "[-3  0 10 40 50]\n"
          ]
        }
      ],
      "source": [
        "# your code goes here\n",
        "X = np.array([0, -3, 10, 50, 40])\n",
        "X.sort()\n",
        "print(X)"
      ]
    },
    {
      "cell_type": "markdown",
      "metadata": {
        "id": "Qm513QuKXeTf"
      },
      "source": [
        "![green-divider](https://user-images.githubusercontent.com/7065401/52071924-c003ad80-2562-11e9-8297-1c6595f8a7ff.png)\n",
        "\n",
        "### Given the X numpy array, set the fifth element equal to 1"
      ]
    },
    {
      "cell_type": "code",
      "execution_count": null,
      "metadata": {
        "id": "b4gTSXf-XeTf",
        "colab": {
          "base_uri": "https://localhost:8080/"
        },
        "outputId": "e41051c7-7caa-4b8a-8f49-37792fcb42a0"
      },
      "outputs": [
        {
          "output_type": "stream",
          "name": "stdout",
          "text": [
            "[0. 0. 0. 0. 1. 0. 0. 0. 0. 0.]\n"
          ]
        }
      ],
      "source": [
        "# your code goes here\n",
        "X = np.zeros(10)\n",
        "X[4] = 1\n",
        "print(X) "
      ]
    },
    {
      "cell_type": "markdown",
      "metadata": {
        "id": "YT2PU49gXeTf"
      },
      "source": [
        "![green-divider](https://user-images.githubusercontent.com/7065401/52071924-c003ad80-2562-11e9-8297-1c6595f8a7ff.png)\n",
        "\n",
        "### Given the X numpy array, change the 50 with a 40"
      ]
    },
    {
      "cell_type": "code",
      "execution_count": null,
      "metadata": {
        "id": "iCVDcyjqXeTf",
        "colab": {
          "base_uri": "https://localhost:8080/"
        },
        "outputId": "7855c60c-6b04-4cdb-ad51-adcf089679fa"
      },
      "outputs": [
        {
          "output_type": "stream",
          "name": "stdout",
          "text": [
            "3\n"
          ]
        }
      ],
      "source": [
        "# your code goes here\n",
        "X = np.array([10, 20, 30, 50])\n",
        "X[3] = 40\n",
        "print(3)"
      ]
    },
    {
      "cell_type": "markdown",
      "metadata": {
        "id": "ODRMOPvtXeTg"
      },
      "source": [
        "![green-divider](https://user-images.githubusercontent.com/7065401/52071924-c003ad80-2562-11e9-8297-1c6595f8a7ff.png)\n",
        "\n",
        "### Given the X numpy matrix, change the last row with all 1"
      ]
    },
    {
      "cell_type": "code",
      "execution_count": null,
      "metadata": {
        "id": "0O9E5O_DXeTg",
        "colab": {
          "base_uri": "https://localhost:8080/"
        },
        "outputId": "acef61fd-ff90-45dd-be42-4b0e61217a50"
      },
      "outputs": [
        {
          "output_type": "stream",
          "name": "stdout",
          "text": [
            "[[ 1  2  3  4]\n",
            " [ 5  6  7  8]\n",
            " [ 9 10 11 12]\n",
            " [ 1  1  1  1]]\n"
          ]
        }
      ],
      "source": [
        "# your code goes here\n",
        "X = np.array([\n",
        "              [1, 2, 3, 4],\n",
        "              [5, 6, 7, 8],\n",
        "              [9, 10, 11, 12],\n",
        "              [13, 14, 15, 16]\n",
        "])\n",
        "\n",
        "X[-1::] = 1\n",
        "print(X)"
      ]
    },
    {
      "cell_type": "markdown",
      "metadata": {
        "id": "zffhfLkiXeTg"
      },
      "source": [
        "![green-divider](https://user-images.githubusercontent.com/7065401/52071924-c003ad80-2562-11e9-8297-1c6595f8a7ff.png)\n",
        "\n",
        "### Given the X numpy matrix, change the last item on the last row with a 0"
      ]
    },
    {
      "cell_type": "code",
      "execution_count": null,
      "metadata": {
        "id": "SBIi1OGSXeTg",
        "colab": {
          "base_uri": "https://localhost:8080/"
        },
        "outputId": "11e48da1-dc7d-4fb0-a511-172a02a69213"
      },
      "outputs": [
        {
          "output_type": "stream",
          "name": "stdout",
          "text": [
            "[[ 1  2  3  4]\n",
            " [ 5  6  7  8]\n",
            " [ 9 10 11 12]\n",
            " [13 14 15  0]]\n"
          ]
        }
      ],
      "source": [
        "# your code goes here\n",
        "X = np.array([\n",
        "              [1, 2, 3, 4],\n",
        "              [5, 6, 7, 8],\n",
        "              [9, 10, 11, 12],\n",
        "              [13, 14, 15, 16]\n",
        "])\n",
        "\n",
        "X[-1,-1] = 0\n",
        "print(X)"
      ]
    },
    {
      "cell_type": "markdown",
      "metadata": {
        "id": "vX2U1OI2XeTg"
      },
      "source": [
        "![green-divider](https://user-images.githubusercontent.com/7065401/52071924-c003ad80-2562-11e9-8297-1c6595f8a7ff.png)\n",
        "\n",
        "### Given the X numpy matrix, add 5 to every element"
      ]
    },
    {
      "cell_type": "code",
      "execution_count": null,
      "metadata": {
        "id": "Z_HKiFasXeTg",
        "colab": {
          "base_uri": "https://localhost:8080/"
        },
        "outputId": "439435df-bd87-494c-bddd-93ffbcfa6de3"
      },
      "outputs": [
        {
          "output_type": "stream",
          "name": "stdout",
          "text": [
            "[[ 6  7  8  9]\n",
            " [10 11 12 13]\n",
            " [14 15 16 17]\n",
            " [18 19 20 21]]\n"
          ]
        }
      ],
      "source": [
        "# your code goes here\n",
        "X = np.array([\n",
        "              [1, 2, 3, 4],\n",
        "              [5, 6, 7, 8],\n",
        "              [9, 10, 11, 12],\n",
        "              [13, 14, 15, 16]\n",
        "])\n",
        "\n",
        "X[::] = X+5\n",
        "print(X)"
      ]
    },
    {
      "cell_type": "markdown",
      "metadata": {
        "id": "vM3WUYinXeTg"
      },
      "source": [
        "![purple-divider](https://user-images.githubusercontent.com/7065401/52071927-c1cd7100-2562-11e9-908a-dde91ba14e59.png)\n",
        "\n",
        "## Boolean arrays _(also called masks)_\n"
      ]
    },
    {
      "cell_type": "markdown",
      "metadata": {
        "id": "89FXya3lXeTg"
      },
      "source": [
        "### Given the X numpy array, make a mask showing negative elements"
      ]
    },
    {
      "cell_type": "code",
      "execution_count": null,
      "metadata": {
        "id": "n7-JZH_aXeTg",
        "colab": {
          "base_uri": "https://localhost:8080/"
        },
        "outputId": "e75c1237-ede3-4003-92a3-082b946471e9"
      },
      "outputs": [
        {
          "output_type": "execute_result",
          "data": {
            "text/plain": [
              "array([-1, -4, -9])"
            ]
          },
          "metadata": {},
          "execution_count": 46
        }
      ],
      "source": [
        "# your code goes here\n",
        "X = np.array([-1, 2, 0, -4, 5, 6, 0, 0, -9, 10])\n",
        "X[X<0]"
      ]
    },
    {
      "cell_type": "markdown",
      "metadata": {
        "id": "rgEZ-rCEXeTg"
      },
      "source": [
        "![green-divider](https://user-images.githubusercontent.com/7065401/52071924-c003ad80-2562-11e9-8297-1c6595f8a7ff.png)\n",
        "\n",
        "### Given the X numpy array, get the negative elements"
      ]
    },
    {
      "cell_type": "code",
      "execution_count": null,
      "metadata": {
        "id": "m0MpMauXXeTh",
        "colab": {
          "base_uri": "https://localhost:8080/"
        },
        "outputId": "b0ee7eab-0573-4bfd-eec9-b71128c6e8d7"
      },
      "outputs": [
        {
          "output_type": "execute_result",
          "data": {
            "text/plain": [
              "array([-1, -4, -9])"
            ]
          },
          "metadata": {},
          "execution_count": 47
        }
      ],
      "source": [
        "# your code goes here\n",
        "X = np.array([-1, 2, 0, -4, 5, 6, 0, 0, -9, 10])\n",
        "X[X<0]"
      ]
    },
    {
      "cell_type": "markdown",
      "metadata": {
        "id": "s8hyw5pAXeTh"
      },
      "source": [
        "![green-divider](https://user-images.githubusercontent.com/7065401/52071924-c003ad80-2562-11e9-8297-1c6595f8a7ff.png)\n",
        "\n",
        "### Given the X numpy array, get numbers higher than 5"
      ]
    },
    {
      "cell_type": "code",
      "execution_count": null,
      "metadata": {
        "id": "-jTaJv31XeTh",
        "colab": {
          "base_uri": "https://localhost:8080/"
        },
        "outputId": "c6ccc5c3-de80-48fa-dc23-8ca8e0883ef2"
      },
      "outputs": [
        {
          "output_type": "execute_result",
          "data": {
            "text/plain": [
              "array([ 6, 10])"
            ]
          },
          "metadata": {},
          "execution_count": 48
        }
      ],
      "source": [
        "# your code goes here\n",
        "X = np.array([-1, 2, 0, -4, 5, 6, 0, 0, -9, 10])\n",
        "X[X>5]"
      ]
    },
    {
      "cell_type": "markdown",
      "metadata": {
        "id": "5hYxemhSXeTh"
      },
      "source": [
        "![green-divider](https://user-images.githubusercontent.com/7065401/52071924-c003ad80-2562-11e9-8297-1c6595f8a7ff.png)\n",
        "\n",
        "### Given the X numpy array, get numbers higher than the elements mean"
      ]
    },
    {
      "cell_type": "code",
      "execution_count": null,
      "metadata": {
        "id": "q8K1d5M_XeTh",
        "colab": {
          "base_uri": "https://localhost:8080/"
        },
        "outputId": "31cf17aa-44fc-466b-d3e9-bcb90ab49088"
      },
      "outputs": [
        {
          "output_type": "execute_result",
          "data": {
            "text/plain": [
              "array([ 2,  5,  6, 10])"
            ]
          },
          "metadata": {},
          "execution_count": 49
        }
      ],
      "source": [
        "# your code goes here\n",
        "X = np.array([-1, 2, 0, -4, 5, 6, 0, 0, -9, 10])\n",
        "X[X>X.mean()]"
      ]
    },
    {
      "cell_type": "markdown",
      "metadata": {
        "id": "yjTCambqXeTh"
      },
      "source": [
        "![green-divider](https://user-images.githubusercontent.com/7065401/52071924-c003ad80-2562-11e9-8297-1c6595f8a7ff.png)\n",
        "\n",
        "### Given the X numpy array, get numbers equal to 2 or 10"
      ]
    },
    {
      "cell_type": "code",
      "execution_count": null,
      "metadata": {
        "id": "RywE8VKjXeTh",
        "colab": {
          "base_uri": "https://localhost:8080/"
        },
        "outputId": "4625c9e5-4ba8-434c-8f07-2676371e4161"
      },
      "outputs": [
        {
          "output_type": "execute_result",
          "data": {
            "text/plain": [
              "array([ 2, 10])"
            ]
          },
          "metadata": {},
          "execution_count": 53
        }
      ],
      "source": [
        "# your code goes here\n",
        "X = np.array([-1, 2, 0, -4, 5, 6, 0, 0, -9, 10])\n",
        "X[(X==2) | (X==10)]"
      ]
    },
    {
      "cell_type": "markdown",
      "metadata": {
        "id": "2-EoKZ-6XeTh"
      },
      "source": [
        "![purple-divider](https://user-images.githubusercontent.com/7065401/52071927-c1cd7100-2562-11e9-908a-dde91ba14e59.png)\n",
        "\n",
        "## Logic functions\n"
      ]
    },
    {
      "cell_type": "markdown",
      "metadata": {
        "id": "YWFAaqhwXeTh"
      },
      "source": [
        "### Given the X numpy array, return True if none of its elements is zero\n",
        "\n",
        "---\n",
        "\n"
      ]
    },
    {
      "cell_type": "code",
      "execution_count": null,
      "metadata": {
        "id": "Kn3YxwJMXeTh",
        "colab": {
          "base_uri": "https://localhost:8080/"
        },
        "outputId": "658b1e09-ba5d-4310-b7e6-6408655d473b"
      },
      "outputs": [
        {
          "output_type": "stream",
          "name": "stdout",
          "text": [
            "False\n"
          ]
        }
      ],
      "source": [
        "# your code goes here\n",
        "X = np.array([-1, 2, 0, -4, 5, 6, 0, 0, -9, 10])\n",
        "print(np.all(X))\n",
        "\n"
      ]
    },
    {
      "cell_type": "markdown",
      "metadata": {
        "id": "pOWxL1JEXeTh"
      },
      "source": [
        "![green-divider](https://user-images.githubusercontent.com/7065401/52071924-c003ad80-2562-11e9-8297-1c6595f8a7ff.png)\n",
        "\n",
        "### Given the X numpy array, return True if any of its elements is zero"
      ]
    },
    {
      "cell_type": "code",
      "execution_count": null,
      "metadata": {
        "id": "avB_7dZxXeTi",
        "colab": {
          "base_uri": "https://localhost:8080/"
        },
        "outputId": "73f4172c-95a3-4f09-eee8-02f0c0cda53e"
      },
      "outputs": [
        {
          "output_type": "stream",
          "name": "stdout",
          "text": [
            "True\n"
          ]
        }
      ],
      "source": [
        "# your code goes here\n",
        "X = np.array([-1, 2, 0, -4, 5, 6, 0, 0, -9, 10])\n",
        "print(np.any(x))"
      ]
    },
    {
      "cell_type": "markdown",
      "metadata": {
        "id": "WUDmttK3XeTi"
      },
      "source": [
        "![purple-divider](https://user-images.githubusercontent.com/7065401/52071927-c1cd7100-2562-11e9-908a-dde91ba14e59.png)\n",
        "\n",
        "## Summary statistics"
      ]
    },
    {
      "cell_type": "markdown",
      "metadata": {
        "id": "vLTDHvHaXeTi"
      },
      "source": [
        "### Given the X numpy array, show the sum of its elements"
      ]
    },
    {
      "cell_type": "code",
      "execution_count": null,
      "metadata": {
        "id": "DdfQVbB_XeTi",
        "colab": {
          "base_uri": "https://localhost:8080/"
        },
        "outputId": "e4ad6513-e5e2-4fef-cc46-50dcd5f450f0"
      },
      "outputs": [
        {
          "output_type": "stream",
          "name": "stdout",
          "text": [
            "43\n"
          ]
        }
      ],
      "source": [
        "# your code goes here\n",
        "X = np.array([3, 5, 6, 7, 2, 3, 4, 9, 4])\n",
        "print(X.sum())"
      ]
    },
    {
      "cell_type": "markdown",
      "metadata": {
        "id": "OSVQC1biXeTi"
      },
      "source": [
        "![green-divider](https://user-images.githubusercontent.com/7065401/52071924-c003ad80-2562-11e9-8297-1c6595f8a7ff.png)\n",
        "\n",
        "### Given the X numpy array, show the mean value of its elements"
      ]
    },
    {
      "cell_type": "code",
      "execution_count": null,
      "metadata": {
        "id": "w0hm9a2mXeTi",
        "colab": {
          "base_uri": "https://localhost:8080/"
        },
        "outputId": "ac4d848d-f1df-4b60-863c-e175da8d28de"
      },
      "outputs": [
        {
          "output_type": "stream",
          "name": "stdout",
          "text": [
            "3.7\n"
          ]
        }
      ],
      "source": [
        "# your code goes here\n",
        "X = np.array([1, 2, 0, 4, 5, 6, 0, 0, 9, 10])\n",
        "print(X.mean())"
      ]
    },
    {
      "cell_type": "markdown",
      "metadata": {
        "id": "g-7k8DGyXeTi"
      },
      "source": [
        "![green-divider](https://user-images.githubusercontent.com/7065401/52071924-c003ad80-2562-11e9-8297-1c6595f8a7ff.png)\n",
        "\n",
        "### Given the X numpy matrix, show the sum of its columns"
      ]
    },
    {
      "cell_type": "code",
      "execution_count": null,
      "metadata": {
        "id": "qEJngKCZXeTi",
        "colab": {
          "base_uri": "https://localhost:8080/"
        },
        "outputId": "591431a2-9f78-4eaa-bd26-7685ee0e0af1"
      },
      "outputs": [
        {
          "output_type": "stream",
          "name": "stdout",
          "text": [
            "[28 32 36 40]\n"
          ]
        }
      ],
      "source": [
        "# your code goes here\n",
        "X = np.array([\n",
        "              [1, 2, 3, 4],\n",
        "              [5, 6, 7, 8],\n",
        "              [9, 10, 11, 12],\n",
        "              [13, 14, 15, 16]\n",
        "])\n",
        "\n",
        "print(X.sum(axis=0))"
      ]
    },
    {
      "cell_type": "markdown",
      "metadata": {
        "id": "0qnExH0LXeTi"
      },
      "source": [
        "![green-divider](https://user-images.githubusercontent.com/7065401/52071924-c003ad80-2562-11e9-8297-1c6595f8a7ff.png)\n",
        "\n",
        "### Given the X numpy matrix, show the mean value of its rows"
      ]
    },
    {
      "cell_type": "code",
      "execution_count": null,
      "metadata": {
        "id": "Ep09QSBbXeTi",
        "colab": {
          "base_uri": "https://localhost:8080/"
        },
        "outputId": "dd0dcc34-27d6-4eae-9bb1-e9ea51d17d2e"
      },
      "outputs": [
        {
          "output_type": "stream",
          "name": "stdout",
          "text": [
            "[ 2.5  6.5 10.5 14.5]\n"
          ]
        }
      ],
      "source": [
        "# your code goes here\n",
        "X = np.array([\n",
        "              [1, 2, 3, 4],\n",
        "              [5, 6, 7, 8],\n",
        "              [9, 10, 11, 12],\n",
        "              [13, 14, 15, 16]\n",
        "])\n",
        "\n",
        "print(X.mean(axis = 1))"
      ]
    },
    {
      "cell_type": "markdown",
      "metadata": {
        "id": "UHV482S2XeTj"
      },
      "source": [
        "![green-divider](https://user-images.githubusercontent.com/7065401/52071924-c003ad80-2562-11e9-8297-1c6595f8a7ff.png)\n",
        "\n",
        "### Given the X numpy array, show the max value of its elements"
      ]
    },
    {
      "cell_type": "code",
      "execution_count": null,
      "metadata": {
        "id": "pWE9TDDcXeTj",
        "colab": {
          "base_uri": "https://localhost:8080/"
        },
        "outputId": "50ae4b24-81e0-47cd-8423-5cd1b7f9af8c"
      },
      "outputs": [
        {
          "output_type": "stream",
          "name": "stdout",
          "text": [
            "16\n"
          ]
        }
      ],
      "source": [
        "# your code goes here\n",
        "X = np.array([\n",
        "              [1, 2, 3, 4],\n",
        "              [5, 6, 7, 8],\n",
        "              [9, 10, 11, 12],\n",
        "              [13, 14, 15, 16]\n",
        "])\n",
        "\n",
        "print(X.max())"
      ]
    },
    {
      "cell_type": "markdown",
      "metadata": {
        "id": "sfFu1i4tXeTj"
      },
      "source": [
        "![purple-divider](https://user-images.githubusercontent.com/7065401/52071927-c1cd7100-2562-11e9-908a-dde91ba14e59.png)"
      ]
    }
  ],
  "metadata": {
    "kernelspec": {
      "display_name": "Python 3",
      "language": "python",
      "name": "python3"
    },
    "language_info": {
      "codemirror_mode": {
        "name": "ipython",
        "version": 3
      },
      "file_extension": ".py",
      "mimetype": "text/x-python",
      "name": "python",
      "nbconvert_exporter": "python",
      "pygments_lexer": "ipython3",
      "version": "3.8.1"
    },
    "colab": {
      "name": "Numpy_exercises_Solved.ipynb",
      "provenance": [],
      "collapsed_sections": [
        "q_UqDkVIXeTN",
        "be3WDfCJXeTO",
        "Ryv0tvKKXeTW",
        "kSH6yTghXeTX",
        "qT-oLSHVXeTX",
        "ZYUHrZ8lXeTX",
        "DfxOtoWvXeTY",
        "Ju_-_OywXeTY",
        "ZeLdJmMWXeTZ",
        "Ka9JLJFlXeTZ",
        "vxviK_zuXeTZ",
        "kSUBgPWwXeTa",
        "vrUgIAiTXeTa",
        "VlLpD7n1XeTa",
        "88U7iVFoXeTb",
        "H3hpouEeXeTb",
        "VYfMUnhrXeTb",
        "sSFX0QeFXeTb",
        "qv1rLuyAXeTc",
        "8wrxp8fXXeTc",
        "C27ssQJ7XeTc",
        "ux7Q_yqxXeTc",
        "r-sx9FB5XeTc",
        "hi6rz7iNXeTd",
        "PoLP1hBzXeTd",
        "jaiTTjTJXeTd",
        "YzwiDFrsXeTd",
        "KvAsNMikXeTd",
        "hSVcjd6wXeTe",
        "FyNFHnuKXeTe",
        "2D4ZAU_sXeTe",
        "W5AtjZ3uXeTe",
        "2DK_GNP4XeTf",
        "euIL3YPcXeTf",
        "hoZvfcnOXeTf",
        "uVb0gjUBXeTf",
        "Qm513QuKXeTf",
        "YT2PU49gXeTf",
        "ODRMOPvtXeTg",
        "zffhfLkiXeTg",
        "vX2U1OI2XeTg",
        "vM3WUYinXeTg",
        "89FXya3lXeTg",
        "rgEZ-rCEXeTg",
        "s8hyw5pAXeTh",
        "5hYxemhSXeTh",
        "yjTCambqXeTh",
        "2-EoKZ-6XeTh",
        "YWFAaqhwXeTh",
        "pOWxL1JEXeTh",
        "WUDmttK3XeTi",
        "vLTDHvHaXeTi",
        "OSVQC1biXeTi",
        "g-7k8DGyXeTi",
        "0qnExH0LXeTi"
      ],
      "include_colab_link": true
    }
  },
  "nbformat": 4,
  "nbformat_minor": 0
}