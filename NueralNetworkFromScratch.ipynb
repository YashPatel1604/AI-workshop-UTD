{
  "nbformat": 4,
  "nbformat_minor": 0,
  "metadata": {
    "colab": {
      "name": "NueralNetworkFromScratch.ipynb",
      "provenance": [],
      "collapsed_sections": [],
      "authorship_tag": "ABX9TyNTDdS3TdYwSnHoUFnDLL8R",
      "include_colab_link": true
    },
    "kernelspec": {
      "name": "python3",
      "display_name": "Python 3"
    },
    "language_info": {
      "name": "python"
    }
  },
  "cells": [
    {
      "cell_type": "markdown",
      "metadata": {
        "id": "view-in-github",
        "colab_type": "text"
      },
      "source": [
        "<a href=\"https://colab.research.google.com/github/YashPatel1604/AI-workshop-UTD/blob/main/NueralNetworkFromScratch.ipynb\" target=\"_parent\"><img src=\"https://colab.research.google.com/assets/colab-badge.svg\" alt=\"Open In Colab\"/></a>"
      ]
    },
    {
      "cell_type": "code",
      "source": [
        "import numpy as np\n",
        "import pandas as pd"
      ],
      "metadata": {
        "id": "BIrkPqxbHUxI"
      },
      "execution_count": null,
      "outputs": []
    },
    {
      "cell_type": "code",
      "source": [
        "np.random.seed(0)\n",
        "train = np.load('X.npy')\n",
        "test = np.load('y.npy')\n",
        "w_col = train.shape[1]\n",
        "w_row = train.shape[0]\n",
        "w = pd.DataFrame(np.random.rand(w_row,w_col))\n",
        "w1 = pd.DataFrame(np.random.rand(w_row,w_col))\n",
        "w2 = pd.DataFrame(np.random.rand(w_row,w_col))\n",
        "b = pd.DataFrame(np.random.rand(w_row,w_col))"
      ],
      "metadata": {
        "id": "etGrwp2kMeva"
      },
      "execution_count": null,
      "outputs": []
    },
    {
      "cell_type": "code",
      "source": [
        "train.shape"
      ],
      "metadata": {
        "id": "-ufsIvWSKukc",
        "outputId": "320d5579-db0f-48d5-afea-4b0ff2f04da2",
        "colab": {
          "base_uri": "https://localhost:8080/"
        }
      },
      "execution_count": null,
      "outputs": [
        {
          "output_type": "execute_result",
          "data": {
            "text/plain": [
              "(5000, 400)"
            ]
          },
          "metadata": {},
          "execution_count": 255
        }
      ]
    },
    {
      "cell_type": "code",
      "source": [
        "print(w2)"
      ],
      "metadata": {
        "colab": {
          "base_uri": "https://localhost:8080/"
        },
        "id": "JAW4KP3WKpoD",
        "outputId": "8857380c-c937-46c2-befe-8d2141ebc71b"
      },
      "execution_count": null,
      "outputs": [
        {
          "output_type": "stream",
          "name": "stdout",
          "text": [
            "           0         1         2         3         4         5         6    \\\n",
            "0     0.164776  0.337974  0.203675  0.979871  0.200594  0.580570  0.429140   \n",
            "1     0.407549  0.885433  0.458048  0.307416  0.353286  0.634559  0.609061   \n",
            "2     0.144851  0.743459  0.367336  0.621455  0.590398  0.090138  0.342276   \n",
            "3     0.793170  0.266859  0.090950  0.449792  0.161842  0.819067  0.091280   \n",
            "4     0.080238  0.743340  0.658145  0.514796  0.629928  0.669647  0.558021   \n",
            "...        ...       ...       ...       ...       ...       ...       ...   \n",
            "4995  0.996382  0.887539  0.609949  0.568442  0.466450  0.570668  0.721991   \n",
            "4996  0.767628  0.126751  0.815505  0.416618  0.405973  0.558179  0.380710   \n",
            "4997  0.533757  0.925648  0.685942  0.600465  0.303760  0.036208  0.915476   \n",
            "4998  0.610733  0.294889  0.925567  0.324649  0.436818  0.023581  0.904110   \n",
            "4999  0.704316  0.818603  0.298841  0.944765  0.118958  0.413527  0.625674   \n",
            "\n",
            "           7         8         9    ...       390       391       392  \\\n",
            "0     0.685283  0.902828  0.779791  ...  0.680259  0.009690  0.785984   \n",
            "1     0.967313  0.001125  0.053809  ...  0.752656  0.640662  0.007586   \n",
            "2     0.233757  0.259171  0.460746  ...  0.178368  0.352615  0.042844   \n",
            "3     0.661450  0.570052  0.003038  ...  0.403674  0.418413  0.484443   \n",
            "4     0.659838  0.671294  0.362254  ...  0.931840  0.526352  0.042913   \n",
            "...        ...       ...       ...  ...       ...       ...       ...   \n",
            "4995  0.518865  0.581054  0.011570  ...  0.142159  0.021803  0.638651   \n",
            "4996  0.454693  0.939626  0.545343  ...  0.582836  0.567284  0.234397   \n",
            "4997  0.616158  0.215296  0.159545  ...  0.760130  0.468748  0.555242   \n",
            "4998  0.123465  0.624679  0.814132  ...  0.201017  0.815269  0.227255   \n",
            "4999  0.718282  0.748994  0.639583  ...  0.398679  0.153408  0.464479   \n",
            "\n",
            "           393       394       395       396       397       398       399  \n",
            "0     0.447417  0.089940  0.270248  0.505532  0.647374  0.084195  0.992515  \n",
            "1     0.996297  0.541248  0.093499  0.639755  0.492986  0.667592  0.071857  \n",
            "2     0.759161  0.535647  0.375852  0.794763  0.179858  0.859088  0.513904  \n",
            "3     0.087617  0.165491  0.049751  0.668309  0.469844  0.096550  0.664360  \n",
            "4     0.786100  0.877636  0.191671  0.411807  0.988651  0.443315  0.979024  \n",
            "...        ...       ...       ...       ...       ...       ...       ...  \n",
            "4995  0.765222  0.747243  0.478794  0.604206  0.017026  0.122049  0.343287  \n",
            "4996  0.596398  0.905158  0.970499  0.843078  0.999241  0.177662  0.278757  \n",
            "4997  0.282341  0.757398  0.513744  0.063085  0.208574  0.878480  0.314130  \n",
            "4998  0.436439  0.492279  0.617097  0.644484  0.708921  0.482731  0.971823  \n",
            "4999  0.725853  0.756028  0.175110  0.238056  0.456641  0.977004  0.065609  \n",
            "\n",
            "[5000 rows x 400 columns]\n"
          ]
        }
      ]
    },
    {
      "cell_type": "code",
      "source": [
        "class gFunctions():\n",
        "  def __init__(self,x):\n",
        "    self.x = x\n",
        "  def sigmoid(self,x):\n",
        "    self.x = x\n",
        "    return (1/(1+np.exp(-self.x)))\n",
        "\n",
        "  def tanh(self,x):\n",
        "    self.x = x\n",
        "    return (np.exp(self.x) - np.exp(-self.x)) / (np.exp(self.x) + np.exp(-self.x))\n",
        "  \n",
        "  def relu(self,x):\n",
        "    self.x = x\n",
        "    return np.max(0,self.x)\n",
        "  \n",
        "  def softmax(self,n,x):\n",
        "    self.x = x\n",
        "    sum = 0\n",
        "    for i in self.x.shape():\n",
        "      sum += np.exp(self.x[i]) \n",
        "    return (np.exp(self.x[n])/sum)\n",
        "gFunction = gFunctions(train)"
      ],
      "metadata": {
        "id": "RPpeW1Q8EJV1"
      },
      "execution_count": null,
      "outputs": []
    },
    {
      "cell_type": "code",
      "source": [
        "def dense(a_in,W,B,g):\n",
        "  units = W.shape[1]\n",
        "  a_out = pd.DataFrame(np.random.randint(0,1,size=(5000, units)))\n",
        "  for j in range(units):\n",
        "    w = W.iloc[:,j]\n",
        "    z = np.dot(w,a_in) + b\n",
        "    a_out[j] = g(z.iloc[:,j])\n",
        "  return a_out"
      ],
      "metadata": {
        "id": "Fv2hZeOENpOu"
      },
      "execution_count": null,
      "outputs": []
    },
    {
      "cell_type": "code",
      "source": [
        "def sequential(X):\n",
        "   a_in = X\n",
        "   a1 = dense(a_in,w,b,gFunction.relu)\n",
        "   print(a1)\n",
        "   a2 = dense(a1,w1,b,gFunction.softmax)\n",
        "   return a2"
      ],
      "metadata": {
        "id": "j5wO9tDFUuFA"
      },
      "execution_count": null,
      "outputs": []
    },
    {
      "cell_type": "code",
      "source": [
        "sequential(train)"
      ],
      "metadata": {
        "colab": {
          "base_uri": "https://localhost:8080/",
          "height": 815
        },
        "id": "Uz8ZRjylVJE5",
        "outputId": "aa4589a5-470e-4d81-e1fb-59ea5e919dae"
      },
      "execution_count": null,
      "outputs": [
        {
          "output_type": "error",
          "ename": "TypeError",
          "evalue": "ignored",
          "traceback": [
            "\u001b[0;31m---------------------------------------------------------------------------\u001b[0m",
            "\u001b[0;31mTypeError\u001b[0m                                 Traceback (most recent call last)",
            "\u001b[0;32m<ipython-input-264-ae934ff0d595>\u001b[0m in \u001b[0;36m<module>\u001b[0;34m()\u001b[0m\n\u001b[0;32m----> 1\u001b[0;31m \u001b[0msequential\u001b[0m\u001b[0;34m(\u001b[0m\u001b[0mtrain\u001b[0m\u001b[0;34m)\u001b[0m\u001b[0;34m\u001b[0m\u001b[0;34m\u001b[0m\u001b[0m\n\u001b[0m",
            "\u001b[0;32m<ipython-input-263-7b80cf68f1c6>\u001b[0m in \u001b[0;36msequential\u001b[0;34m(X)\u001b[0m\n\u001b[1;32m      1\u001b[0m \u001b[0;32mdef\u001b[0m \u001b[0msequential\u001b[0m\u001b[0;34m(\u001b[0m\u001b[0mX\u001b[0m\u001b[0;34m)\u001b[0m\u001b[0;34m:\u001b[0m\u001b[0;34m\u001b[0m\u001b[0;34m\u001b[0m\u001b[0m\n\u001b[1;32m      2\u001b[0m    \u001b[0ma_in\u001b[0m \u001b[0;34m=\u001b[0m \u001b[0mX\u001b[0m\u001b[0;34m\u001b[0m\u001b[0;34m\u001b[0m\u001b[0m\n\u001b[0;32m----> 3\u001b[0;31m    \u001b[0ma1\u001b[0m \u001b[0;34m=\u001b[0m \u001b[0mdense\u001b[0m\u001b[0;34m(\u001b[0m\u001b[0ma_in\u001b[0m\u001b[0;34m,\u001b[0m\u001b[0mw\u001b[0m\u001b[0;34m,\u001b[0m\u001b[0mb\u001b[0m\u001b[0;34m,\u001b[0m\u001b[0mgFunction\u001b[0m\u001b[0;34m.\u001b[0m\u001b[0mrelu\u001b[0m\u001b[0;34m)\u001b[0m\u001b[0;34m\u001b[0m\u001b[0;34m\u001b[0m\u001b[0m\n\u001b[0m\u001b[1;32m      4\u001b[0m    \u001b[0mprint\u001b[0m\u001b[0;34m(\u001b[0m\u001b[0ma1\u001b[0m\u001b[0;34m)\u001b[0m\u001b[0;34m\u001b[0m\u001b[0;34m\u001b[0m\u001b[0m\n\u001b[1;32m      5\u001b[0m    \u001b[0ma2\u001b[0m \u001b[0;34m=\u001b[0m \u001b[0mdense\u001b[0m\u001b[0;34m(\u001b[0m\u001b[0ma1\u001b[0m\u001b[0;34m,\u001b[0m\u001b[0mw1\u001b[0m\u001b[0;34m,\u001b[0m\u001b[0mb\u001b[0m\u001b[0;34m,\u001b[0m\u001b[0mgFunction\u001b[0m\u001b[0;34m.\u001b[0m\u001b[0msoftmax\u001b[0m\u001b[0;34m)\u001b[0m\u001b[0;34m\u001b[0m\u001b[0;34m\u001b[0m\u001b[0m\n",
            "\u001b[0;32m<ipython-input-262-d9c2aeba5315>\u001b[0m in \u001b[0;36mdense\u001b[0;34m(a_in, W, B, g)\u001b[0m\n\u001b[1;32m      5\u001b[0m     \u001b[0mw\u001b[0m \u001b[0;34m=\u001b[0m \u001b[0mW\u001b[0m\u001b[0;34m.\u001b[0m\u001b[0miloc\u001b[0m\u001b[0;34m[\u001b[0m\u001b[0;34m:\u001b[0m\u001b[0;34m,\u001b[0m\u001b[0mj\u001b[0m\u001b[0;34m]\u001b[0m\u001b[0;34m\u001b[0m\u001b[0;34m\u001b[0m\u001b[0m\n\u001b[1;32m      6\u001b[0m     \u001b[0mz\u001b[0m \u001b[0;34m=\u001b[0m \u001b[0mnp\u001b[0m\u001b[0;34m.\u001b[0m\u001b[0mdot\u001b[0m\u001b[0;34m(\u001b[0m\u001b[0mw\u001b[0m\u001b[0;34m,\u001b[0m\u001b[0ma_in\u001b[0m\u001b[0;34m)\u001b[0m \u001b[0;34m+\u001b[0m \u001b[0mb\u001b[0m\u001b[0;34m\u001b[0m\u001b[0;34m\u001b[0m\u001b[0m\n\u001b[0;32m----> 7\u001b[0;31m     \u001b[0ma_out\u001b[0m\u001b[0;34m[\u001b[0m\u001b[0mj\u001b[0m\u001b[0;34m]\u001b[0m \u001b[0;34m=\u001b[0m \u001b[0mg\u001b[0m\u001b[0;34m(\u001b[0m\u001b[0mz\u001b[0m\u001b[0;34m.\u001b[0m\u001b[0miloc\u001b[0m\u001b[0;34m[\u001b[0m\u001b[0;34m:\u001b[0m\u001b[0;34m,\u001b[0m\u001b[0mj\u001b[0m\u001b[0;34m]\u001b[0m\u001b[0;34m)\u001b[0m\u001b[0;34m\u001b[0m\u001b[0;34m\u001b[0m\u001b[0m\n\u001b[0m\u001b[1;32m      8\u001b[0m   \u001b[0;32mreturn\u001b[0m \u001b[0ma_out\u001b[0m\u001b[0;34m\u001b[0m\u001b[0;34m\u001b[0m\u001b[0m\n",
            "\u001b[0;32m<ipython-input-261-2e5dea8ec161>\u001b[0m in \u001b[0;36mrelu\u001b[0;34m(self, x)\u001b[0m\n\u001b[1;32m     12\u001b[0m   \u001b[0;32mdef\u001b[0m \u001b[0mrelu\u001b[0m\u001b[0;34m(\u001b[0m\u001b[0mself\u001b[0m\u001b[0;34m,\u001b[0m\u001b[0mx\u001b[0m\u001b[0;34m)\u001b[0m\u001b[0;34m:\u001b[0m\u001b[0;34m\u001b[0m\u001b[0;34m\u001b[0m\u001b[0m\n\u001b[1;32m     13\u001b[0m     \u001b[0mself\u001b[0m\u001b[0;34m.\u001b[0m\u001b[0mx\u001b[0m \u001b[0;34m=\u001b[0m \u001b[0mx\u001b[0m\u001b[0;34m\u001b[0m\u001b[0;34m\u001b[0m\u001b[0m\n\u001b[0;32m---> 14\u001b[0;31m     \u001b[0;32mreturn\u001b[0m \u001b[0mnp\u001b[0m\u001b[0;34m.\u001b[0m\u001b[0mmax\u001b[0m\u001b[0;34m(\u001b[0m\u001b[0;36m0\u001b[0m\u001b[0;34m,\u001b[0m\u001b[0mself\u001b[0m\u001b[0;34m.\u001b[0m\u001b[0mx\u001b[0m\u001b[0;34m)\u001b[0m\u001b[0;34m\u001b[0m\u001b[0;34m\u001b[0m\u001b[0m\n\u001b[0m\u001b[1;32m     15\u001b[0m \u001b[0;34m\u001b[0m\u001b[0m\n\u001b[1;32m     16\u001b[0m   \u001b[0;32mdef\u001b[0m \u001b[0msoftmax\u001b[0m\u001b[0;34m(\u001b[0m\u001b[0mself\u001b[0m\u001b[0;34m,\u001b[0m\u001b[0mn\u001b[0m\u001b[0;34m,\u001b[0m\u001b[0mx\u001b[0m\u001b[0;34m)\u001b[0m\u001b[0;34m:\u001b[0m\u001b[0;34m\u001b[0m\u001b[0;34m\u001b[0m\u001b[0m\n",
            "\u001b[0;32m<__array_function__ internals>\u001b[0m in \u001b[0;36mamax\u001b[0;34m(*args, **kwargs)\u001b[0m\n",
            "\u001b[0;32m/usr/local/lib/python3.7/dist-packages/numpy/core/fromnumeric.py\u001b[0m in \u001b[0;36mamax\u001b[0;34m(a, axis, out, keepdims, initial, where)\u001b[0m\n\u001b[1;32m   2753\u001b[0m     \"\"\"\n\u001b[1;32m   2754\u001b[0m     return _wrapreduction(a, np.maximum, 'max', axis, None, out,\n\u001b[0;32m-> 2755\u001b[0;31m                           keepdims=keepdims, initial=initial, where=where)\n\u001b[0m\u001b[1;32m   2756\u001b[0m \u001b[0;34m\u001b[0m\u001b[0m\n\u001b[1;32m   2757\u001b[0m \u001b[0;34m\u001b[0m\u001b[0m\n",
            "\u001b[0;32m/usr/local/lib/python3.7/dist-packages/numpy/core/fromnumeric.py\u001b[0m in \u001b[0;36m_wrapreduction\u001b[0;34m(obj, ufunc, method, axis, dtype, out, **kwargs)\u001b[0m\n\u001b[1;32m     84\u001b[0m                 \u001b[0;32mreturn\u001b[0m \u001b[0mreduction\u001b[0m\u001b[0;34m(\u001b[0m\u001b[0maxis\u001b[0m\u001b[0;34m=\u001b[0m\u001b[0maxis\u001b[0m\u001b[0;34m,\u001b[0m \u001b[0mout\u001b[0m\u001b[0;34m=\u001b[0m\u001b[0mout\u001b[0m\u001b[0;34m,\u001b[0m \u001b[0;34m**\u001b[0m\u001b[0mpasskwargs\u001b[0m\u001b[0;34m)\u001b[0m\u001b[0;34m\u001b[0m\u001b[0;34m\u001b[0m\u001b[0m\n\u001b[1;32m     85\u001b[0m \u001b[0;34m\u001b[0m\u001b[0m\n\u001b[0;32m---> 86\u001b[0;31m     \u001b[0;32mreturn\u001b[0m \u001b[0mufunc\u001b[0m\u001b[0;34m.\u001b[0m\u001b[0mreduce\u001b[0m\u001b[0;34m(\u001b[0m\u001b[0mobj\u001b[0m\u001b[0;34m,\u001b[0m \u001b[0maxis\u001b[0m\u001b[0;34m,\u001b[0m \u001b[0mdtype\u001b[0m\u001b[0;34m,\u001b[0m \u001b[0mout\u001b[0m\u001b[0;34m,\u001b[0m \u001b[0;34m**\u001b[0m\u001b[0mpasskwargs\u001b[0m\u001b[0;34m)\u001b[0m\u001b[0;34m\u001b[0m\u001b[0;34m\u001b[0m\u001b[0m\n\u001b[0m\u001b[1;32m     87\u001b[0m \u001b[0;34m\u001b[0m\u001b[0m\n\u001b[1;32m     88\u001b[0m \u001b[0;34m\u001b[0m\u001b[0m\n",
            "\u001b[0;31mTypeError\u001b[0m: 'Series' object cannot be interpreted as an integer"
          ]
        }
      ]
    },
    {
      "cell_type": "code",
      "source": [
        ""
      ],
      "metadata": {
        "id": "pWipQWE-V6i2"
      },
      "execution_count": null,
      "outputs": []
    }
  ]
}