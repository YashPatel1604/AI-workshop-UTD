{
  "nbformat": 4,
  "nbformat_minor": 0,
  "metadata": {
    "colab": {
      "name": "HousingDataWithNueralNetworks.ipynb",
      "provenance": [],
      "collapsed_sections": [],
      "authorship_tag": "ABX9TyNlPoumUHRIhk4PiEWj9ejn",
      "include_colab_link": true
    },
    "kernelspec": {
      "name": "python3",
      "display_name": "Python 3"
    },
    "language_info": {
      "name": "python"
    }
  },
  "cells": [
    {
      "cell_type": "markdown",
      "metadata": {
        "id": "view-in-github",
        "colab_type": "text"
      },
      "source": [
        "<a href=\"https://colab.research.google.com/github/YashPatel1604/AI-workshop-UTD/blob/main/HousingDataWithNueralNetworks.ipynb\" target=\"_parent\"><img src=\"https://colab.research.google.com/assets/colab-badge.svg\" alt=\"Open In Colab\"/></a>"
      ]
    },
    {
      "cell_type": "code",
      "execution_count": 1,
      "metadata": {
        "id": "Wde-PBcXk1Cd"
      },
      "outputs": [],
      "source": [
        "import numpy as np\n",
        "import pandas as pd\n",
        "import matplotlib.pyplot as plt\n",
        "import tensorflow as tf\n",
        "from tensorflow import keras\n",
        "from tensorflow.keras import layers\n",
        "from keras.models import Sequential \n",
        "from keras.layers import Activation, Dense, Input \n"
      ]
    },
    {
      "cell_type": "code",
      "source": [
        "train = pd.read_csv('train.csv')\n",
        "test = pd.read_csv('test.csv')\n",
        "split_index = train.iloc[-1].Id\n",
        "na = train.isna().sum()\n",
        "print(na[na>0])\n",
        "print('----------')\n",
        "df = pd.concat((train,test),sort = False)\n",
        "df.set_index('Id',drop=True,inplace=True)"
      ],
      "metadata": {
        "colab": {
          "base_uri": "https://localhost:8080/"
        },
        "id": "pr3_Fg2TIkzs",
        "outputId": "15cf466d-a4d5-4b72-8b88-9f527c84daf7"
      },
      "execution_count": 2,
      "outputs": [
        {
          "output_type": "stream",
          "name": "stdout",
          "text": [
            "LotFrontage      259\n",
            "Alley           1369\n",
            "MasVnrType         8\n",
            "MasVnrArea         8\n",
            "BsmtQual          37\n",
            "BsmtCond          37\n",
            "BsmtExposure      38\n",
            "BsmtFinType1      37\n",
            "BsmtFinType2      38\n",
            "Electrical         1\n",
            "FireplaceQu      690\n",
            "GarageType        81\n",
            "GarageYrBlt       81\n",
            "GarageFinish      81\n",
            "GarageQual        81\n",
            "GarageCond        81\n",
            "PoolQC          1453\n",
            "Fence           1179\n",
            "MiscFeature     1406\n",
            "dtype: int64\n",
            "----------\n"
          ]
        }
      ]
    },
    {
      "cell_type": "code",
      "source": [
        "def removing(x):\n",
        "  \n",
        "  x.Alley.fillna('NA',inplace = True)\n",
        "  x.BsmtQual.fillna('NA',inplace = True)\n",
        "  x.BsmtCond.fillna('NA',inplace = True)\n",
        "  x.BsmtExposure.fillna('NA',inplace = True)\n",
        "  x.BsmtFinType1.fillna('NA',inplace = True)\n",
        "  x.BsmtFinType2.fillna('NA',inplace = True)\n",
        "  x.FireplaceQu.fillna('NA',inplace = True)\n",
        "  x.GarageType.fillna('NA',inplace = True)\n",
        "  x.GarageFinish.fillna('NA',inplace = True)\n",
        "  x.GarageQual.fillna('NA',inplace = True)\n",
        "  x.GarageCond.fillna('NA',inplace = True)\n",
        "  x.PoolQC.fillna('NA',inplace = True)\n",
        "  x.Fence.fillna('NA',inplace = True)\n",
        "  x.MiscFeature.fillna('NA',inplace = True)\n",
        "\n",
        "  x.drop_duplicates(subset=None, keep='first', inplace=False, ignore_index=False)\n",
        "  # x.drop(['Alley','PoolQC','Fence','MiscFeature'],axis = 1,inplace = True)\n",
        "  columns = x.columns.values\n",
        "  GarageNull = pd.DataFrame(x['GarageYrBlt'].isnull().values)\n",
        "  for y in GarageNull:\n",
        "    yin = GarageNull.index\n",
        "    x['GarageYrBlt'].iloc[yin] = (x['YearBuilt'].iloc[yin])\n",
        "  for column in columns:\n",
        "    if x[column].dtype != np.int64 and x[column].dtype != np.float64:\n",
        "      if x[column].isna().sum()>200:\n",
        "        x[column].fillna(value ='No Feature',inplace = True)\n",
        "      else:\n",
        "        x[column].fillna(value=x[column].mode(),inplace=True)\n",
        "    else:\n",
        "      x[column].fillna(value = x[column].mean(),inplace = True)\n",
        "\n",
        "def handle_non_numerical_data(df):\n",
        "    columns = df.columns.values\n",
        "    for column in columns:\n",
        "        text_digit_vals = {}\n",
        "        def convert_to_int(val):\n",
        "            return text_digit_vals[val]\n",
        "\n",
        "        if df[column].dtype != np.int64 and df[column].dtype != np.float64:\n",
        "            column_contents = df[column].values.tolist()\n",
        "            unique_elements = set(column_contents)\n",
        "            x = 0\n",
        "            for unique in unique_elements:\n",
        "                if unique not in text_digit_vals:\n",
        "                    text_digit_vals[unique] = str(x)\n",
        "                    x+=1\n",
        "\n",
        "            df[column] = list(map(convert_to_int, df[column]))\n",
        "def main(df):\n",
        "  removing(df)\n",
        "  handle_non_numerical_data(df)\n",
        "  # one_hot_encoding(df)\n",
        "\n",
        "def add_missing_dummy_columns(test,train):\n",
        "  missing_cols = set(train.columns) - set(test.columns)\n",
        "  missing_cols2 = set(test.columns) - set(train.columns)\n",
        "  for c in missing_cols:\n",
        "    test[c] = 0\n",
        "\n",
        "  for c in missing_cols2:\n",
        "    train[c] = 0"
      ],
      "metadata": {
        "id": "Wa55qzyOIwGZ"
      },
      "execution_count": 3,
      "outputs": []
    },
    {
      "cell_type": "code",
      "source": [
        "main(df)"
      ],
      "metadata": {
        "colab": {
          "base_uri": "https://localhost:8080/"
        },
        "id": "wU7_afeXIynD",
        "outputId": "b5d80213-e88c-407c-8695-8bcfba77a2c6"
      },
      "execution_count": 4,
      "outputs": [
        {
          "output_type": "stream",
          "name": "stderr",
          "text": [
            "/usr/local/lib/python3.7/dist-packages/pandas/core/indexing.py:1732: SettingWithCopyWarning: \n",
            "A value is trying to be set on a copy of a slice from a DataFrame\n",
            "\n",
            "See the caveats in the documentation: https://pandas.pydata.org/pandas-docs/stable/user_guide/indexing.html#returning-a-view-versus-a-copy\n",
            "  self._setitem_single_block(indexer, value, name)\n"
          ]
        }
      ]
    },
    {
      "cell_type": "code",
      "source": [
        "encoded_df = pd.get_dummies(df)"
      ],
      "metadata": {
        "id": "4T3NQszRIzwa"
      },
      "execution_count": 5,
      "outputs": []
    },
    {
      "cell_type": "code",
      "source": [
        "from sklearn.preprocessing import minmax_scale\n",
        "for column in encoded_df.columns:\n",
        "  if column != 'SalePrice':\n",
        "    encoded_df[column] = pd.Series(minmax_scale(encoded_df[column]),index=encoded_df.index)"
      ],
      "metadata": {
        "id": "bHBIiQaXI1Uc"
      },
      "execution_count": 6,
      "outputs": []
    },
    {
      "cell_type": "code",
      "source": [
        "from sklearn.preprocessing import MinMaxScaler\n",
        "target_col = encoded_df.loc[:split_index].SalePrice\n",
        "target_scaler = MinMaxScaler()\n",
        "Y = np.array(target_col.to_numpy())\n",
        "Y = Y.reshape(Y.size,1)\n",
        "target_scaler.fit(Y)\n",
        "Y = target_scaler.transform(Y)\n",
        "Y = Y.reshape(Y.size)\n",
        "encoded_df.drop('SalePrice',axis=1,inplace=True)"
      ],
      "metadata": {
        "id": "jIk6CK61SYFV"
      },
      "execution_count": 13,
      "outputs": []
    },
    {
      "cell_type": "code",
      "source": [
        "layer1 = Dense(units = 14,activation = 'sigmoid')\n",
        "layer2 = Dense(units = 3,activation = 'sigmoid')\n",
        "layer3= Dense(units = 4,activation = 'sigmoid')\n",
        "layer4=Dense(units = 1,activation='sigmoid')"
      ],
      "metadata": {
        "id": "L9zO-XNYI2nl"
      },
      "execution_count": 14,
      "outputs": []
    },
    {
      "cell_type": "code",
      "source": [
        "model = Sequential([layer1,layer2,layer3,layer4])"
      ],
      "metadata": {
        "id": "BalMB0HoJcaF"
      },
      "execution_count": 15,
      "outputs": []
    },
    {
      "cell_type": "code",
      "source": [
        "train_df = encoded_df.loc[:split_index]\n",
        "test_df = encoded_df.loc[split_index+1:]"
      ],
      "metadata": {
        "id": "WvMYa4K3SQjU"
      },
      "execution_count": 16,
      "outputs": []
    },
    {
      "cell_type": "code",
      "source": [
        "model.compile(optimizer='sgd', loss='mse')\n",
        "model.fit(train_df,Y,epochs = 100)"
      ],
      "metadata": {
        "colab": {
          "base_uri": "https://localhost:8080/"
        },
        "id": "mTvAPppKJ9QQ",
        "outputId": "f16228c2-23be-4b08-c5a5-7909fc9ed3af"
      },
      "execution_count": 17,
      "outputs": [
        {
          "output_type": "stream",
          "name": "stdout",
          "text": [
            "Epoch 1/100\n",
            "46/46 [==============================] - 1s 3ms/step - loss: 0.0352\n",
            "Epoch 2/100\n",
            "46/46 [==============================] - 0s 3ms/step - loss: 0.0309\n",
            "Epoch 3/100\n",
            "46/46 [==============================] - 0s 2ms/step - loss: 0.0275\n",
            "Epoch 4/100\n",
            "46/46 [==============================] - 0s 3ms/step - loss: 0.0248\n",
            "Epoch 5/100\n",
            "46/46 [==============================] - 0s 3ms/step - loss: 0.0227\n",
            "Epoch 6/100\n",
            "46/46 [==============================] - 0s 3ms/step - loss: 0.0210\n",
            "Epoch 7/100\n",
            "46/46 [==============================] - 0s 3ms/step - loss: 0.0195\n",
            "Epoch 8/100\n",
            "46/46 [==============================] - 0s 2ms/step - loss: 0.0184\n",
            "Epoch 9/100\n",
            "46/46 [==============================] - 0s 2ms/step - loss: 0.0174\n",
            "Epoch 10/100\n",
            "46/46 [==============================] - 0s 2ms/step - loss: 0.0166\n",
            "Epoch 11/100\n",
            "46/46 [==============================] - 0s 2ms/step - loss: 0.0160\n",
            "Epoch 12/100\n",
            "46/46 [==============================] - 0s 2ms/step - loss: 0.0154\n",
            "Epoch 13/100\n",
            "46/46 [==============================] - 0s 2ms/step - loss: 0.0150\n",
            "Epoch 14/100\n",
            "46/46 [==============================] - 0s 2ms/step - loss: 0.0146\n",
            "Epoch 15/100\n",
            "46/46 [==============================] - 0s 2ms/step - loss: 0.0142\n",
            "Epoch 16/100\n",
            "46/46 [==============================] - 0s 2ms/step - loss: 0.0139\n",
            "Epoch 17/100\n",
            "46/46 [==============================] - 0s 2ms/step - loss: 0.0137\n",
            "Epoch 18/100\n",
            "46/46 [==============================] - 0s 2ms/step - loss: 0.0135\n",
            "Epoch 19/100\n",
            "46/46 [==============================] - 0s 2ms/step - loss: 0.0133\n",
            "Epoch 20/100\n",
            "46/46 [==============================] - 0s 2ms/step - loss: 0.0131\n",
            "Epoch 21/100\n",
            "46/46 [==============================] - 0s 2ms/step - loss: 0.0130\n",
            "Epoch 22/100\n",
            "46/46 [==============================] - 0s 1ms/step - loss: 0.0129\n",
            "Epoch 23/100\n",
            "46/46 [==============================] - 0s 2ms/step - loss: 0.0128\n",
            "Epoch 24/100\n",
            "46/46 [==============================] - 0s 2ms/step - loss: 0.0127\n",
            "Epoch 25/100\n",
            "46/46 [==============================] - 0s 2ms/step - loss: 0.0126\n",
            "Epoch 26/100\n",
            "46/46 [==============================] - 0s 2ms/step - loss: 0.0126\n",
            "Epoch 27/100\n",
            "46/46 [==============================] - 0s 2ms/step - loss: 0.0125\n",
            "Epoch 28/100\n",
            "46/46 [==============================] - 0s 2ms/step - loss: 0.0124\n",
            "Epoch 29/100\n",
            "46/46 [==============================] - 0s 2ms/step - loss: 0.0124\n",
            "Epoch 30/100\n",
            "46/46 [==============================] - 0s 2ms/step - loss: 0.0124\n",
            "Epoch 31/100\n",
            "46/46 [==============================] - 0s 2ms/step - loss: 0.0123\n",
            "Epoch 32/100\n",
            "46/46 [==============================] - 0s 2ms/step - loss: 0.0123\n",
            "Epoch 33/100\n",
            "46/46 [==============================] - 0s 2ms/step - loss: 0.0123\n",
            "Epoch 34/100\n",
            "46/46 [==============================] - 0s 2ms/step - loss: 0.0122\n",
            "Epoch 35/100\n",
            "46/46 [==============================] - 0s 2ms/step - loss: 0.0122\n",
            "Epoch 36/100\n",
            "46/46 [==============================] - 0s 1ms/step - loss: 0.0122\n",
            "Epoch 37/100\n",
            "46/46 [==============================] - 0s 2ms/step - loss: 0.0122\n",
            "Epoch 38/100\n",
            "46/46 [==============================] - 0s 2ms/step - loss: 0.0122\n",
            "Epoch 39/100\n",
            "46/46 [==============================] - 0s 2ms/step - loss: 0.0122\n",
            "Epoch 40/100\n",
            "46/46 [==============================] - 0s 2ms/step - loss: 0.0121\n",
            "Epoch 41/100\n",
            "46/46 [==============================] - 0s 2ms/step - loss: 0.0121\n",
            "Epoch 42/100\n",
            "46/46 [==============================] - 0s 2ms/step - loss: 0.0121\n",
            "Epoch 43/100\n",
            "46/46 [==============================] - 0s 2ms/step - loss: 0.0121\n",
            "Epoch 44/100\n",
            "46/46 [==============================] - 0s 2ms/step - loss: 0.0121\n",
            "Epoch 45/100\n",
            "46/46 [==============================] - 0s 2ms/step - loss: 0.0121\n",
            "Epoch 46/100\n",
            "46/46 [==============================] - 0s 2ms/step - loss: 0.0121\n",
            "Epoch 47/100\n",
            "46/46 [==============================] - 0s 2ms/step - loss: 0.0121\n",
            "Epoch 48/100\n",
            "46/46 [==============================] - 0s 1ms/step - loss: 0.0121\n",
            "Epoch 49/100\n",
            "46/46 [==============================] - 0s 2ms/step - loss: 0.0121\n",
            "Epoch 50/100\n",
            "46/46 [==============================] - 0s 2ms/step - loss: 0.0121\n",
            "Epoch 51/100\n",
            "46/46 [==============================] - 0s 2ms/step - loss: 0.0121\n",
            "Epoch 52/100\n",
            "46/46 [==============================] - 0s 2ms/step - loss: 0.0121\n",
            "Epoch 53/100\n",
            "46/46 [==============================] - 0s 2ms/step - loss: 0.0121\n",
            "Epoch 54/100\n",
            "46/46 [==============================] - 0s 2ms/step - loss: 0.0121\n",
            "Epoch 55/100\n",
            "46/46 [==============================] - 0s 2ms/step - loss: 0.0121\n",
            "Epoch 56/100\n",
            "46/46 [==============================] - 0s 2ms/step - loss: 0.0121\n",
            "Epoch 57/100\n",
            "46/46 [==============================] - 0s 2ms/step - loss: 0.0121\n",
            "Epoch 58/100\n",
            "46/46 [==============================] - 0s 1ms/step - loss: 0.0121\n",
            "Epoch 59/100\n",
            "46/46 [==============================] - 0s 2ms/step - loss: 0.0121\n",
            "Epoch 60/100\n",
            "46/46 [==============================] - 0s 2ms/step - loss: 0.0121\n",
            "Epoch 61/100\n",
            "46/46 [==============================] - 0s 2ms/step - loss: 0.0121\n",
            "Epoch 62/100\n",
            "46/46 [==============================] - 0s 2ms/step - loss: 0.0121\n",
            "Epoch 63/100\n",
            "46/46 [==============================] - 0s 2ms/step - loss: 0.0121\n",
            "Epoch 64/100\n",
            "46/46 [==============================] - 0s 2ms/step - loss: 0.0121\n",
            "Epoch 65/100\n",
            "46/46 [==============================] - 0s 2ms/step - loss: 0.0121\n",
            "Epoch 66/100\n",
            "46/46 [==============================] - 0s 2ms/step - loss: 0.0121\n",
            "Epoch 67/100\n",
            "46/46 [==============================] - 0s 2ms/step - loss: 0.0120\n",
            "Epoch 68/100\n",
            "46/46 [==============================] - 0s 2ms/step - loss: 0.0120\n",
            "Epoch 69/100\n",
            "46/46 [==============================] - 0s 2ms/step - loss: 0.0120\n",
            "Epoch 70/100\n",
            "46/46 [==============================] - 0s 2ms/step - loss: 0.0120\n",
            "Epoch 71/100\n",
            "46/46 [==============================] - 0s 2ms/step - loss: 0.0120\n",
            "Epoch 72/100\n",
            "46/46 [==============================] - 0s 2ms/step - loss: 0.0120\n",
            "Epoch 73/100\n",
            "46/46 [==============================] - 0s 2ms/step - loss: 0.0120\n",
            "Epoch 74/100\n",
            "46/46 [==============================] - 0s 2ms/step - loss: 0.0120\n",
            "Epoch 75/100\n",
            "46/46 [==============================] - 0s 2ms/step - loss: 0.0120\n",
            "Epoch 76/100\n",
            "46/46 [==============================] - 0s 2ms/step - loss: 0.0120\n",
            "Epoch 77/100\n",
            "46/46 [==============================] - 0s 2ms/step - loss: 0.0120\n",
            "Epoch 78/100\n",
            "46/46 [==============================] - 0s 2ms/step - loss: 0.0120\n",
            "Epoch 79/100\n",
            "46/46 [==============================] - 0s 2ms/step - loss: 0.0120\n",
            "Epoch 80/100\n",
            "46/46 [==============================] - 0s 2ms/step - loss: 0.0120\n",
            "Epoch 81/100\n",
            "46/46 [==============================] - 0s 2ms/step - loss: 0.0120\n",
            "Epoch 82/100\n",
            "46/46 [==============================] - 0s 2ms/step - loss: 0.0120\n",
            "Epoch 83/100\n",
            "46/46 [==============================] - 0s 2ms/step - loss: 0.0120\n",
            "Epoch 84/100\n",
            "46/46 [==============================] - 0s 2ms/step - loss: 0.0120\n",
            "Epoch 85/100\n",
            "46/46 [==============================] - 0s 2ms/step - loss: 0.0120\n",
            "Epoch 86/100\n",
            "46/46 [==============================] - 0s 1ms/step - loss: 0.0120\n",
            "Epoch 87/100\n",
            "46/46 [==============================] - 0s 2ms/step - loss: 0.0120\n",
            "Epoch 88/100\n",
            "46/46 [==============================] - 0s 2ms/step - loss: 0.0120\n",
            "Epoch 89/100\n",
            "46/46 [==============================] - 0s 2ms/step - loss: 0.0120\n",
            "Epoch 90/100\n",
            "46/46 [==============================] - 0s 2ms/step - loss: 0.0120\n",
            "Epoch 91/100\n",
            "46/46 [==============================] - 0s 2ms/step - loss: 0.0120\n",
            "Epoch 92/100\n",
            "46/46 [==============================] - 0s 2ms/step - loss: 0.0120\n",
            "Epoch 93/100\n",
            "46/46 [==============================] - 0s 2ms/step - loss: 0.0120\n",
            "Epoch 94/100\n",
            "46/46 [==============================] - 0s 2ms/step - loss: 0.0120\n",
            "Epoch 95/100\n",
            "46/46 [==============================] - 0s 2ms/step - loss: 0.0120\n",
            "Epoch 96/100\n",
            "46/46 [==============================] - 0s 1ms/step - loss: 0.0120\n",
            "Epoch 97/100\n",
            "46/46 [==============================] - 0s 2ms/step - loss: 0.0120\n",
            "Epoch 98/100\n",
            "46/46 [==============================] - 0s 2ms/step - loss: 0.0120\n",
            "Epoch 99/100\n",
            "46/46 [==============================] - 0s 2ms/step - loss: 0.0120\n",
            "Epoch 100/100\n",
            "46/46 [==============================] - 0s 2ms/step - loss: 0.0120\n"
          ]
        },
        {
          "output_type": "execute_result",
          "data": {
            "text/plain": [
              "<keras.callbacks.History at 0x7f048aa87c50>"
            ]
          },
          "metadata": {},
          "execution_count": 17
        }
      ]
    },
    {
      "cell_type": "code",
      "source": [
        "y_pred = model.predict(test_df)"
      ],
      "metadata": {
        "id": "h0erxnftKUzC"
      },
      "execution_count": 18,
      "outputs": []
    },
    {
      "cell_type": "code",
      "source": [
        "final=target_scaler.inverse_transform(y_pred.reshape(-1,1))"
      ],
      "metadata": {
        "id": "qcwjaIqRKyzz"
      },
      "execution_count": 19,
      "outputs": []
    },
    {
      "cell_type": "code",
      "source": [
        "final"
      ],
      "metadata": {
        "colab": {
          "base_uri": "https://localhost:8080/"
        },
        "id": "RVlO8rqkSaPk",
        "outputId": "d2230d68-a82d-4e0c-c096-be5bf539da35"
      },
      "execution_count": 20,
      "outputs": [
        {
          "output_type": "execute_result",
          "data": {
            "text/plain": [
              "array([[180584.45],\n",
              "       [180449.45],\n",
              "       [181472.62],\n",
              "       ...,\n",
              "       [180154.05],\n",
              "       [180824.1 ],\n",
              "       [181348.17]], dtype=float32)"
            ]
          },
          "metadata": {},
          "execution_count": 20
        }
      ]
    },
    {
      "cell_type": "code",
      "source": [
        "final.size"
      ],
      "metadata": {
        "colab": {
          "base_uri": "https://localhost:8080/"
        },
        "id": "DTZBOo5CU5Yk",
        "outputId": "ebdddaaf-5d3d-46b1-aa92-6ae0fbe31d90"
      },
      "execution_count": 21,
      "outputs": [
        {
          "output_type": "execute_result",
          "data": {
            "text/plain": [
              "1459"
            ]
          },
          "metadata": {},
          "execution_count": 21
        }
      ]
    },
    {
      "cell_type": "code",
      "source": [
        "final = final.flatten()"
      ],
      "metadata": {
        "id": "EiDYOyStTdgv"
      },
      "execution_count": 22,
      "outputs": []
    },
    {
      "cell_type": "code",
      "source": [
        "flat_list = [x for x in final]\n",
        "prediction = pd.DataFrame({'id': range(1461,2920),'SalePrice':flat_list})\n",
        "prediction.head()"
      ],
      "metadata": {
        "colab": {
          "base_uri": "https://localhost:8080/",
          "height": 206
        },
        "id": "6UwEBR6FTvR3",
        "outputId": "8ff6e8e0-49fb-4ba6-9190-4afcc62bc7f1"
      },
      "execution_count": 23,
      "outputs": [
        {
          "output_type": "execute_result",
          "data": {
            "text/plain": [
              "     id      SalePrice\n",
              "0  1461  180584.453125\n",
              "1  1462  180449.453125\n",
              "2  1463  181472.625000\n",
              "3  1464  182033.250000\n",
              "4  1465  181520.375000"
            ],
            "text/html": [
              "\n",
              "  <div id=\"df-16189d64-8e4b-4d6d-a001-fd8dbb1ae6e3\">\n",
              "    <div class=\"colab-df-container\">\n",
              "      <div>\n",
              "<style scoped>\n",
              "    .dataframe tbody tr th:only-of-type {\n",
              "        vertical-align: middle;\n",
              "    }\n",
              "\n",
              "    .dataframe tbody tr th {\n",
              "        vertical-align: top;\n",
              "    }\n",
              "\n",
              "    .dataframe thead th {\n",
              "        text-align: right;\n",
              "    }\n",
              "</style>\n",
              "<table border=\"1\" class=\"dataframe\">\n",
              "  <thead>\n",
              "    <tr style=\"text-align: right;\">\n",
              "      <th></th>\n",
              "      <th>id</th>\n",
              "      <th>SalePrice</th>\n",
              "    </tr>\n",
              "  </thead>\n",
              "  <tbody>\n",
              "    <tr>\n",
              "      <th>0</th>\n",
              "      <td>1461</td>\n",
              "      <td>180584.453125</td>\n",
              "    </tr>\n",
              "    <tr>\n",
              "      <th>1</th>\n",
              "      <td>1462</td>\n",
              "      <td>180449.453125</td>\n",
              "    </tr>\n",
              "    <tr>\n",
              "      <th>2</th>\n",
              "      <td>1463</td>\n",
              "      <td>181472.625000</td>\n",
              "    </tr>\n",
              "    <tr>\n",
              "      <th>3</th>\n",
              "      <td>1464</td>\n",
              "      <td>182033.250000</td>\n",
              "    </tr>\n",
              "    <tr>\n",
              "      <th>4</th>\n",
              "      <td>1465</td>\n",
              "      <td>181520.375000</td>\n",
              "    </tr>\n",
              "  </tbody>\n",
              "</table>\n",
              "</div>\n",
              "      <button class=\"colab-df-convert\" onclick=\"convertToInteractive('df-16189d64-8e4b-4d6d-a001-fd8dbb1ae6e3')\"\n",
              "              title=\"Convert this dataframe to an interactive table.\"\n",
              "              style=\"display:none;\">\n",
              "        \n",
              "  <svg xmlns=\"http://www.w3.org/2000/svg\" height=\"24px\"viewBox=\"0 0 24 24\"\n",
              "       width=\"24px\">\n",
              "    <path d=\"M0 0h24v24H0V0z\" fill=\"none\"/>\n",
              "    <path d=\"M18.56 5.44l.94 2.06.94-2.06 2.06-.94-2.06-.94-.94-2.06-.94 2.06-2.06.94zm-11 1L8.5 8.5l.94-2.06 2.06-.94-2.06-.94L8.5 2.5l-.94 2.06-2.06.94zm10 10l.94 2.06.94-2.06 2.06-.94-2.06-.94-.94-2.06-.94 2.06-2.06.94z\"/><path d=\"M17.41 7.96l-1.37-1.37c-.4-.4-.92-.59-1.43-.59-.52 0-1.04.2-1.43.59L10.3 9.45l-7.72 7.72c-.78.78-.78 2.05 0 2.83L4 21.41c.39.39.9.59 1.41.59.51 0 1.02-.2 1.41-.59l7.78-7.78 2.81-2.81c.8-.78.8-2.07 0-2.86zM5.41 20L4 18.59l7.72-7.72 1.47 1.35L5.41 20z\"/>\n",
              "  </svg>\n",
              "      </button>\n",
              "      \n",
              "  <style>\n",
              "    .colab-df-container {\n",
              "      display:flex;\n",
              "      flex-wrap:wrap;\n",
              "      gap: 12px;\n",
              "    }\n",
              "\n",
              "    .colab-df-convert {\n",
              "      background-color: #E8F0FE;\n",
              "      border: none;\n",
              "      border-radius: 50%;\n",
              "      cursor: pointer;\n",
              "      display: none;\n",
              "      fill: #1967D2;\n",
              "      height: 32px;\n",
              "      padding: 0 0 0 0;\n",
              "      width: 32px;\n",
              "    }\n",
              "\n",
              "    .colab-df-convert:hover {\n",
              "      background-color: #E2EBFA;\n",
              "      box-shadow: 0px 1px 2px rgba(60, 64, 67, 0.3), 0px 1px 3px 1px rgba(60, 64, 67, 0.15);\n",
              "      fill: #174EA6;\n",
              "    }\n",
              "\n",
              "    [theme=dark] .colab-df-convert {\n",
              "      background-color: #3B4455;\n",
              "      fill: #D2E3FC;\n",
              "    }\n",
              "\n",
              "    [theme=dark] .colab-df-convert:hover {\n",
              "      background-color: #434B5C;\n",
              "      box-shadow: 0px 1px 3px 1px rgba(0, 0, 0, 0.15);\n",
              "      filter: drop-shadow(0px 1px 2px rgba(0, 0, 0, 0.3));\n",
              "      fill: #FFFFFF;\n",
              "    }\n",
              "  </style>\n",
              "\n",
              "      <script>\n",
              "        const buttonEl =\n",
              "          document.querySelector('#df-16189d64-8e4b-4d6d-a001-fd8dbb1ae6e3 button.colab-df-convert');\n",
              "        buttonEl.style.display =\n",
              "          google.colab.kernel.accessAllowed ? 'block' : 'none';\n",
              "\n",
              "        async function convertToInteractive(key) {\n",
              "          const element = document.querySelector('#df-16189d64-8e4b-4d6d-a001-fd8dbb1ae6e3');\n",
              "          const dataTable =\n",
              "            await google.colab.kernel.invokeFunction('convertToInteractive',\n",
              "                                                     [key], {});\n",
              "          if (!dataTable) return;\n",
              "\n",
              "          const docLinkHtml = 'Like what you see? Visit the ' +\n",
              "            '<a target=\"_blank\" href=https://colab.research.google.com/notebooks/data_table.ipynb>data table notebook</a>'\n",
              "            + ' to learn more about interactive tables.';\n",
              "          element.innerHTML = '';\n",
              "          dataTable['output_type'] = 'display_data';\n",
              "          await google.colab.output.renderOutput(dataTable, element);\n",
              "          const docLink = document.createElement('div');\n",
              "          docLink.innerHTML = docLinkHtml;\n",
              "          element.appendChild(docLink);\n",
              "        }\n",
              "      </script>\n",
              "    </div>\n",
              "  </div>\n",
              "  "
            ]
          },
          "metadata": {},
          "execution_count": 23
        }
      ]
    },
    {
      "cell_type": "code",
      "source": [
        "pd.DataFrame(prediction).to_csv(\"prediction_file.csv\",index = False)"
      ],
      "metadata": {
        "id": "uTRaaruDTw5A"
      },
      "execution_count": 24,
      "outputs": []
    },
    {
      "cell_type": "code",
      "source": [
        ""
      ],
      "metadata": {
        "id": "SrVxZgRjTyoY"
      },
      "execution_count": null,
      "outputs": []
    }
  ]
}