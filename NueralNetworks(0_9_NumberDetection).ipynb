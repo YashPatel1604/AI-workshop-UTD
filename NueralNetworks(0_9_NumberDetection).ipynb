{
  "nbformat": 4,
  "nbformat_minor": 0,
  "metadata": {
    "colab": {
      "name": "NueralNetworks(0-9 NumberDetection).ipynb",
      "provenance": [],
      "collapsed_sections": [],
      "authorship_tag": "ABX9TyNgdDPSjYn7ANFtUrsHEXqW",
      "include_colab_link": true
    },
    "kernelspec": {
      "name": "python3",
      "display_name": "Python 3"
    },
    "language_info": {
      "name": "python"
    }
  },
  "cells": [
    {
      "cell_type": "markdown",
      "metadata": {
        "id": "view-in-github",
        "colab_type": "text"
      },
      "source": [
        "<a href=\"https://colab.research.google.com/github/YashPatel1604/AI-workshop-UTD/blob/main/NueralNetworks(0_9_NumberDetection).ipynb\" target=\"_parent\"><img src=\"https://colab.research.google.com/assets/colab-badge.svg\" alt=\"Open In Colab\"/></a>"
      ]
    },
    {
      "cell_type": "code",
      "execution_count": 17,
      "metadata": {
        "id": "TKOwp1LfXNUe"
      },
      "outputs": [],
      "source": [
        "import numpy as np\n",
        "import matplotlib.pyplot as plt\n",
        "import tensorflow as tf\n",
        "from tensorflow import keras\n",
        "from tensorflow.keras.models import Sequential\n",
        "from tensorflow.keras.layers import Dense\n",
        "from tensorflow.keras.utils import to_categorical\n",
        "from sklearn.model_selection import train_test_split\n",
        "from sklearn.preprocessing import minmax_scale"
      ]
    },
    {
      "cell_type": "code",
      "source": [
        " X = np.load('X.npy')\n",
        " Y = np.load('y.npy')"
      ],
      "metadata": {
        "id": "yvOTGkgxX6d3"
      },
      "execution_count": 12,
      "outputs": []
    },
    {
      "cell_type": "code",
      "source": [
        "Y = to_categorical(Y)\n",
        "print(Y.shape)"
      ],
      "metadata": {
        "colab": {
          "base_uri": "https://localhost:8080/"
        },
        "id": "apkYNln-cwPo",
        "outputId": "93198c3b-95b3-45f7-8fcd-1ec4fc1bafa1"
      },
      "execution_count": 13,
      "outputs": [
        {
          "output_type": "stream",
          "name": "stdout",
          "text": [
            "(5000, 10)\n"
          ]
        }
      ]
    },
    {
      "cell_type": "code",
      "source": [
        "X = minmax_scale(X)"
      ],
      "metadata": {
        "id": "5LFLoDEEc2b1"
      },
      "execution_count": 14,
      "outputs": []
    },
    {
      "cell_type": "code",
      "source": [
        "X_train,X_test,Y_train,Y_test = train_test_split(X,Y)"
      ],
      "metadata": {
        "id": "2nSA3p73dp8n"
      },
      "execution_count": 15,
      "outputs": []
    },
    {
      "cell_type": "code",
      "source": [
        "model = keras.Sequential()\n",
        "\n",
        "for i in range(8):\n",
        "  model.add(Dense(32,activation='relu'))\n",
        "\n",
        "model.add(Dense(10,activation='softmax'))\n",
        "model.compile(loss='categorical_crossentropy',optimizer='adam',metrics=['accuracy'])"
      ],
      "metadata": {
        "id": "9C78ULQRdwhu"
      },
      "execution_count": 23,
      "outputs": []
    },
    {
      "cell_type": "code",
      "source": [
        "model.fit(X_train,Y_train,epochs=100)"
      ],
      "metadata": {
        "colab": {
          "base_uri": "https://localhost:8080/"
        },
        "id": "RMI0Ji2UeFEP",
        "outputId": "10c8ec1c-547d-4579-c587-50f6541c73f2"
      },
      "execution_count": 34,
      "outputs": [
        {
          "output_type": "stream",
          "name": "stdout",
          "text": [
            "Epoch 1/100\n",
            "118/118 [==============================] - 0s 2ms/step - loss: 0.0431 - accuracy: 0.9869\n",
            "Epoch 2/100\n",
            "118/118 [==============================] - 0s 2ms/step - loss: 0.0490 - accuracy: 0.9829\n",
            "Epoch 3/100\n",
            "118/118 [==============================] - 0s 2ms/step - loss: 0.0694 - accuracy: 0.9784\n",
            "Epoch 4/100\n",
            "118/118 [==============================] - 0s 2ms/step - loss: 0.0376 - accuracy: 0.9896\n",
            "Epoch 5/100\n",
            "118/118 [==============================] - 0s 2ms/step - loss: 0.0516 - accuracy: 0.9821\n",
            "Epoch 6/100\n",
            "118/118 [==============================] - 0s 2ms/step - loss: 0.0423 - accuracy: 0.9864\n",
            "Epoch 7/100\n",
            "118/118 [==============================] - 0s 2ms/step - loss: 0.0451 - accuracy: 0.9840\n",
            "Epoch 8/100\n",
            "118/118 [==============================] - 0s 2ms/step - loss: 0.0627 - accuracy: 0.9819\n",
            "Epoch 9/100\n",
            "118/118 [==============================] - 0s 3ms/step - loss: 0.0432 - accuracy: 0.9851\n",
            "Epoch 10/100\n",
            "118/118 [==============================] - 0s 2ms/step - loss: 0.1012 - accuracy: 0.9685\n",
            "Epoch 11/100\n",
            "118/118 [==============================] - 0s 2ms/step - loss: 0.0217 - accuracy: 0.9928\n",
            "Epoch 12/100\n",
            "118/118 [==============================] - 0s 2ms/step - loss: 0.0186 - accuracy: 0.9944\n",
            "Epoch 13/100\n",
            "118/118 [==============================] - 0s 2ms/step - loss: 0.0128 - accuracy: 0.9965\n",
            "Epoch 14/100\n",
            "118/118 [==============================] - 0s 2ms/step - loss: 0.0301 - accuracy: 0.9907\n",
            "Epoch 15/100\n",
            "118/118 [==============================] - 0s 2ms/step - loss: 0.0495 - accuracy: 0.9843\n",
            "Epoch 16/100\n",
            "118/118 [==============================] - 0s 2ms/step - loss: 0.0651 - accuracy: 0.9808\n",
            "Epoch 17/100\n",
            "118/118 [==============================] - 0s 2ms/step - loss: 0.0511 - accuracy: 0.9840\n",
            "Epoch 18/100\n",
            "118/118 [==============================] - 0s 2ms/step - loss: 0.0342 - accuracy: 0.9909\n",
            "Epoch 19/100\n",
            "118/118 [==============================] - 0s 2ms/step - loss: 0.0260 - accuracy: 0.9920\n",
            "Epoch 20/100\n",
            "118/118 [==============================] - 0s 2ms/step - loss: 0.0398 - accuracy: 0.9880\n",
            "Epoch 21/100\n",
            "118/118 [==============================] - 0s 2ms/step - loss: 0.0253 - accuracy: 0.9920\n",
            "Epoch 22/100\n",
            "118/118 [==============================] - 0s 2ms/step - loss: 0.0458 - accuracy: 0.9856\n",
            "Epoch 23/100\n",
            "118/118 [==============================] - 0s 2ms/step - loss: 0.0404 - accuracy: 0.9859\n",
            "Epoch 24/100\n",
            "118/118 [==============================] - 0s 2ms/step - loss: 0.0897 - accuracy: 0.9728\n",
            "Epoch 25/100\n",
            "118/118 [==============================] - 0s 2ms/step - loss: 0.0350 - accuracy: 0.9885\n",
            "Epoch 26/100\n",
            "118/118 [==============================] - 0s 2ms/step - loss: 0.0551 - accuracy: 0.9840\n",
            "Epoch 27/100\n",
            "118/118 [==============================] - 0s 2ms/step - loss: 0.0181 - accuracy: 0.9933\n",
            "Epoch 28/100\n",
            "118/118 [==============================] - 0s 2ms/step - loss: 0.0127 - accuracy: 0.9957\n",
            "Epoch 29/100\n",
            "118/118 [==============================] - 0s 2ms/step - loss: 0.0076 - accuracy: 0.9973\n",
            "Epoch 30/100\n",
            "118/118 [==============================] - 0s 2ms/step - loss: 0.0062 - accuracy: 0.9973\n",
            "Epoch 31/100\n",
            "118/118 [==============================] - 0s 2ms/step - loss: 0.0066 - accuracy: 0.9979\n",
            "Epoch 32/100\n",
            "118/118 [==============================] - 0s 2ms/step - loss: 0.0048 - accuracy: 0.9984\n",
            "Epoch 33/100\n",
            "118/118 [==============================] - 0s 2ms/step - loss: 0.0412 - accuracy: 0.9859\n",
            "Epoch 34/100\n",
            "118/118 [==============================] - 0s 2ms/step - loss: 0.0693 - accuracy: 0.9784\n",
            "Epoch 35/100\n",
            "118/118 [==============================] - 0s 2ms/step - loss: 0.0250 - accuracy: 0.9912\n",
            "Epoch 36/100\n",
            "118/118 [==============================] - 0s 2ms/step - loss: 0.0251 - accuracy: 0.9933\n",
            "Epoch 37/100\n",
            "118/118 [==============================] - 0s 2ms/step - loss: 0.0603 - accuracy: 0.9829\n",
            "Epoch 38/100\n",
            "118/118 [==============================] - 0s 2ms/step - loss: 0.0278 - accuracy: 0.9899\n",
            "Epoch 39/100\n",
            "118/118 [==============================] - 0s 2ms/step - loss: 0.0122 - accuracy: 0.9955\n",
            "Epoch 40/100\n",
            "118/118 [==============================] - 0s 2ms/step - loss: 0.0222 - accuracy: 0.9928\n",
            "Epoch 41/100\n",
            "118/118 [==============================] - 0s 2ms/step - loss: 0.0041 - accuracy: 0.9989\n",
            "Epoch 42/100\n",
            "118/118 [==============================] - 0s 2ms/step - loss: 0.0042 - accuracy: 0.9987\n",
            "Epoch 43/100\n",
            "118/118 [==============================] - 0s 2ms/step - loss: 0.0029 - accuracy: 0.9992\n",
            "Epoch 44/100\n",
            "118/118 [==============================] - 0s 2ms/step - loss: 0.0036 - accuracy: 0.9992\n",
            "Epoch 45/100\n",
            "118/118 [==============================] - 0s 3ms/step - loss: 0.0878 - accuracy: 0.9733\n",
            "Epoch 46/100\n",
            "118/118 [==============================] - 0s 2ms/step - loss: 0.0253 - accuracy: 0.9931\n",
            "Epoch 47/100\n",
            "118/118 [==============================] - 0s 2ms/step - loss: 0.0088 - accuracy: 0.9979\n",
            "Epoch 48/100\n",
            "118/118 [==============================] - 0s 2ms/step - loss: 0.0067 - accuracy: 0.9976\n",
            "Epoch 49/100\n",
            "118/118 [==============================] - 0s 2ms/step - loss: 0.0121 - accuracy: 0.9952\n",
            "Epoch 50/100\n",
            "118/118 [==============================] - 0s 2ms/step - loss: 0.0383 - accuracy: 0.9909\n",
            "Epoch 51/100\n",
            "118/118 [==============================] - 0s 2ms/step - loss: 0.0403 - accuracy: 0.9877\n",
            "Epoch 52/100\n",
            "118/118 [==============================] - 0s 2ms/step - loss: 0.0461 - accuracy: 0.9883\n",
            "Epoch 53/100\n",
            "118/118 [==============================] - 0s 2ms/step - loss: 0.0487 - accuracy: 0.9853\n",
            "Epoch 54/100\n",
            "118/118 [==============================] - 0s 2ms/step - loss: 0.0089 - accuracy: 0.9971\n",
            "Epoch 55/100\n",
            "118/118 [==============================] - 0s 2ms/step - loss: 0.0026 - accuracy: 0.9995\n",
            "Epoch 56/100\n",
            "118/118 [==============================] - 0s 2ms/step - loss: 0.0016 - accuracy: 1.0000\n",
            "Epoch 57/100\n",
            "118/118 [==============================] - 0s 2ms/step - loss: 0.0012 - accuracy: 0.9997\n",
            "Epoch 58/100\n",
            "118/118 [==============================] - 0s 2ms/step - loss: 9.6385e-04 - accuracy: 1.0000\n",
            "Epoch 59/100\n",
            "118/118 [==============================] - 0s 2ms/step - loss: 7.7175e-04 - accuracy: 1.0000\n",
            "Epoch 60/100\n",
            "118/118 [==============================] - 0s 2ms/step - loss: 6.4897e-04 - accuracy: 1.0000\n",
            "Epoch 61/100\n",
            "118/118 [==============================] - 0s 2ms/step - loss: 5.6920e-04 - accuracy: 1.0000\n",
            "Epoch 62/100\n",
            "118/118 [==============================] - 0s 2ms/step - loss: 4.8736e-04 - accuracy: 1.0000\n",
            "Epoch 63/100\n",
            "118/118 [==============================] - 0s 2ms/step - loss: 4.4453e-04 - accuracy: 1.0000\n",
            "Epoch 64/100\n",
            "118/118 [==============================] - 0s 2ms/step - loss: 3.9196e-04 - accuracy: 1.0000\n",
            "Epoch 65/100\n",
            "118/118 [==============================] - 0s 2ms/step - loss: 3.0651e-04 - accuracy: 1.0000\n",
            "Epoch 66/100\n",
            "118/118 [==============================] - 0s 2ms/step - loss: 2.6432e-04 - accuracy: 1.0000\n",
            "Epoch 67/100\n",
            "118/118 [==============================] - 0s 2ms/step - loss: 2.2105e-04 - accuracy: 1.0000\n",
            "Epoch 68/100\n",
            "118/118 [==============================] - 0s 2ms/step - loss: 1.9331e-04 - accuracy: 1.0000\n",
            "Epoch 69/100\n",
            "118/118 [==============================] - 0s 2ms/step - loss: 1.6287e-04 - accuracy: 1.0000\n",
            "Epoch 70/100\n",
            "118/118 [==============================] - 0s 2ms/step - loss: 1.3698e-04 - accuracy: 1.0000\n",
            "Epoch 71/100\n",
            "118/118 [==============================] - 0s 2ms/step - loss: 1.1873e-04 - accuracy: 1.0000\n",
            "Epoch 72/100\n",
            "118/118 [==============================] - 0s 2ms/step - loss: 1.0658e-04 - accuracy: 1.0000\n",
            "Epoch 73/100\n",
            "118/118 [==============================] - 0s 2ms/step - loss: 9.8711e-05 - accuracy: 1.0000\n",
            "Epoch 74/100\n",
            "118/118 [==============================] - 0s 2ms/step - loss: 8.6990e-05 - accuracy: 1.0000\n",
            "Epoch 75/100\n",
            "118/118 [==============================] - 0s 2ms/step - loss: 7.8863e-05 - accuracy: 1.0000\n",
            "Epoch 76/100\n",
            "118/118 [==============================] - 0s 3ms/step - loss: 6.8701e-05 - accuracy: 1.0000\n",
            "Epoch 77/100\n",
            "118/118 [==============================] - 0s 2ms/step - loss: 6.6963e-05 - accuracy: 1.0000\n",
            "Epoch 78/100\n",
            "118/118 [==============================] - 0s 2ms/step - loss: 5.7599e-05 - accuracy: 1.0000\n",
            "Epoch 79/100\n",
            "118/118 [==============================] - 0s 2ms/step - loss: 5.1379e-05 - accuracy: 1.0000\n",
            "Epoch 80/100\n",
            "118/118 [==============================] - 0s 2ms/step - loss: 4.5740e-05 - accuracy: 1.0000\n",
            "Epoch 81/100\n",
            "118/118 [==============================] - 0s 3ms/step - loss: 4.2906e-05 - accuracy: 1.0000\n",
            "Epoch 82/100\n",
            "118/118 [==============================] - 0s 2ms/step - loss: 3.8559e-05 - accuracy: 1.0000\n",
            "Epoch 83/100\n",
            "118/118 [==============================] - 0s 2ms/step - loss: 3.5805e-05 - accuracy: 1.0000\n",
            "Epoch 84/100\n",
            "118/118 [==============================] - 0s 2ms/step - loss: 3.2905e-05 - accuracy: 1.0000\n",
            "Epoch 85/100\n",
            "118/118 [==============================] - 0s 2ms/step - loss: 3.0071e-05 - accuracy: 1.0000\n",
            "Epoch 86/100\n",
            "118/118 [==============================] - 0s 2ms/step - loss: 2.7063e-05 - accuracy: 1.0000\n",
            "Epoch 87/100\n",
            "118/118 [==============================] - 0s 2ms/step - loss: 2.4839e-05 - accuracy: 1.0000\n",
            "Epoch 88/100\n",
            "118/118 [==============================] - 0s 2ms/step - loss: 2.3360e-05 - accuracy: 1.0000\n",
            "Epoch 89/100\n",
            "118/118 [==============================] - 0s 2ms/step - loss: 2.1621e-05 - accuracy: 1.0000\n",
            "Epoch 90/100\n",
            "118/118 [==============================] - 0s 2ms/step - loss: 2.0209e-05 - accuracy: 1.0000\n",
            "Epoch 91/100\n",
            "118/118 [==============================] - 0s 2ms/step - loss: 1.8165e-05 - accuracy: 1.0000\n",
            "Epoch 92/100\n",
            "118/118 [==============================] - 0s 2ms/step - loss: 1.6893e-05 - accuracy: 1.0000\n",
            "Epoch 93/100\n",
            "118/118 [==============================] - 0s 2ms/step - loss: 1.5601e-05 - accuracy: 1.0000\n",
            "Epoch 94/100\n",
            "118/118 [==============================] - 0s 2ms/step - loss: 1.4496e-05 - accuracy: 1.0000\n",
            "Epoch 95/100\n",
            "118/118 [==============================] - 0s 2ms/step - loss: 1.3199e-05 - accuracy: 1.0000\n",
            "Epoch 96/100\n",
            "118/118 [==============================] - 0s 2ms/step - loss: 1.2240e-05 - accuracy: 1.0000\n",
            "Epoch 97/100\n",
            "118/118 [==============================] - 0s 2ms/step - loss: 1.1538e-05 - accuracy: 1.0000\n",
            "Epoch 98/100\n",
            "118/118 [==============================] - 0s 2ms/step - loss: 1.0418e-05 - accuracy: 1.0000\n",
            "Epoch 99/100\n",
            "118/118 [==============================] - 0s 3ms/step - loss: 9.8562e-06 - accuracy: 1.0000\n",
            "Epoch 100/100\n",
            "118/118 [==============================] - 0s 3ms/step - loss: 9.0188e-06 - accuracy: 1.0000\n"
          ]
        },
        {
          "output_type": "execute_result",
          "data": {
            "text/plain": [
              "<keras.callbacks.History at 0x7ffb20c240d0>"
            ]
          },
          "metadata": {},
          "execution_count": 34
        }
      ]
    },
    {
      "cell_type": "code",
      "source": [
        "print(model.metrics_names)"
      ],
      "metadata": {
        "colab": {
          "base_uri": "https://localhost:8080/"
        },
        "id": "aNVUn_eWe6zd",
        "outputId": "1f5e0050-27b9-429f-bb21-6e87bcbe9c26"
      },
      "execution_count": 35,
      "outputs": [
        {
          "output_type": "stream",
          "name": "stdout",
          "text": [
            "['loss', 'accuracy']\n"
          ]
        }
      ]
    },
    {
      "cell_type": "code",
      "source": [
        "model.evaluate(X_test,Y_test)"
      ],
      "metadata": {
        "colab": {
          "base_uri": "https://localhost:8080/"
        },
        "id": "fVaQx-NifQv8",
        "outputId": "8e9f0a2f-5856-4f72-c74f-fbde5b77e653"
      },
      "execution_count": 36,
      "outputs": [
        {
          "output_type": "stream",
          "name": "stdout",
          "text": [
            "40/40 [==============================] - 0s 2ms/step - loss: 0.9090 - accuracy: 0.9304\n"
          ]
        },
        {
          "output_type": "execute_result",
          "data": {
            "text/plain": [
              "[0.9090133905410767, 0.930400013923645]"
            ]
          },
          "metadata": {},
          "execution_count": 36
        }
      ]
    },
    {
      "cell_type": "code",
      "source": [
        "original_Y = np.load('y.npy')\n",
        "X = X.reshape(X.shape[0],20,20)\n",
        "n = 3\n",
        "\n",
        "for i in range(len(original_Y)):\n",
        "  if original_Y[i][0] == n and np.argmax(model.predict(np.array([X[i].reshape(400)]))[0]) != original_Y[i]:\n",
        "    print(np.argmax(model.predict(np.array([X[i].reshape(400)]))[0]))\n",
        "    plt.imshow(X[i].transpose(), cmap='gray')\n",
        "    break"
      ],
      "metadata": {
        "colab": {
          "base_uri": "https://localhost:8080/",
          "height": 282
        },
        "id": "LFw1i2IafXA0",
        "outputId": "d2e19395-f7d4-4853-cc6c-58ca5dfe157d"
      },
      "execution_count": 37,
      "outputs": [
        {
          "output_type": "stream",
          "name": "stdout",
          "text": [
            "7\n"
          ]
        },
        {
          "output_type": "display_data",
          "data": {
            "text/plain": [
              "<Figure size 432x288 with 1 Axes>"
            ],
            "image/png": "[encoded data removed]"
          },
          "metadata": {
            "needs_background": "light"
          }
        }
      ]
    },
    {
      "cell_type": "code",
      "source": [
        ""
      ],
      "metadata": {
        "id": "lJbb-mXBiKsp"
      },
      "execution_count": null,
      "outputs": []
    }
  ]
}