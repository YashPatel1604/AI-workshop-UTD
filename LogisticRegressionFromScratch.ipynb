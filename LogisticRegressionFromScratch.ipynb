{
  "nbformat": 4,
  "nbformat_minor": 0,
  "metadata": {
    "colab": {
      "name": "LogisticRegressionFromScratch.ipynb",
      "provenance": [],
      "collapsed_sections": [],
      "authorship_tag": "ABX9TyNbPH919xvp9BUxH9KK3Mhh",
      "include_colab_link": true
    },
    "kernelspec": {
      "name": "python3",
      "display_name": "Python 3"
    },
    "language_info": {
      "name": "python"
    }
  },
  "cells": [
    {
      "cell_type": "markdown",
      "metadata": {
        "id": "view-in-github",
        "colab_type": "text"
      },
      "source": [
        "<a href=\"https://colab.research.google.com/github/YashPatel1604/AI-workshop-UTD/blob/main/LogisticRegressionFromScratch.ipynb\" target=\"_parent\"><img src=\"https://colab.research.google.com/assets/colab-badge.svg\" alt=\"Open In Colab\"/></a>"
      ]
    },
    {
      "cell_type": "code",
      "execution_count": 44,
      "metadata": {
        "id": "p2s6yR-KGEAg"
      },
      "outputs": [],
      "source": [
        "import numpy as np"
      ]
    },
    {
      "cell_type": "code",
      "source": [
        "class LogisticRegression:\n",
        "    def __init__(self,x,y):      \n",
        "        self.intercept = np.ones((x.shape[0], 1))  \n",
        "        self.x = np.concatenate((self.intercept, x), axis=1)\n",
        "        self.weight = np.zeros(self.x.shape[1])\n",
        "        self.y = y\n",
        "         \n",
        "    #Sigmoid method\n",
        "    def sigmoid(self, x, weight):\n",
        "        z = np.dot(x, weight)\n",
        "        return 1 / (1 + np.exp(-z))\n",
        "     \n",
        "    #method to calculate the Loss\n",
        "    def loss(self, h, y):\n",
        "        return (-y * np.log(h) - (1 - y) * np.log(1 - h)).mean()\n",
        "     \n",
        "    #Method for calculating the gradients\n",
        "    def gradient_descent(self, X, h, y):\n",
        "        return np.dot(X.T, (h - y)) / y.shape[0]\n",
        " \n",
        "     \n",
        "    def fit(self, lr , iterations):\n",
        "        for i in range(iterations):\n",
        "            sigma = self.sigmoid(self.x, self.weight)\n",
        "             \n",
        "            loss = self.loss(sigma,self.y)\n",
        " \n",
        "            dW = self.gradient_descent(self.x , sigma, self.y)\n",
        "             \n",
        "            #Updating the weights\n",
        "            self.weight -= lr * dW\n",
        " \n",
        "        return print('fitted successfully to data')\n",
        "     \n",
        "    #Method to predict the class label.\n",
        "    def predict(self, x_new , treshold):\n",
        "        x_new = np.concatenate((self.intercept, x_new), axis=1)\n",
        "        result = self.sigmoid(x_new, self.weight)\n",
        "        result = result >= treshold\n",
        "        y_pred = np.zeros(result.shape[0])\n",
        "        for i in range(len(y_pred)):\n",
        "            if result[i] == True: \n",
        "                y_pred[i] = 1\n",
        "            else:\n",
        "                continue\n",
        "                 \n",
        "        return y_pred"
      ],
      "metadata": {
        "id": "25T0KxzBHaMo"
      },
      "execution_count": 46,
      "outputs": []
    },
    {
      "cell_type": "code",
      "source": [
        "from sklearn.datasets import load_breast_cancer\n",
        " \n",
        "#Loading the data\n",
        "data = load_breast_cancer()\n",
        " \n",
        "#Preparing the data\n",
        "x = data.data\n",
        "y = data.target\n",
        " \n",
        "#creating the class Object\n",
        "regressor = LogisticRegression(x,y)\n",
        " \n",
        "#\n",
        "regressor.fit(0.1 , 5000)\n",
        " \n",
        " \n",
        "y_pred = regressor.predict(x,0.5)\n",
        " \n",
        "print('accuracy -> {}'.format(sum(y_pred == y) / y.shape[0]))"
      ],
      "metadata": {
        "colab": {
          "base_uri": "https://localhost:8080/"
        },
        "id": "GT19jmMSK1hB",
        "outputId": "201ca46e-1cef-4bbc-f2f2-394aa1082ee3"
      },
      "execution_count": 49,
      "outputs": [
        {
          "output_type": "stream",
          "name": "stderr",
          "text": [
            "/usr/local/lib/python3.7/dist-packages/ipykernel_launcher.py:11: RuntimeWarning: overflow encountered in exp\n",
            "  # This is added back by InteractiveShellApp.init_path()\n",
            "/usr/local/lib/python3.7/dist-packages/ipykernel_launcher.py:15: RuntimeWarning: divide by zero encountered in log\n",
            "  from ipykernel import kernelapp as app\n",
            "/usr/local/lib/python3.7/dist-packages/ipykernel_launcher.py:15: RuntimeWarning: invalid value encountered in multiply\n",
            "  from ipykernel import kernelapp as app\n"
          ]
        },
        {
          "output_type": "stream",
          "name": "stdout",
          "text": [
            "fitted successfully to data\n",
            "accuracy -> 0.9226713532513181\n"
          ]
        }
      ]
    },
    {
      "cell_type": "code",
      "source": [
        ""
      ],
      "metadata": {
        "id": "C4EO5tamK3Hs"
      },
      "execution_count": 31,
      "outputs": []
    }
  ]
}