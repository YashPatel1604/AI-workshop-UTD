{
  "nbformat": 4,
  "nbformat_minor": 0,
  "metadata": {
    "colab": {
      "name": "tictactoe.ipynb",
      "provenance": [],
      "collapsed_sections": [],
      "authorship_tag": "ABX9TyOMrErVSh1KIY8uI26gWiLC",
      "include_colab_link": true
    },
    "kernelspec": {
      "name": "python3",
      "display_name": "Python 3"
    },
    "language_info": {
      "name": "python"
    }
  },
  "cells": [
    {
      "cell_type": "markdown",
      "metadata": {
        "id": "view-in-github",
        "colab_type": "text"
      },
      "source": [
        "<a href=\"https://colab.research.google.com/github/YashPatel1604/AI-workshop-UTD/blob/main/tictactoe.ipynb\" target=\"_parent\"><img src=\"https://colab.research.google.com/assets/colab-badge.svg\" alt=\"Open In Colab\"/></a>"
      ]
    },
    {
      "cell_type": "code",
      "execution_count": null,
      "metadata": {
        "id": "0QsgaPR8fwO_"
      },
      "outputs": [],
      "source": [
        "from IPython.display import clear_output\n",
        "\n",
        "def display_board(board):\n",
        "        clear_output(board)\n",
        "        print(board[1] + '|' + board[2] + '|' + board[3])\n",
        "        print('-----')\n",
        "        print(board[4] + '|' + board[5] + '|' + board[6])\n",
        "        print('-----')\n",
        "        print(board[7] + '|' + board[8] + '|' + board[9])"
      ]
    },
    {
      "cell_type": "code",
      "source": [
        "def player_input():\n",
        "    marker = ''\n",
        "    \n",
        "    while marker != 'X' and marker != 'O':\n",
        "        marker = input(\"Player 1, choose X or O: \").upper()\n",
        "            \n",
        "    if marker == 'X':\n",
        "        return(\"X\",\"O\")\n",
        "    else:\n",
        "        return(\"O\",\"X\")"
      ],
      "metadata": {
        "id": "diMFMbwTgDdc"
      },
      "execution_count": null,
      "outputs": []
    },
    {
      "cell_type": "code",
      "source": [
        "def place_marker(board, marker, position):\n",
        "    board[position] = marker"
      ],
      "metadata": {
        "id": "ocFmkrG7gEUU"
      },
      "execution_count": null,
      "outputs": []
    },
    {
      "cell_type": "code",
      "source": [
        "def win_check(board,mark):\n",
        "    return ((board[1] == board[2] == board[3] == mark) or\n",
        "    (board[4] == board[5] == board[6] == mark) or\n",
        "    (board[7] == board[8] == board[9] == mark) or\n",
        "    (board[1] == board[4] == board[7] == mark) or\n",
        "    (board[2] == board[5] == board[8] == mark) or\n",
        "    (board[3] == board[6] == board[9] == mark) or\n",
        "    (board[1] == board[5] == board[9] == mark) or\n",
        "    (board[3] == board[5] == board[7] == mark))"
      ],
      "metadata": {
        "id": "Sr4Yb_mSiRFR"
      },
      "execution_count": null,
      "outputs": []
    },
    {
      "cell_type": "code",
      "source": [
        "import random\n",
        "\n",
        "def choose_first():\n",
        "    \n",
        "    flip = random.randint(0,1)\n",
        "    if flip == 0:\n",
        "        return \"Player 1\"\n",
        "    else:\n",
        "        return \"Player 2\""
      ],
      "metadata": {
        "id": "rm4rfFodqiz-"
      },
      "execution_count": null,
      "outputs": []
    },
    {
      "cell_type": "code",
      "source": [
        "def space_check(board, position):\n",
        "    return board[position] == ' ' or board[position] == '1' or board[position] == '2' or board[position] == '3' or board[position] == '4' or board[position] == '5' or board[position] == '6' or board[position] == '7' or board[position] == '8' or board[position] == '9'"
      ],
      "metadata": {
        "id": "97k_XSjbiUSZ"
      },
      "execution_count": null,
      "outputs": []
    },
    {
      "cell_type": "code",
      "source": [
        "def full_board_check(board):\n",
        "    for i in range(1,10):\n",
        "        if space_check(board,i):\n",
        "            return False\n",
        "        \n",
        "    return True"
      ],
      "metadata": {
        "id": "0unZxm7tjMqW"
      },
      "execution_count": null,
      "outputs": []
    },
    {
      "cell_type": "code",
      "source": [
        "def player_choice(board):\n",
        "  position = 0\n",
        "  while position not in range(1,10) or not space_check(board,position) or type(position) != int:\n",
        "    try:\n",
        "      position = int(input('Choose a position(1-9): '))\n",
        "    except:\n",
        "      print(\"Input invalid\")\n",
        "      print(\"Please enter a number between 1-9.\")\n",
        "      continue\n",
        "\n",
        "  return position"
      ],
      "metadata": {
        "id": "JIk2nFEajhXI"
      },
      "execution_count": null,
      "outputs": []
    },
    {
      "cell_type": "code",
      "source": [
        "def replay():\n",
        "    \n",
        "    choice = input(\"Play again? Enter Yes or No\")\n",
        "    \n",
        "    return choice == \"Yes\""
      ],
      "metadata": {
        "id": "eFzOt0XpnTw8"
      },
      "execution_count": null,
      "outputs": []
    },
    {
      "cell_type": "code",
      "source": [
        "def game():\n",
        "  print(\"Welcome to tic tac toe\")\n",
        "  while True:\n",
        "    theBoard = [' ','1','2','3','4','5','6','7','8','9']\n",
        "    player1,player2 = player_input()\n",
        "    print(\"Player 1 input = \", player1)\n",
        "    print(\"Player 2 input = \", player2)\n",
        "    turn = choose_first()\n",
        "    print(turn + ' will go first')\n",
        "    game_start = input(\"Ready to start?(Y/N)\")\n",
        "    game_on = False\n",
        "    if(game_start.lower() == 'y'):\n",
        "      game_on = True\n",
        "    else:\n",
        "      game_on = False\n",
        "    while game_on:\n",
        "      if turn == 'Player 1':\n",
        "        print(\"Player 1 play\")\n",
        "        display_board(theBoard)\n",
        "        position = player_choice(theBoard)    \n",
        "        place_marker(theBoard,player1,position)\n",
        "\n",
        "        if win_check(theBoard, player1):\n",
        "                display_board(theBoard)\n",
        "                print('Congratulations! Player 1 has won the game!')\n",
        "                game_on = False\n",
        "        else:\n",
        "                if full_board_check(theBoard):\n",
        "                    display_board(theBoard)\n",
        "                    print('The game is a draw!')\n",
        "                    break\n",
        "                else:\n",
        "                    turn = 'Player 2'\n",
        "\n",
        "      else:\n",
        "            # Player2's turn.\n",
        "            print(\"Player 2 play\")\n",
        "            display_board(theBoard)\n",
        "            position = player_choice(theBoard)\n",
        "            place_marker(theBoard, player2, position)\n",
        "\n",
        "            if win_check(theBoard, player2):\n",
        "                display_board(theBoard)\n",
        "                print('Player 2 has won!')\n",
        "                game_on = False\n",
        "            else:\n",
        "                if full_board_check(theBoard):\n",
        "                    display_board(theBoard)\n",
        "                    print('The game is a draw!')\n",
        "                    break\n",
        "                else:\n",
        "                    turn = 'Player 1'\n",
        " \n",
        "    if not replay():\n",
        "      break"
      ],
      "metadata": {
        "id": "0Wx_FfI1kOGc"
      },
      "execution_count": null,
      "outputs": []
    },
    {
      "cell_type": "code",
      "source": [
        "game()"
      ],
      "metadata": {
        "id": "75DlAHZhk6d5"
      },
      "execution_count": null,
      "outputs": []
    },
    {
      "cell_type": "code",
      "source": [
        "\n"
      ],
      "metadata": {
        "id": "ef4z36ZPlDoz"
      },
      "execution_count": null,
      "outputs": []
    },
    {
      "cell_type": "code",
      "source": [
        ""
      ],
      "metadata": {
        "id": "t6KPty6Rl9MH"
      },
      "execution_count": null,
      "outputs": []
    }
  ]
}