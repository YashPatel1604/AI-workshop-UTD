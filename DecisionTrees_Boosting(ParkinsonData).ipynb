{
  "nbformat": 4,
  "nbformat_minor": 0,
  "metadata": {
    "colab": {
      "name": "DecisionTrees_Boosting(ParkinsonData).ipynb",
      "provenance": [],
      "collapsed_sections": [],
      "authorship_tag": "ABX9TyPbfAK3f/d4xbolmkHkQwV1",
      "include_colab_link": true
    },
    "kernelspec": {
      "name": "python3",
      "display_name": "Python 3"
    },
    "language_info": {
      "name": "python"
    }
  },
  "cells": [
    {
      "cell_type": "markdown",
      "metadata": {
        "id": "view-in-github",
        "colab_type": "text"
      },
      "source": [
        "<a href=\"https://colab.research.google.com/github/YashPatel1604/AI-workshop-UTD/blob/main/DecisionTrees_Boosting(ParkinsonData).ipynb\" target=\"_parent\"><img src=\"https://colab.research.google.com/assets/colab-badge.svg\" alt=\"Open In Colab\"/></a>"
      ]
    },
    {
      "cell_type": "code",
      "execution_count": 1,
      "metadata": {
        "id": "H89_Uj6L5IeA"
      },
      "outputs": [],
      "source": [
        "from sklearn import tree\n",
        "import numpy as np\n",
        "import pandas as pd\n",
        "from sklearn import preprocessing"
      ]
    },
    {
      "cell_type": "code",
      "source": [
        "train_park = pd.read_csv('park_train.data', header = None)\n",
        "test_park = pd.read_csv('park_test.data', header = None)\n",
        "vali_park = pd.read_csv('park_validation.data',header = None)"
      ],
      "metadata": {
        "id": "3CHggy4o5JSG"
      },
      "execution_count": 2,
      "outputs": []
    },
    {
      "cell_type": "code",
      "source": [
        "train_park = train_park.to_numpy()\n",
        "test_park = test_park.to_numpy()\n",
        "vali_park = vali_park.to_numpy()\n",
        "X_train = train_park[:,1:]\n",
        "Y_train = train_park[:,0]\n",
        "X_test = test_park[:,1:]\n",
        "Y_test = test_park[:,0]\n",
        "X_vali = vali_park[:,1:]\n",
        "Y_vali = vali_park[:,0]"
      ],
      "metadata": {
        "id": "44FOapGn5LP2"
      },
      "execution_count": 3,
      "outputs": []
    },
    {
      "cell_type": "code",
      "source": [
        "clf_park = tree.DecisionTreeClassifier(criterion = 'entropy',max_depth=3)"
      ],
      "metadata": {
        "id": "lIdWhKIC5VNs"
      },
      "execution_count": 4,
      "outputs": []
    },
    {
      "cell_type": "code",
      "source": [
        "clf_park = clf_park.fit(X_train, Y_train)"
      ],
      "metadata": {
        "id": "jm2bzqYp5WZp"
      },
      "execution_count": 5,
      "outputs": []
    },
    {
      "cell_type": "code",
      "source": [
        "clf_park.predict(X_vali)"
      ],
      "metadata": {
        "colab": {
          "base_uri": "https://localhost:8080/"
        },
        "id": "9y9T2Xgg5Xl9",
        "outputId": "83f92bb6-5132-4fa3-9bbd-3eaf1d716a27"
      },
      "execution_count": 6,
      "outputs": [
        {
          "output_type": "execute_result",
          "data": {
            "text/plain": [
              "array([1., 1., 0., 0., 1., 1., 1., 1., 0., 0., 1., 1., 1., 0., 1., 1., 0.,\n",
              "       1., 1., 0., 1., 0., 1., 1., 1., 1., 1., 0., 1., 1., 1., 1., 0., 1.,\n",
              "       0., 1., 1., 0., 1., 1., 1., 1., 1., 0., 1., 1., 1., 1., 1., 1., 1.,\n",
              "       0., 1., 1., 1., 1., 0., 1.])"
            ]
          },
          "metadata": {},
          "execution_count": 6
        }
      ]
    },
    {
      "cell_type": "code",
      "source": [
        "clf_park.score(X_test,Y_test)"
      ],
      "metadata": {
        "colab": {
          "base_uri": "https://localhost:8080/"
        },
        "id": "jxzlxSsZ5YuK",
        "outputId": "d27a33ab-7a91-4ee9-df89-39e3c18153cd"
      },
      "execution_count": 7,
      "outputs": [
        {
          "output_type": "execute_result",
          "data": {
            "text/plain": [
              "0.8135593220338984"
            ]
          },
          "metadata": {},
          "execution_count": 7
        }
      ]
    },
    {
      "cell_type": "code",
      "source": [
        "clf_park.score(X_vali,Y_vali)"
      ],
      "metadata": {
        "colab": {
          "base_uri": "https://localhost:8080/"
        },
        "id": "_B0QWGshwhOI",
        "outputId": "ce570a3e-06e9-41a9-a91b-b0e9acaa9672"
      },
      "execution_count": 36,
      "outputs": [
        {
          "output_type": "execute_result",
          "data": {
            "text/plain": [
              "0.9310344827586207"
            ]
          },
          "metadata": {},
          "execution_count": 36
        }
      ]
    },
    {
      "cell_type": "code",
      "source": [
        "from sklearn.ensemble import AdaBoostClassifier"
      ],
      "metadata": {
        "id": "RTTVvL185Z8O"
      },
      "execution_count": 8,
      "outputs": []
    },
    {
      "cell_type": "code",
      "source": [
        "abc = AdaBoostClassifier(n_estimators=256)\n",
        "abc.fit(X_train,Y_train)"
      ],
      "metadata": {
        "colab": {
          "base_uri": "https://localhost:8080/"
        },
        "id": "2UAQfMiE8J6I",
        "outputId": "7ac1c1c3-5945-4913-c174-a37f40972deb"
      },
      "execution_count": 9,
      "outputs": [
        {
          "output_type": "execute_result",
          "data": {
            "text/plain": [
              "AdaBoostClassifier(n_estimators=256)"
            ]
          },
          "metadata": {},
          "execution_count": 9
        }
      ]
    },
    {
      "cell_type": "code",
      "source": [
        "abc.score(X_test,Y_test)"
      ],
      "metadata": {
        "colab": {
          "base_uri": "https://localhost:8080/"
        },
        "id": "Ws0IXIhE8M4e",
        "outputId": "ee304c24-e235-4bd9-ec38-b491a8cf802b"
      },
      "execution_count": 10,
      "outputs": [
        {
          "output_type": "execute_result",
          "data": {
            "text/plain": [
              "0.8305084745762712"
            ]
          },
          "metadata": {},
          "execution_count": 10
        }
      ]
    },
    {
      "cell_type": "code",
      "source": [
        "from sklearn.svm import SVC\n",
        "from sklearn.ensemble import BaggingClassifier\n",
        "from sklearn.datasets import make_classification\n",
        "clf = BaggingClassifier(n_estimators=256, random_state=1).fit(X_train, Y_train)\n",
        "predict = clf.predict(X_vali)"
      ],
      "metadata": {
        "id": "5rvORRda-NMF"
      },
      "execution_count": 54,
      "outputs": []
    },
    {
      "cell_type": "code",
      "source": [
        "accuracy_count = 0\n",
        "for i in range(len(predict)):\n",
        "  if predict[i] == Y_vali[i]:\n",
        "    accuracy_count += 1\n",
        "  else:\n",
        "    pass\n",
        "accuracy_count/len(predict)*100"
      ],
      "metadata": {
        "id": "25XUksr7H0Fj",
        "colab": {
          "base_uri": "https://localhost:8080/"
        },
        "outputId": "b1ed5c3d-1982-4414-d7da-98fa0ad026c4"
      },
      "execution_count": 55,
      "outputs": [
        {
          "output_type": "execute_result",
          "data": {
            "text/plain": [
              "91.37931034482759"
            ]
          },
          "metadata": {},
          "execution_count": 55
        }
      ]
    },
    {
      "cell_type": "code",
      "source": [
        "clf.score(X_test,Y_test)"
      ],
      "metadata": {
        "colab": {
          "base_uri": "https://localhost:8080/"
        },
        "id": "8bEZ3X88vkce",
        "outputId": "4a4f0f51-feef-49af-a56a-d68f24c99135"
      },
      "execution_count": 56,
      "outputs": [
        {
          "output_type": "execute_result",
          "data": {
            "text/plain": [
              "0.864406779661017"
            ]
          },
          "metadata": {},
          "execution_count": 56
        }
      ]
    },
    {
      "cell_type": "code",
      "source": [
        ""
      ],
      "metadata": {
        "id": "n_AxNharx9J0"
      },
      "execution_count": null,
      "outputs": []
    }
  ]
}