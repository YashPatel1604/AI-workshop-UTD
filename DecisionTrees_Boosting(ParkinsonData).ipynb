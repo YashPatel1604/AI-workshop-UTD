{
  "nbformat": 4,
  "nbformat_minor": 0,
  "metadata": {
    "colab": {
      "name": "DecisionTrees_Boosting(ParkinsonData).ipynb",
      "provenance": [],
      "collapsed_sections": [],
      "authorship_tag": "ABX9TyPpXW7IJM99GVAVMJn/jpW5",
      "include_colab_link": true
    },
    "kernelspec": {
      "name": "python3",
      "display_name": "Python 3"
    },
    "language_info": {
      "name": "python"
    }
  },
  "cells": [
    {
      "cell_type": "markdown",
      "metadata": {
        "id": "view-in-github",
        "colab_type": "text"
      },
      "source": [
        "<a href=\"https://colab.research.google.com/github/YashPatel1604/AI-workshop-UTD/blob/main/DecisionTrees_Boosting(ParkinsonData).ipynb\" target=\"_parent\"><img src=\"https://colab.research.google.com/assets/colab-badge.svg\" alt=\"Open In Colab\"/></a>"
      ]
    },
    {
      "cell_type": "code",
      "execution_count": 1,
      "metadata": {
        "id": "H89_Uj6L5IeA"
      },
      "outputs": [],
      "source": [
        "from sklearn import tree\n",
        "import numpy as np\n",
        "import pandas as pd\n",
        "from sklearn import preprocessing"
      ]
    },
    {
      "cell_type": "code",
      "source": [
        "train_park = pd.read_csv('park_train.data', header = None)\n",
        "test_park = pd.read_csv('park_test.data', header = None)\n",
        "vali_park = pd.read_csv('park_validation.data',header = None)"
      ],
      "metadata": {
        "id": "3CHggy4o5JSG"
      },
      "execution_count": 2,
      "outputs": []
    },
    {
      "cell_type": "code",
      "source": [
        "train_park = train_park.to_numpy()\n",
        "test_park = test_park.to_numpy()\n",
        "vali_park = vali_park.to_numpy()\n",
        "X_train = train_park[:,1:]\n",
        "Y_train = train_park[:,0]\n",
        "X_test = test_park[:,1:]\n",
        "Y_test = test_park[:,0]\n",
        "X_vali = vali_park[:,1:]\n",
        "Y_vali = vali_park[:,0]"
      ],
      "metadata": {
        "id": "44FOapGn5LP2"
      },
      "execution_count": 3,
      "outputs": []
    },
    {
      "cell_type": "code",
      "source": [
        "clf_park = tree.DecisionTreeClassifier(criterion = 'entropy',max_depth=3)"
      ],
      "metadata": {
        "id": "lIdWhKIC5VNs"
      },
      "execution_count": 4,
      "outputs": []
    },
    {
      "cell_type": "code",
      "source": [
        "clf_park = clf_park.fit(X_train, Y_train)"
      ],
      "metadata": {
        "id": "jm2bzqYp5WZp"
      },
      "execution_count": 5,
      "outputs": []
    },
    {
      "cell_type": "code",
      "source": [
        "clf_park.predict(X_vali)"
      ],
      "metadata": {
        "colab": {
          "base_uri": "https://localhost:8080/"
        },
        "id": "9y9T2Xgg5Xl9",
        "outputId": "6dc3f1cb-1474-4ebf-89c9-46be5f61d03c"
      },
      "execution_count": 6,
      "outputs": [
        {
          "output_type": "execute_result",
          "data": {
            "text/plain": [
              "array([1., 1., 0., 0., 1., 1., 1., 1., 0., 0., 1., 1., 1., 0., 1., 1., 0.,\n",
              "       1., 1., 0., 1., 0., 1., 1., 1., 1., 1., 0., 1., 1., 1., 1., 0., 1.,\n",
              "       0., 1., 1., 0., 1., 1., 1., 1., 1., 0., 1., 1., 1., 1., 1., 1., 1.,\n",
              "       0., 1., 1., 1., 1., 0., 1.])"
            ]
          },
          "metadata": {},
          "execution_count": 6
        }
      ]
    },
    {
      "cell_type": "code",
      "source": [
        "clf_park.score(X_test,Y_test)"
      ],
      "metadata": {
        "colab": {
          "base_uri": "https://localhost:8080/"
        },
        "id": "jxzlxSsZ5YuK",
        "outputId": "5f84cb27-9b4b-4d6b-df40-b42010ba17a2"
      },
      "execution_count": 7,
      "outputs": [
        {
          "output_type": "execute_result",
          "data": {
            "text/plain": [
              "0.8135593220338984"
            ]
          },
          "metadata": {},
          "execution_count": 7
        }
      ]
    },
    {
      "cell_type": "code",
      "source": [
        "from sklearn.ensemble import AdaBoostClassifier"
      ],
      "metadata": {
        "id": "RTTVvL185Z8O"
      },
      "execution_count": 8,
      "outputs": []
    },
    {
      "cell_type": "code",
      "source": [
        "abc = AdaBoostClassifier(n_estimators=256)\n",
        "abc.fit(X_train,Y_train)"
      ],
      "metadata": {
        "colab": {
          "base_uri": "https://localhost:8080/"
        },
        "id": "2UAQfMiE8J6I",
        "outputId": "1195e547-f835-4050-fc6c-bd4780ac8f34"
      },
      "execution_count": 9,
      "outputs": [
        {
          "output_type": "execute_result",
          "data": {
            "text/plain": [
              "AdaBoostClassifier(n_estimators=256)"
            ]
          },
          "metadata": {},
          "execution_count": 9
        }
      ]
    },
    {
      "cell_type": "code",
      "source": [
        "abc.score(X_test,Y_test)"
      ],
      "metadata": {
        "colab": {
          "base_uri": "https://localhost:8080/"
        },
        "id": "Ws0IXIhE8M4e",
        "outputId": "9af06342-da64-4331-edc9-7cdfbb16b863"
      },
      "execution_count": 11,
      "outputs": [
        {
          "output_type": "execute_result",
          "data": {
            "text/plain": [
              "0.8305084745762712"
            ]
          },
          "metadata": {},
          "execution_count": 11
        }
      ]
    },
    {
      "cell_type": "code",
      "source": [
        ""
      ],
      "metadata": {
        "id": "5rvORRda-NMF"
      },
      "execution_count": null,
      "outputs": []
    }
  ]
}